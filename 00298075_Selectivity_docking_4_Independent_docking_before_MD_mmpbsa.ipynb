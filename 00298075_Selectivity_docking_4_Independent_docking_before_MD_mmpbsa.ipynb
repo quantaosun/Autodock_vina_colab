{
  "nbformat": 4,
  "nbformat_minor": 0,
  "metadata": {
    "kernelspec": {
      "display_name": "Python 3",
      "language": "python",
      "name": "py35-paddle1.2.0"
    },
    "language_info": {
      "codemirror_mode": {
        "name": "ipython",
        "version": 3
      },
      "file_extension": ".py",
      "mimetype": "text/x-python",
      "name": "python",
      "nbconvert_exporter": "python",
      "pygments_lexer": "ipython3",
      "version": "3.7.4"
    },
    "toc-autonumbering": true,
    "toc-showmarkdowntxt": false,
    "colab": {
      "name": "00298075_Selectivity_docking_4_Independent_docking_before_MD_mmpbsa.ipynb",
      "provenance": [],
      "background_execution": "on"
    },
    "accelerator": "GPU"
  },
  "cells": [
    {
      "cell_type": "markdown",
      "source": [
        "# This notebook is to address the selective binding of two small molecules towards two close related protein targets. by quantaosun@gmail.com, in Sydney,2022.\n",
        "\n",
        "First round docking > First round MD > second round docking > second round MD > MMGBSA(PBSA) > bing free energe estimation > Selectivity quantification."
      ],
      "metadata": {
        "id": "cPnHkicO7SKa"
      }
    },
    {
      "cell_type": "code",
      "source": [
        "!apt-get install vim"
      ],
      "metadata": {
        "id": "CHkBR85g0yfM"
      },
      "execution_count": null,
      "outputs": []
    },
    {
      "cell_type": "markdown",
      "source": [
        "# Copy ligand1 and ligand 2 smiles string from Chemdraw to here"
      ],
      "metadata": {
        "id": "z_INZb0Zy6_U"
      }
    },
    {
      "cell_type": "code",
      "source": [
        "#@title ### **Import Google Drive**\n",
        "#@markdown Click in the \"Run\" buttom to make your Google Drive accessible.\n",
        "from google.colab import drive\n",
        "\n",
        "drive.flush_and_unmount()\n",
        "drive.mount('/content/drive', force_remount=True)"
      ],
      "metadata": {
        "cellView": "form",
        "id": "2PLxRVG_1fpN"
      },
      "execution_count": null,
      "outputs": []
    },
    {
      "cell_type": "code",
      "source": [
        "#@title Install Conda Rdkit and Open Babel\n",
        "! wget https://repo.anaconda.com/miniconda/Miniconda3-py37_4.8.2-Linux-x86_64.sh\n",
        "! chmod +x Miniconda3-py37_4.8.2-Linux-x86_64.sh\n",
        "! bash ./Miniconda3-py37_4.8.2-Linux-x86_64.sh -b -f -p /usr/local &> /dev/null\n",
        "! conda install -c rdkit rdkit -y &> /dev/null\n",
        "!pip install py3Dmol\n",
        "!time conda install -q -y -c openbabel openbabel\n",
        "import sys\n",
        "sys.path.append('/usr/local/lib/python3.7/site-packages/')\n"
      ],
      "metadata": {
        "cellView": "form",
        "id": "scwdy76DyONk"
      },
      "execution_count": null,
      "outputs": []
    },
    {
      "cell_type": "code",
      "source": [
        "#@title Visualization before docking\n",
        "import sys\n",
        "sys.path.append('/usr/local/lib/python3.7/site-packages/')\n",
        "\n",
        "import sys\n",
        "from collections import defaultdict\n",
        "import numpy as np\n",
        "from rdkit import Chem\n",
        "from rdkit.Chem import AllChem\n",
        "from rdkit.Chem.Draw import IPythonConsole\n",
        "from rdkit.Chem import PandasTools\n",
        "import pandas as pd\n",
        "\n",
        "%pylab inline\n",
        "IPythonConsole.ipython_3d = True\n",
        "\n",
        "import py3Dmol\n",
        "import matplotlib.pyplot as plt\n",
        "import subprocess"
      ],
      "metadata": {
        "cellView": "form",
        "id": "HP0gaxapI-Tt",
        "outputId": "ce011753-19e3-430c-e005-23e8cc8e19ea",
        "colab": {
          "base_uri": "https://localhost:8080/"
        }
      },
      "execution_count": 5,
      "outputs": [
        {
          "output_type": "stream",
          "name": "stdout",
          "text": [
            "Populating the interactive namespace from numpy and matplotlib\n"
          ]
        }
      ]
    },
    {
      "cell_type": "code",
      "source": [
        "#@title Visualizatino of ligand 1\n",
        "smiles = \"c1ccccc1\" #@param {type:\"string\"}\n",
        "mol = Chem.MolFromSmiles(smiles) \n",
        "mol = Chem.AddHs(mol)\n",
        "AllChem.EmbedMolecule(mol)\n",
        "AllChem.MMFFOptimizeMolecule(mol)\n",
        "mol"
      ],
      "metadata": {
        "cellView": "form",
        "id": "J1pWtChmJipa",
        "colab": {
          "base_uri": "https://localhost:8080/",
          "height": 417
        },
        "outputId": "759bc50f-e2d0-428f-82fe-5fd153e2e31f"
      },
      "execution_count": 85,
      "outputs": [
        {
          "output_type": "display_data",
          "data": {
            "application/3dmoljs_load.v0": "<div id=\"3dmolviewer_1652520092159464\"  style=\"position: relative; width: 400px; height: 400px\">\n        <p id=\"3dmolwarning_1652520092159464\" style=\"background-color:#ffcccc;color:black\">You appear to be running in JupyterLab (or JavaScript failed to load for some other reason).  You need to install the 3dmol extension: <br>\n        <tt>jupyter labextension install jupyterlab_3dmol</tt></p>\n        </div>\n<script>\n\nvar loadScriptAsync = function(uri){\n  return new Promise((resolve, reject) => {\n    var tag = document.createElement('script');\n    tag.src = uri;\n    tag.async = true;\n    tag.onload = () => {\n      resolve();\n    };\n  var firstScriptTag = document.getElementsByTagName('script')[0];\n  firstScriptTag.parentNode.insertBefore(tag, firstScriptTag);\n});\n};\n\nif(typeof $3Dmolpromise === 'undefined') {\n$3Dmolpromise = null;\n  $3Dmolpromise = loadScriptAsync('https://3dmol.org/build/3Dmol.js');\n}\n\nvar viewer_1652520092159464 = null;\nvar warn = document.getElementById(\"3dmolwarning_1652520092159464\");\nif(warn) {\n    warn.parentNode.removeChild(warn);\n}\n$3Dmolpromise.then(function() {\nviewer_1652520092159464 = $3Dmol.createViewer($(\"#3dmolviewer_1652520092159464\"),{backgroundColor:\"white\"});\nviewer_1652520092159464.zoomTo();\n\tviewer_1652520092159464.removeAllModels();\n\tviewer_1652520092159464.addModel(\"\\n     RDKit          3D\\n\\n 12 12  0  0  0  0  0  0  0  0999 V2000\\n   -0.3013    1.3619   -0.0046 C   0  0  0  0  0  0  0  0  0  0  0  0\\n   -1.3301    0.4200   -0.0056 C   0  0  0  0  0  0  0  0  0  0  0  0\\n   -1.0288   -0.9419   -0.0010 C   0  0  0  0  0  0  0  0  0  0  0  0\\n    0.3013   -1.3619    0.0046 C   0  0  0  0  0  0  0  0  0  0  0  0\\n    1.3301   -0.4200    0.0056 C   0  0  0  0  0  0  0  0  0  0  0  0\\n    1.0288    0.9419    0.0010 C   0  0  0  0  0  0  0  0  0  0  0  0\\n   -0.5360    2.4230   -0.0082 H   0  0  0  0  0  0  0  0  0  0  0  0\\n   -2.3664    0.7472   -0.0100 H   0  0  0  0  0  0  0  0  0  0  0  0\\n   -1.8303   -1.6757   -0.0018 H   0  0  0  0  0  0  0  0  0  0  0  0\\n    0.5360   -2.4230    0.0082 H   0  0  0  0  0  0  0  0  0  0  0  0\\n    2.3664   -0.7472    0.0100 H   0  0  0  0  0  0  0  0  0  0  0  0\\n    1.8303    1.6757    0.0018 H   0  0  0  0  0  0  0  0  0  0  0  0\\n  1  2  2  0\\n  2  3  1  0\\n  3  4  2  0\\n  4  5  1  0\\n  5  6  2  0\\n  6  1  1  0\\n  1  7  1  0\\n  2  8  1  0\\n  3  9  1  0\\n  4 10  1  0\\n  5 11  1  0\\n  6 12  1  0\\nM  END\\n\",\"sdf\");\n\tviewer_1652520092159464.setStyle({\"stick\": {}});\n\tviewer_1652520092159464.setBackgroundColor(\"0xeeeeee\");\n\tviewer_1652520092159464.zoomTo();\nviewer_1652520092159464.render();\n});\n</script>",
            "text/html": [
              "<div id=\"3dmolviewer_1652520092159464\"  style=\"position: relative; width: 400px; height: 400px\">\n",
              "        <p id=\"3dmolwarning_1652520092159464\" style=\"background-color:#ffcccc;color:black\">You appear to be running in JupyterLab (or JavaScript failed to load for some other reason).  You need to install the 3dmol extension: <br>\n",
              "        <tt>jupyter labextension install jupyterlab_3dmol</tt></p>\n",
              "        </div>\n",
              "<script>\n",
              "\n",
              "var loadScriptAsync = function(uri){\n",
              "  return new Promise((resolve, reject) => {\n",
              "    var tag = document.createElement('script');\n",
              "    tag.src = uri;\n",
              "    tag.async = true;\n",
              "    tag.onload = () => {\n",
              "      resolve();\n",
              "    };\n",
              "  var firstScriptTag = document.getElementsByTagName('script')[0];\n",
              "  firstScriptTag.parentNode.insertBefore(tag, firstScriptTag);\n",
              "});\n",
              "};\n",
              "\n",
              "if(typeof $3Dmolpromise === 'undefined') {\n",
              "$3Dmolpromise = null;\n",
              "  $3Dmolpromise = loadScriptAsync('https://3dmol.org/build/3Dmol.js');\n",
              "}\n",
              "\n",
              "var viewer_1652520092159464 = null;\n",
              "var warn = document.getElementById(\"3dmolwarning_1652520092159464\");\n",
              "if(warn) {\n",
              "    warn.parentNode.removeChild(warn);\n",
              "}\n",
              "$3Dmolpromise.then(function() {\n",
              "viewer_1652520092159464 = $3Dmol.createViewer($(\"#3dmolviewer_1652520092159464\"),{backgroundColor:\"white\"});\n",
              "viewer_1652520092159464.zoomTo();\n",
              "\tviewer_1652520092159464.removeAllModels();\n",
              "\tviewer_1652520092159464.addModel(\"\\n     RDKit          3D\\n\\n 12 12  0  0  0  0  0  0  0  0999 V2000\\n   -0.3013    1.3619   -0.0046 C   0  0  0  0  0  0  0  0  0  0  0  0\\n   -1.3301    0.4200   -0.0056 C   0  0  0  0  0  0  0  0  0  0  0  0\\n   -1.0288   -0.9419   -0.0010 C   0  0  0  0  0  0  0  0  0  0  0  0\\n    0.3013   -1.3619    0.0046 C   0  0  0  0  0  0  0  0  0  0  0  0\\n    1.3301   -0.4200    0.0056 C   0  0  0  0  0  0  0  0  0  0  0  0\\n    1.0288    0.9419    0.0010 C   0  0  0  0  0  0  0  0  0  0  0  0\\n   -0.5360    2.4230   -0.0082 H   0  0  0  0  0  0  0  0  0  0  0  0\\n   -2.3664    0.7472   -0.0100 H   0  0  0  0  0  0  0  0  0  0  0  0\\n   -1.8303   -1.6757   -0.0018 H   0  0  0  0  0  0  0  0  0  0  0  0\\n    0.5360   -2.4230    0.0082 H   0  0  0  0  0  0  0  0  0  0  0  0\\n    2.3664   -0.7472    0.0100 H   0  0  0  0  0  0  0  0  0  0  0  0\\n    1.8303    1.6757    0.0018 H   0  0  0  0  0  0  0  0  0  0  0  0\\n  1  2  2  0\\n  2  3  1  0\\n  3  4  2  0\\n  4  5  1  0\\n  5  6  2  0\\n  6  1  1  0\\n  1  7  1  0\\n  2  8  1  0\\n  3  9  1  0\\n  4 10  1  0\\n  5 11  1  0\\n  6 12  1  0\\nM  END\\n\",\"sdf\");\n",
              "\tviewer_1652520092159464.setStyle({\"stick\": {}});\n",
              "\tviewer_1652520092159464.setBackgroundColor(\"0xeeeeee\");\n",
              "\tviewer_1652520092159464.zoomTo();\n",
              "viewer_1652520092159464.render();\n",
              "});\n",
              "</script>"
            ]
          },
          "metadata": {}
        },
        {
          "output_type": "execute_result",
          "data": {
            "text/plain": [
              "<rdkit.Chem.rdchem.Mol at 0x7fa5937a4e40>"
            ],
            "text/html": [
              ""
            ],
            "image/png": "[encoded data removed]"
          },
          "metadata": {},
          "execution_count": 85
        }
      ]
    },
    {
      "cell_type": "code",
      "source": [
        "#@title Visualizatino of ligand 2\n",
        "smiles = \"CC1=CC=CC=C1\" #@param {type:\"string\"}\n",
        "mol = Chem.MolFromSmiles(smiles) \n",
        "mol = Chem.AddHs(mol)\n",
        "AllChem.EmbedMolecule(mol)\n",
        "AllChem.MMFFOptimizeMolecule(mol)\n",
        "mol"
      ],
      "metadata": {
        "cellView": "form",
        "id": "yj7vYCK2JlTq",
        "colab": {
          "base_uri": "https://localhost:8080/",
          "height": 417
        },
        "outputId": "fd00b2cf-01c1-4098-ee93-9d8572ce06d2"
      },
      "execution_count": 86,
      "outputs": [
        {
          "output_type": "display_data",
          "data": {
            "application/3dmoljs_load.v0": "<div id=\"3dmolviewer_16525201625608935\"  style=\"position: relative; width: 400px; height: 400px\">\n        <p id=\"3dmolwarning_16525201625608935\" style=\"background-color:#ffcccc;color:black\">You appear to be running in JupyterLab (or JavaScript failed to load for some other reason).  You need to install the 3dmol extension: <br>\n        <tt>jupyter labextension install jupyterlab_3dmol</tt></p>\n        </div>\n<script>\n\nvar loadScriptAsync = function(uri){\n  return new Promise((resolve, reject) => {\n    var tag = document.createElement('script');\n    tag.src = uri;\n    tag.async = true;\n    tag.onload = () => {\n      resolve();\n    };\n  var firstScriptTag = document.getElementsByTagName('script')[0];\n  firstScriptTag.parentNode.insertBefore(tag, firstScriptTag);\n});\n};\n\nif(typeof $3Dmolpromise === 'undefined') {\n$3Dmolpromise = null;\n  $3Dmolpromise = loadScriptAsync('https://3dmol.org/build/3Dmol.js');\n}\n\nvar viewer_16525201625608935 = null;\nvar warn = document.getElementById(\"3dmolwarning_16525201625608935\");\nif(warn) {\n    warn.parentNode.removeChild(warn);\n}\n$3Dmolpromise.then(function() {\nviewer_16525201625608935 = $3Dmol.createViewer($(\"#3dmolviewer_16525201625608935\"),{backgroundColor:\"white\"});\nviewer_16525201625608935.zoomTo();\n\tviewer_16525201625608935.removeAllModels();\n\tviewer_16525201625608935.addModel(\"\\n     RDKit          3D\\n\\n 15 15  0  0  0  0  0  0  0  0999 V2000\\n    2.2066   -0.1635   -0.1954 C   0  0  0  0  0  0  0  0  0  0  0  0\\n    0.7150   -0.0500   -0.0880 C   0  0  0  0  0  0  0  0  0  0  0  0\\n   -0.0900   -1.1941   -0.1523 C   0  0  0  0  0  0  0  0  0  0  0  0\\n   -1.4760   -1.0918   -0.0208 C   0  0  0  0  0  0  0  0  0  0  0  0\\n   -2.0677    0.1528    0.1864 C   0  0  0  0  0  0  0  0  0  0  0  0\\n   -1.2737    1.2953    0.2664 C   0  0  0  0  0  0  0  0  0  0  0  0\\n    0.1124    1.1943    0.1351 C   0  0  0  0  0  0  0  0  0  0  0  0\\n    2.4891   -1.0007   -0.8424 H   0  0  0  0  0  0  0  0  0  0  0  0\\n    2.6369    0.7437   -0.6326 H   0  0  0  0  0  0  0  0  0  0  0  0\\n    2.6423   -0.3198    0.7962 H   0  0  0  0  0  0  0  0  0  0  0  0\\n    0.3584   -2.1729   -0.3062 H   0  0  0  0  0  0  0  0  0  0  0  0\\n   -2.0935   -1.9843   -0.0772 H   0  0  0  0  0  0  0  0  0  0  0  0\\n   -3.1465    0.2318    0.2896 H   0  0  0  0  0  0  0  0  0  0  0  0\\n   -1.7333    2.2657    0.4342 H   0  0  0  0  0  0  0  0  0  0  0  0\\n    0.7200    2.0934    0.2071 H   0  0  0  0  0  0  0  0  0  0  0  0\\n  1  2  1  0\\n  2  3  2  0\\n  3  4  1  0\\n  4  5  2  0\\n  5  6  1  0\\n  6  7  2  0\\n  7  2  1  0\\n  1  8  1  0\\n  1  9  1  0\\n  1 10  1  0\\n  3 11  1  0\\n  4 12  1  0\\n  5 13  1  0\\n  6 14  1  0\\n  7 15  1  0\\nM  END\\n\",\"sdf\");\n\tviewer_16525201625608935.setStyle({\"stick\": {}});\n\tviewer_16525201625608935.setBackgroundColor(\"0xeeeeee\");\n\tviewer_16525201625608935.zoomTo();\nviewer_16525201625608935.render();\n});\n</script>",
            "text/html": [
              "<div id=\"3dmolviewer_16525201625608935\"  style=\"position: relative; width: 400px; height: 400px\">\n",
              "        <p id=\"3dmolwarning_16525201625608935\" style=\"background-color:#ffcccc;color:black\">You appear to be running in JupyterLab (or JavaScript failed to load for some other reason).  You need to install the 3dmol extension: <br>\n",
              "        <tt>jupyter labextension install jupyterlab_3dmol</tt></p>\n",
              "        </div>\n",
              "<script>\n",
              "\n",
              "var loadScriptAsync = function(uri){\n",
              "  return new Promise((resolve, reject) => {\n",
              "    var tag = document.createElement('script');\n",
              "    tag.src = uri;\n",
              "    tag.async = true;\n",
              "    tag.onload = () => {\n",
              "      resolve();\n",
              "    };\n",
              "  var firstScriptTag = document.getElementsByTagName('script')[0];\n",
              "  firstScriptTag.parentNode.insertBefore(tag, firstScriptTag);\n",
              "});\n",
              "};\n",
              "\n",
              "if(typeof $3Dmolpromise === 'undefined') {\n",
              "$3Dmolpromise = null;\n",
              "  $3Dmolpromise = loadScriptAsync('https://3dmol.org/build/3Dmol.js');\n",
              "}\n",
              "\n",
              "var viewer_16525201625608935 = null;\n",
              "var warn = document.getElementById(\"3dmolwarning_16525201625608935\");\n",
              "if(warn) {\n",
              "    warn.parentNode.removeChild(warn);\n",
              "}\n",
              "$3Dmolpromise.then(function() {\n",
              "viewer_16525201625608935 = $3Dmol.createViewer($(\"#3dmolviewer_16525201625608935\"),{backgroundColor:\"white\"});\n",
              "viewer_16525201625608935.zoomTo();\n",
              "\tviewer_16525201625608935.removeAllModels();\n",
              "\tviewer_16525201625608935.addModel(\"\\n     RDKit          3D\\n\\n 15 15  0  0  0  0  0  0  0  0999 V2000\\n    2.2066   -0.1635   -0.1954 C   0  0  0  0  0  0  0  0  0  0  0  0\\n    0.7150   -0.0500   -0.0880 C   0  0  0  0  0  0  0  0  0  0  0  0\\n   -0.0900   -1.1941   -0.1523 C   0  0  0  0  0  0  0  0  0  0  0  0\\n   -1.4760   -1.0918   -0.0208 C   0  0  0  0  0  0  0  0  0  0  0  0\\n   -2.0677    0.1528    0.1864 C   0  0  0  0  0  0  0  0  0  0  0  0\\n   -1.2737    1.2953    0.2664 C   0  0  0  0  0  0  0  0  0  0  0  0\\n    0.1124    1.1943    0.1351 C   0  0  0  0  0  0  0  0  0  0  0  0\\n    2.4891   -1.0007   -0.8424 H   0  0  0  0  0  0  0  0  0  0  0  0\\n    2.6369    0.7437   -0.6326 H   0  0  0  0  0  0  0  0  0  0  0  0\\n    2.6423   -0.3198    0.7962 H   0  0  0  0  0  0  0  0  0  0  0  0\\n    0.3584   -2.1729   -0.3062 H   0  0  0  0  0  0  0  0  0  0  0  0\\n   -2.0935   -1.9843   -0.0772 H   0  0  0  0  0  0  0  0  0  0  0  0\\n   -3.1465    0.2318    0.2896 H   0  0  0  0  0  0  0  0  0  0  0  0\\n   -1.7333    2.2657    0.4342 H   0  0  0  0  0  0  0  0  0  0  0  0\\n    0.7200    2.0934    0.2071 H   0  0  0  0  0  0  0  0  0  0  0  0\\n  1  2  1  0\\n  2  3  2  0\\n  3  4  1  0\\n  4  5  2  0\\n  5  6  1  0\\n  6  7  2  0\\n  7  2  1  0\\n  1  8  1  0\\n  1  9  1  0\\n  1 10  1  0\\n  3 11  1  0\\n  4 12  1  0\\n  5 13  1  0\\n  6 14  1  0\\n  7 15  1  0\\nM  END\\n\",\"sdf\");\n",
              "\tviewer_16525201625608935.setStyle({\"stick\": {}});\n",
              "\tviewer_16525201625608935.setBackgroundColor(\"0xeeeeee\");\n",
              "\tviewer_16525201625608935.zoomTo();\n",
              "viewer_16525201625608935.render();\n",
              "});\n",
              "</script>"
            ]
          },
          "metadata": {}
        },
        {
          "output_type": "execute_result",
          "data": {
            "text/plain": [
              "<rdkit.Chem.rdchem.Mol at 0x7fa5936268a0>"
            ],
            "text/html": [
              ""
            ],
            "image/png": "[encoded data removed]"
          },
          "metadata": {},
          "execution_count": 86
        }
      ]
    },
    {
      "cell_type": "code",
      "source": [
        "#@title  1）Convert SMILE strings to SDF format\n",
        "Ligand_1 = \"c1ccccc1\" #@param {type:\"string\"}\n",
        "Ligand_2 = \"CC1=CC=CC=C1 \" #@param {type:\"string\"}\n",
        "!echo \"{Ligand_1}\" > ligand1.smi\n",
        "!echo \"{Ligand_2}\" > ligand2.smi\n"
      ],
      "metadata": {
        "cellView": "form",
        "id": "EIaWuYvyz7Jb"
      },
      "execution_count": 87,
      "outputs": []
    },
    {
      "cell_type": "code",
      "source": [
        "!obabel ligand1.smi -osdf -O ligand1.sdf --gen3d\n",
        "!obabel ligand2.smi -osdf -O ligand2.sdf --gen3d"
      ],
      "metadata": {
        "id": "UXeJZy12ykOH"
      },
      "execution_count": null,
      "outputs": []
    },
    {
      "cell_type": "code",
      "metadata": {
        "jupyter": {
          "source_hidden": true
        },
        "cellView": "form",
        "id": "iN798-HH0EO5"
      },
      "source": [
        "#@title Download and install software\n",
        "\n",
        "!wget --no-check-certificate https://sourceforge.net/projects/smina/files/smina.static/download -O smina.static\n",
        "!chmod u+x smina.static\n",
        "#**10.Trust but check （验证一下软件状态正常，正常情况下应当打印出使用说明）**\n",
        "!./smina.static -h\n",
        "#**11. 下载一个软件pymol**\n",
        "!yes | /home/aistudio/external-libraries/bin/conda install -c conda-forge pymol-open-source "
      ],
      "execution_count": null,
      "outputs": []
    },
    {
      "cell_type": "markdown",
      "metadata": {
        "id": "x9CVYMu7JyX3"
      },
      "source": [
        "# Provide two targets the selectivity should be addressed"
      ]
    },
    {
      "cell_type": "code",
      "metadata": {
        "id": "HrTUh1fT0EO6",
        "cellView": "form"
      },
      "source": [
        "#@title 👋 Download two protein targets about the Selectivity.\n",
        "PDB_ID_1 = \"3htb\" #@param {type:\"string\"}\n",
        "PDB_ID_2 = \"3ht8\" #@param {type:\"string\"}\n",
        "pdb_1 = PDB_ID_1 + \".pdb\"\n",
        "pdb_2 = PDB_ID_2 + \".pdb\"\n",
        "! wget https://files.rcsb.org/download/$pdb_1\n",
        "! wget https://files.rcsb.org/download/$pdb_2\n"
      ],
      "execution_count": null,
      "outputs": []
    },
    {
      "cell_type": "markdown",
      "metadata": {
        "id": "f2Inzwzf0EO6"
      },
      "source": [
        "# Visit RCSB to find the Three-letter ligand code, substitute 567 with it\n",
        "# Use the FOUR-letter pdb code to substitute 1234 below."
      ]
    },
    {
      "cell_type": "markdown",
      "source": [
        "# Prepare Protein target 1"
      ],
      "metadata": {
        "id": "ncbsYhN-OIoL"
      }
    },
    {
      "cell_type": "code",
      "metadata": {
        "id": "Rd_HYcop0EO6",
        "cellView": "form"
      },
      "source": [
        "#@title Pymol Script_dock_without_water, replace 1234 and 567!\n",
        "com_file = open('protein_1.pml','w')\n",
        "com_file.write('''\n",
        "load XXXX.pdb\n",
        "remove resn HOH\n",
        "h_add elem O or elem N\n",
        "select 1234-567, resn 567 #Create a selection called 1OYT-FSN from the ligand\n",
        "select 1234-receptor, 4YLJ and not 4YLJ-567 #Select all that is not the ligand\n",
        "save 1234-567.pdb, 4YLJ-567\n",
        "save 1234-receptor.pdb, 1234-receptor    \n",
        "''')\n",
        "com_file.close()"
      ],
      "execution_count": 90,
      "outputs": []
    },
    {
      "cell_type": "markdown",
      "source": [
        "# Prepare Protein target 2"
      ],
      "metadata": {
        "id": "qaYc8m98Npz8"
      }
    },
    {
      "cell_type": "code",
      "source": [
        "#@title Pymol Script_dock_without_water, replace 1234 and 567 !\n",
        "com_file = open('protein_1.pml','w')\n",
        "com_file.write('''\n",
        "load XXXX.pdb\n",
        "remove resn HOH\n",
        "h_add elem O or elem N\n",
        "select 1234'-567, resn 567 #Create a selection called 1OYT-FSN from the ligand\n",
        "select 1234'-receptor, 1234' and not 1234'-567 #Select all that is not the ligand\n",
        "save 1234'-567.pdb, 1234-567\n",
        "save 1234'-receptor.pdb, 1234-receptor    \n",
        "''')\n",
        "com_file.close()"
      ],
      "metadata": {
        "id": "mjSGYS33Nn7j",
        "cellView": "form"
      },
      "execution_count": 15,
      "outputs": []
    },
    {
      "cell_type": "code",
      "metadata": {
        "jupyter": {
          "source_hidden": true
        },
        "cellView": "form",
        "id": "y0IUuw0h0EO7"
      },
      "source": [
        "#@title Split Targets  before docking\n",
        "\n",
        "%cd /content\n",
        "! /home/aistudio/external-libraries/bin/pymol -c protein_1.pml\n",
        "! /home/aistudio/external-libraries/bin/pymol -c protein_2.pml"
      ],
      "execution_count": null,
      "outputs": []
    },
    {
      "cell_type": "code",
      "source": [
        "#@title Define ligand1 path and number\n",
        "# File locations\n",
        "sdfFilePath = 'ligand1.sdf' #@param {type:\"string\"}\n",
        "ConfoutputFilePath = 'ligand1_conformation.sdf' #@param {type:\"string\"}\n",
        "\n",
        "inputMols = [x for x in Chem.SDMolSupplier(sdfFilePath,removeHs=False)]\n",
        "# Assign atomic chirality based on the structures:\n",
        "len(inputMols) # Check how many strucures"
      ],
      "metadata": {
        "cellView": "form",
        "id": "fEIOjxtbKtQ6",
        "outputId": "8e98a42c-a766-4b80-dcbd-20da292cb81a",
        "colab": {
          "base_uri": "https://localhost:8080/"
        }
      },
      "execution_count": 28,
      "outputs": [
        {
          "output_type": "execute_result",
          "data": {
            "text/plain": [
              "1"
            ]
          },
          "metadata": {},
          "execution_count": 28
        }
      ]
    },
    {
      "cell_type": "code",
      "source": [
        "#@title Check names of SDF\n",
        "for i, mol in enumerate(inputMols):\n",
        "    if mol is None:\n",
        "        print('Warning: Failed to read molecule %s in %s' % (i, sdfFilePath))\n",
        "    if not mol.GetProp('_Name'):\n",
        "\n",
        "        print('Warning: No name for molecule %s in %s' % (i, sdfFilePath))"
      ],
      "metadata": {
        "cellView": "form",
        "id": "advtSw3gLUwI",
        "colab": {
          "base_uri": "https://localhost:8080/"
        },
        "outputId": "e79abc9a-4645-44a3-e1eb-9c4d84384c33"
      },
      "execution_count": 29,
      "outputs": [
        {
          "output_type": "stream",
          "name": "stdout",
          "text": [
            "Warning: No name for molecule 0 in ligand1.sdf\n"
          ]
        }
      ]
    },
    {
      "cell_type": "code",
      "source": [
        "#@title SDF conformation generation\n",
        "import multiprocessing\n",
        "\n",
        "# Download this from http://pypi.python.org/pypi/futures\n",
        "from concurrent import futures\n",
        "\n",
        "# conda install progressbar\n",
        "import progressbar\n",
        "\n",
        "#Find number cores available, leave two or system might be unresponsive\n",
        "numcores = multiprocessing.cpu_count()\n",
        "max_workers = numcores #-1\n",
        "\n",
        "#Knowledge based torsion generator http://pubs.acs.org/doi/abs/10.1021/acs.jcim.5b00654\n",
        "# This function is called in the subprocess.\n",
        "# The parameters (molecule and number of conformers) are passed via a Python\n",
        "\n",
        "ps = AllChem.ETKDG()\n",
        "ps.pruneRmsThresh=0.5\n",
        "ps.numThreads=0\n",
        "#Edit for number of confs desired eg n = 5\n",
        "n=5\n",
        "def generateconformations(m, n, name):\n",
        "    m = Chem.AddHs(m)\n",
        "    ids=AllChem.EmbedMultipleConfs(m, n, ps)\n",
        "    for id in ids:\n",
        "        AllChem.UFFOptimizeMolecule(m, confId=id)\n",
        "    # EmbedMultipleConfs returns a Boost-wrapped type which\n",
        "    # cannot be pickled. Convert it to a Python list, which can.\n",
        "    return m, list(ids), name\n",
        "\n",
        "smi_input_file, sdf_output_file = sys.argv[1:3]\n",
        "\n",
        "\n",
        "writer = Chem.SDWriter(ConfoutputFilePath)\n",
        "# suppl = [x for x in Chem.SDMolSupplier(sdfFilePath,removeHs=False)]\n",
        "#suppl = Chem.SmilesMolSupplier(smi_input_file, titleLine=False)\n",
        "\n",
        "# for mol in suppl:\n",
        "#     print(mol.GetPropsAsDict(includePrivate=True).get('_Name'))\n",
        "\n",
        "with futures.ProcessPoolExecutor(max_workers=max_workers) as executor:\n",
        "    # Submit a set of asynchronous jobs\n",
        "    jobs = []\n",
        "    for mol in inputMols:\n",
        "        if mol:\n",
        "            name = mol.GetProp('_Name')\n",
        "            job = executor.submit(generateconformations, mol, n, name)\n",
        "            jobs.append(job)\n",
        "\n",
        "    widgets = [\"Generating conformations; \", progressbar.Percentage(), \" \",\n",
        "               progressbar.ETA(), \" \", progressbar.Bar()]\n",
        "    pbar = progressbar.ProgressBar(widgets=widgets, maxval=len(jobs))\n",
        "    for job in pbar(futures.as_completed(jobs)):\n",
        "        mol, ids, name = job.result()\n",
        "        mol.SetProp('_Name', name)\n",
        "        for id in ids:\n",
        "            writer.write(mol, confId=id)\n",
        "writer.close()"
      ],
      "metadata": {
        "cellView": "form",
        "id": "V-0q-ByrM44s",
        "outputId": "9bc69999-6571-435e-e16a-a51576c55578",
        "colab": {
          "base_uri": "https://localhost:8080/"
        }
      },
      "execution_count": 30,
      "outputs": [
        {
          "output_type": "stream",
          "name": "stderr",
          "text": [
            "Generating conformations; 100% Time:  0:00:00 |###############################|\n"
          ]
        }
      ]
    },
    {
      "cell_type": "markdown",
      "source": [
        ""
      ],
      "metadata": {
        "id": "UL1g0_Gn7Wzi"
      }
    },
    {
      "cell_type": "markdown",
      "source": [
        "**Warning ☹ Always have a look to make sure there are no multimers, otherwise the docking will be problematic later.**"
      ],
      "metadata": {
        "id": "_FpFwNl17CZk"
      }
    },
    {
      "cell_type": "code",
      "source": [
        "#@title 👋 Input names needed for ligand1 and Dyrk1A.\n",
        "ProteinForDocking = \"1234-receptor.pdb\" #@param {type:\"string\"}\n",
        "LigandFromProtein = \"1234-4E1.pdb\" #@param {type:\"string\"}\n",
        "Docked_out_FilePath = \"ligand1_Docked_1234.sdf\" #@param {type:\"string\"}\n",
        "FlexibleDockedFilePath = \"ligand1_FlexibleDocked_1234.sdf.gz\" #@param {type:\"string\"}\n",
        "\n"
      ],
      "metadata": {
        "cellView": "form",
        "id": "b7b1vPxUFO-V"
      },
      "execution_count": 91,
      "outputs": []
    },
    {
      "cell_type": "markdown",
      "source": [
        "# Docking of protein 1 and ligand 1"
      ],
      "metadata": {
        "id": "-eUMvGXefCE9"
      }
    },
    {
      "cell_type": "code",
      "source": [
        "!'./smina.static' --cpu 2 --seed 0 --autobox_ligand '{LigandFromProtein}' -r '{ProteinForDocking}' -l '{ConfoutputFilePath}' -o '{Docked_out_FilePath}'"
      ],
      "metadata": {
        "id": "g448P_VdHp3h",
        "colab": {
          "base_uri": "https://localhost:8080/"
        },
        "outputId": "22dbad5f-c311-421f-d21e-2f2a19bb337f"
      },
      "execution_count": 32,
      "outputs": [
        {
          "output_type": "stream",
          "name": "stdout",
          "text": [
            "==============================\n",
            "*** Open Babel Warning  in Init\n",
            "  Unable to open data file 'space-groups.txt'\n",
            "==============================\n",
            "*** Open Babel Warning  in Init\n",
            "  Cannot initialize database 'space-groups.txt' which may cause further errors.\n",
            "   _______  _______ _________ _        _______ \n",
            "  (  ____ \\(       )\\__   __/( (    /|(  ___  )\n",
            "  | (    \\/| () () |   ) (   |  \\  ( || (   ) |\n",
            "  | (_____ | || || |   | |   |   \\ | || (___) |\n",
            "  (_____  )| |(_)| |   | |   | (\\ \\) ||  ___  |\n",
            "        ) || |   | |   | |   | | \\   || (   ) |\n",
            "  /\\____) || )   ( |___) (___| )  \\  || )   ( |\n",
            "  \\_______)|/     \\|\\_______/|/    )_)|/     \\|\n",
            "\n",
            "\n",
            "smina is based off AutoDock Vina. Please cite appropriately.\n",
            "\n",
            "Weights      Terms\n",
            "-0.035579    gauss(o=0,_w=0.5,_c=8)\n",
            "-0.005156    gauss(o=3,_w=2,_c=8)\n",
            "0.840245     repulsion(o=0,_c=8)\n",
            "-0.035069    hydrophobic(g=0.5,_b=1.5,_c=8)\n",
            "-0.587439    non_dir_h_bond(g=-0.7,_b=0,_c=8)\n",
            "1.923        num_tors_div\n",
            "\n",
            "Using random seed: 0\n",
            "\n",
            "0%   10   20   30   40   50   60   70   80   90   100%\n",
            "|----|----|----|----|----|----|----|----|----|----|\n",
            "***************************************************\n",
            "\n",
            "mode |   affinity | dist from best mode\n",
            "     | (kcal/mol) | rmsd l.b.| rmsd u.b.\n",
            "-----+------------+----------+----------\n",
            "1       -8.3       0.000      0.000    \n",
            "2       -8.2       74.644     76.004   \n",
            "3       -8.1       1.097      5.408    \n",
            "4       -8.0       33.635     37.081   \n",
            "5       -7.8       74.216     75.584   \n",
            "6       -7.7       1.327      2.733    \n",
            "7       -7.7       1.490      5.819    \n",
            "8       -7.7       33.460     36.888   \n",
            "9       -7.5       2.144      3.715    \n",
            "Refine time 10.118\n",
            "Using random seed: 0\n",
            "\n",
            "0%   10   20   30   40   50   60   70   80   90   100%\n",
            "|----|----|----|----|----|----|----|----|----|----|\n",
            "***************************************************\n",
            "\n",
            "mode |   affinity | dist from best mode\n",
            "     | (kcal/mol) | rmsd l.b.| rmsd u.b.\n",
            "-----+------------+----------+----------\n",
            "1       -8.1       0.000      0.000    \n",
            "2       -8.0       29.103     31.208   \n",
            "3       -8.0       1.113      5.407    \n",
            "4       -7.7       1.379      2.483    \n",
            "5       -7.6       1.244      2.707    \n",
            "6       -7.5       25.262     28.463   \n",
            "7       -7.5       1.691      5.672    \n",
            "8       -7.4       2.549      5.324    \n",
            "9       -7.3       2.072      3.676    \n",
            "Refine time 10.303\n",
            "Using random seed: 0\n",
            "\n",
            "0%   10   20   30   40   50   60   70   80   90   100%\n",
            "|----|----|----|----|----|----|----|----|----|----|\n",
            "***************************************************\n",
            "\n",
            "mode |   affinity | dist from best mode\n",
            "     | (kcal/mol) | rmsd l.b.| rmsd u.b.\n",
            "-----+------------+----------+----------\n",
            "1       -8.3       0.000      0.000    \n",
            "2       -8.3       33.470     36.899   \n",
            "3       -8.1       33.546     36.255   \n",
            "4       -8.1       64.649     66.007   \n",
            "5       -8.0       71.843     73.088   \n",
            "6       -7.9       64.106     65.591   \n",
            "7       -7.8       72.483     73.067   \n",
            "8       -7.8       33.510     37.078   \n",
            "9       -7.7       70.101     72.478   \n",
            "Refine time 9.840\n",
            "Loop time 85.894\n"
          ]
        }
      ]
    },
    {
      "cell_type": "code",
      "source": [
        "#@title Define ligand2 path and number\n",
        "# File locations\n",
        "sdfFilePath = 'ligand2.sdf' #@param {type:\"string\"}\n",
        "ConfoutputFilePath = 'ligand2_conformation.sdf' #@param {type:\"string\"}\n",
        "\n",
        "inputMols = [x for x in Chem.SDMolSupplier(sdfFilePath,removeHs=False)]\n",
        "# Assign atomic chirality based on the structures:\n",
        "len(inputMols) # Check how many strucures"
      ],
      "metadata": {
        "colab": {
          "base_uri": "https://localhost:8080/"
        },
        "id": "aLTCuXxAsrt1",
        "outputId": "bfe821fc-c6cc-4f70-9b53-0353cc7f1fc6",
        "cellView": "form"
      },
      "execution_count": 33,
      "outputs": [
        {
          "output_type": "execute_result",
          "data": {
            "text/plain": [
              "1"
            ]
          },
          "metadata": {},
          "execution_count": 33
        }
      ]
    },
    {
      "cell_type": "code",
      "source": [
        "#@title SDF conformation generation for ligand2\n",
        "\n",
        "import multiprocessing\n",
        "\n",
        "# Download this from http://pypi.python.org/pypi/futures\n",
        "from concurrent import futures\n",
        "\n",
        "# conda install progressbar\n",
        "import progressbar\n",
        "\n",
        "#Find number cores available, leave two or system might be unresponsive\n",
        "numcores = multiprocessing.cpu_count()\n",
        "max_workers = numcores #-1\n",
        "\n",
        "#Knowledge based torsion generator http://pubs.acs.org/doi/abs/10.1021/acs.jcim.5b00654\n",
        "# This function is called in the subprocess.\n",
        "# The parameters (molecule and number of conformers) are passed via a Python\n",
        "\n",
        "ps = AllChem.ETKDG()\n",
        "ps.pruneRmsThresh=0.5\n",
        "ps.numThreads=0\n",
        "#Edit for number of confs desired eg n = 5\n",
        "n=5\n",
        "def generateconformations(m, n, name):\n",
        "    m = Chem.AddHs(m)\n",
        "    ids=AllChem.EmbedMultipleConfs(m, n, ps)\n",
        "    for id in ids:\n",
        "        AllChem.UFFOptimizeMolecule(m, confId=id)\n",
        "    # EmbedMultipleConfs returns a Boost-wrapped type which\n",
        "    # cannot be pickled. Convert it to a Python list, which can.\n",
        "    return m, list(ids), name\n",
        "\n",
        "smi_input_file, sdf_output_file = sys.argv[1:3]\n",
        "\n",
        "\n",
        "writer = Chem.SDWriter(ConfoutputFilePath)\n",
        "# suppl = [x for x in Chem.SDMolSupplier(sdfFilePath,removeHs=False)]\n",
        "#suppl = Chem.SmilesMolSupplier(smi_input_file, titleLine=False)\n",
        "\n",
        "# for mol in suppl:\n",
        "#     print(mol.GetPropsAsDict(includePrivate=True).get('_Name'))\n",
        "\n",
        "with futures.ProcessPoolExecutor(max_workers=max_workers) as executor:\n",
        "    # Submit a set of asynchronous jobs\n",
        "    jobs = []\n",
        "    for mol in inputMols:\n",
        "        if mol:\n",
        "            name = mol.GetProp('_Name')\n",
        "            job = executor.submit(generateconformations, mol, n, name)\n",
        "            jobs.append(job)\n",
        "\n",
        "    widgets = [\"Generating conformations; \", progressbar.Percentage(), \" \",\n",
        "               progressbar.ETA(), \" \", progressbar.Bar()]\n",
        "    pbar = progressbar.ProgressBar(widgets=widgets, maxval=len(jobs))\n",
        "    for job in pbar(futures.as_completed(jobs)):\n",
        "        mol, ids, name = job.result()\n",
        "        mol.SetProp('_Name', name)\n",
        "        for id in ids:\n",
        "            writer.write(mol, confId=id)\n",
        "writer.close()"
      ],
      "metadata": {
        "colab": {
          "base_uri": "https://localhost:8080/"
        },
        "cellView": "form",
        "id": "19SEj34HtFG2",
        "outputId": "b8d0e26b-e837-4bc2-914b-a7fbc9ee8780"
      },
      "execution_count": 34,
      "outputs": [
        {
          "output_type": "stream",
          "name": "stderr",
          "text": [
            "Generating conformations; 100% Time:  0:00:00 |###############################|\n"
          ]
        }
      ]
    },
    {
      "cell_type": "code",
      "source": [
        "#@title 👋 Input names needed for ligand2 and Dyrk1A.\n",
        "ProteinForDocking = \"4YLJ-receptor.pdb\" #@param {type:\"string\"}\n",
        "LigandFromProtein = \"4YLJ-4E1.pdb\" #@param {type:\"string\"}\n",
        "Docked_out_FilePath = \"ligand2_Docked_4YLJ.sdf\" #@param {type:\"string\"}\n",
        "FlexibleDockedFilePath = \"ligands_FlexibleDocked_6I5I.sdf.gz\" #@param {type:\"string\"}"
      ],
      "metadata": {
        "cellView": "form",
        "id": "fQ-O4t8ZZ3lc"
      },
      "execution_count": 35,
      "outputs": []
    },
    {
      "cell_type": "markdown",
      "source": [
        "# Docking of protein 1 and ligand 2"
      ],
      "metadata": {
        "id": "2VKGCGjvuLNv"
      }
    },
    {
      "cell_type": "code",
      "source": [
        "!'./smina.static' --cpu 2 --seed 0 --autobox_ligand '{LigandFromProtein}' -r '{ProteinForDocking}' -l '{ConfoutputFilePath}' -o '{Docked_out_FilePath}'"
      ],
      "metadata": {
        "id": "axffqKnsthAU",
        "colab": {
          "base_uri": "https://localhost:8080/"
        },
        "outputId": "fe2326ba-57af-4ff9-ef6f-edf519ddd0cd"
      },
      "execution_count": 36,
      "outputs": [
        {
          "output_type": "stream",
          "name": "stdout",
          "text": [
            "==============================\n",
            "*** Open Babel Warning  in Init\n",
            "  Unable to open data file 'space-groups.txt'\n",
            "==============================\n",
            "*** Open Babel Warning  in Init\n",
            "  Cannot initialize database 'space-groups.txt' which may cause further errors.\n",
            "   _______  _______ _________ _        _______ \n",
            "  (  ____ \\(       )\\__   __/( (    /|(  ___  )\n",
            "  | (    \\/| () () |   ) (   |  \\  ( || (   ) |\n",
            "  | (_____ | || || |   | |   |   \\ | || (___) |\n",
            "  (_____  )| |(_)| |   | |   | (\\ \\) ||  ___  |\n",
            "        ) || |   | |   | |   | | \\   || (   ) |\n",
            "  /\\____) || )   ( |___) (___| )  \\  || )   ( |\n",
            "  \\_______)|/     \\|\\_______/|/    )_)|/     \\|\n",
            "\n",
            "\n",
            "smina is based off AutoDock Vina. Please cite appropriately.\n",
            "\n",
            "Weights      Terms\n",
            "-0.035579    gauss(o=0,_w=0.5,_c=8)\n",
            "-0.005156    gauss(o=3,_w=2,_c=8)\n",
            "0.840245     repulsion(o=0,_c=8)\n",
            "-0.035069    hydrophobic(g=0.5,_b=1.5,_c=8)\n",
            "-0.587439    non_dir_h_bond(g=-0.7,_b=0,_c=8)\n",
            "1.923        num_tors_div\n",
            "\n",
            "Using random seed: 0\n",
            "\n",
            "0%   10   20   30   40   50   60   70   80   90   100%\n",
            "|----|----|----|----|----|----|----|----|----|----|\n",
            "***************************************************\n",
            "\n",
            "mode |   affinity | dist from best mode\n",
            "     | (kcal/mol) | rmsd l.b.| rmsd u.b.\n",
            "-----+------------+----------+----------\n",
            "1       -7.8       0.000      0.000    \n",
            "2       -7.8       75.000     75.886   \n",
            "3       -7.4       75.233     76.451   \n",
            "4       -7.4       64.798     66.392   \n",
            "5       -7.3       46.161     49.215   \n",
            "6       -7.3       1.198      5.092    \n",
            "7       -7.2       1.392      2.487    \n",
            "8       -7.2       40.899     43.231   \n",
            "9       -7.0       39.793     42.297   \n",
            "Refine time 9.490\n",
            "Using random seed: 0\n",
            "\n",
            "0%   10   20   30   40   50   60   70   80   90   100%\n",
            "|----|----|----|----|----|----|----|----|----|----|\n",
            "***************************************************\n",
            "\n",
            "mode |   affinity | dist from best mode\n",
            "     | (kcal/mol) | rmsd l.b.| rmsd u.b.\n",
            "-----+------------+----------+----------\n",
            "1       -8.0       0.000      0.000    \n",
            "2       -7.9       33.849     36.717   \n",
            "3       -7.8       64.651     66.009   \n",
            "4       -7.7       71.677     72.708   \n",
            "5       -7.4       33.661     36.176   \n",
            "6       -7.4       1.157      5.195    \n",
            "7       -7.3       1.647      5.370    \n",
            "8       -7.3       33.752     36.312   \n",
            "9       -7.2       64.638     66.069   \n",
            "Refine time 9.270\n",
            "Using random seed: 0\n",
            "\n",
            "0%   10   20   30   40   50   60   70   80   90   100%\n",
            "|----|----|----|----|----|----|----|----|----|----|\n",
            "***************************************************\n",
            "\n",
            "mode |   affinity | dist from best mode\n",
            "     | (kcal/mol) | rmsd l.b.| rmsd u.b.\n",
            "-----+------------+----------+----------\n",
            "1       -7.9       0.000      0.000    \n",
            "2       -7.8       75.028     76.065   \n",
            "3       -7.7       70.603     71.737   \n",
            "4       -7.3       32.974     35.623   \n",
            "5       -7.3       33.500     36.135   \n",
            "6       -7.2       74.191     75.209   \n",
            "7       -7.1       33.681     36.297   \n",
            "8       -7.1       74.853     75.848   \n",
            "9       -7.1       36.862     38.024   \n",
            "Refine time 9.289\n",
            "Using random seed: 0\n",
            "\n",
            "0%   10   20   30   40   50   60   70   80   90   100%\n",
            "|----|----|----|----|----|----|----|----|----|----|\n",
            "***************************************************\n",
            "\n",
            "mode |   affinity | dist from best mode\n",
            "     | (kcal/mol) | rmsd l.b.| rmsd u.b.\n",
            "-----+------------+----------+----------\n",
            "1       -7.9       0.000      0.000    \n",
            "2       -7.8       74.950     75.966   \n",
            "3       -7.7       70.374     71.492   \n",
            "4       -7.4       1.222      5.082    \n",
            "5       -7.3       32.757     34.073   \n",
            "6       -7.3       74.099     75.098   \n",
            "7       -7.2       36.866     38.014   \n",
            "8       -7.0       35.789     37.159   \n",
            "9       -6.9       33.433     36.330   \n",
            "Refine time 9.253\n",
            "Loop time 110.626\n"
          ]
        }
      ]
    },
    {
      "cell_type": "markdown",
      "source": [
        "# Docking of protein 2 and ligand 1"
      ],
      "metadata": {
        "id": "89t3pAanu-W9"
      }
    },
    {
      "cell_type": "code",
      "source": [
        "#@title Define ligand1 path and number\n",
        "# File locations\n",
        "sdfFilePath = 'ligand1.sdf' #@param {type:\"string\"}\n",
        "ConfoutputFilePath = 'ligand1_conformation.sdf' #@param {type:\"string\"}\n",
        "\n",
        "inputMols = [x for x in Chem.SDMolSupplier(sdfFilePath,removeHs=False)]\n",
        "# Assign atomic chirality based on the structures:\n",
        "len(inputMols) # Check how many strucures"
      ],
      "metadata": {
        "colab": {
          "base_uri": "https://localhost:8080/"
        },
        "cellView": "form",
        "id": "9AW-uqX-wYQK",
        "outputId": "b53a46f4-1318-45cb-ca02-8da480f7c088"
      },
      "execution_count": 37,
      "outputs": [
        {
          "output_type": "execute_result",
          "data": {
            "text/plain": [
              "1"
            ]
          },
          "metadata": {},
          "execution_count": 37
        }
      ]
    },
    {
      "cell_type": "code",
      "source": [
        "#@title SDF conformation generation for ligand1\n",
        "\n",
        "import multiprocessing\n",
        "\n",
        "# Download this from http://pypi.python.org/pypi/futures\n",
        "from concurrent import futures\n",
        "\n",
        "# conda install progressbar\n",
        "import progressbar\n",
        "\n",
        "#Find number cores available, leave two or system might be unresponsive\n",
        "numcores = multiprocessing.cpu_count()\n",
        "max_workers = numcores #-1\n",
        "\n",
        "#Knowledge based torsion generator http://pubs.acs.org/doi/abs/10.1021/acs.jcim.5b00654\n",
        "# This function is called in the subprocess.\n",
        "# The parameters (molecule and number of conformers) are passed via a Python\n",
        "\n",
        "ps = AllChem.ETKDG()\n",
        "ps.pruneRmsThresh=0.5\n",
        "ps.numThreads=0\n",
        "#Edit for number of confs desired eg n = 5\n",
        "n=5\n",
        "def generateconformations(m, n, name):\n",
        "    m = Chem.AddHs(m)\n",
        "    ids=AllChem.EmbedMultipleConfs(m, n, ps)\n",
        "    for id in ids:\n",
        "        AllChem.UFFOptimizeMolecule(m, confId=id)\n",
        "    # EmbedMultipleConfs returns a Boost-wrapped type which\n",
        "    # cannot be pickled. Convert it to a Python list, which can.\n",
        "    return m, list(ids), name\n",
        "\n",
        "smi_input_file, sdf_output_file = sys.argv[1:3]\n",
        "\n",
        "\n",
        "writer = Chem.SDWriter(ConfoutputFilePath)\n",
        "# suppl = [x for x in Chem.SDMolSupplier(sdfFilePath,removeHs=False)]\n",
        "#suppl = Chem.SmilesMolSupplier(smi_input_file, titleLine=False)\n",
        "\n",
        "# for mol in suppl:\n",
        "#     print(mol.GetPropsAsDict(includePrivate=True).get('_Name'))\n",
        "\n",
        "with futures.ProcessPoolExecutor(max_workers=max_workers) as executor:\n",
        "    # Submit a set of asynchronous jobs\n",
        "    jobs = []\n",
        "    for mol in inputMols:\n",
        "        if mol:\n",
        "            name = mol.GetProp('_Name')\n",
        "            job = executor.submit(generateconformations, mol, n, name)\n",
        "            jobs.append(job)\n",
        "\n",
        "    widgets = [\"Generating conformations; \", progressbar.Percentage(), \" \",\n",
        "               progressbar.ETA(), \" \", progressbar.Bar()]\n",
        "    pbar = progressbar.ProgressBar(widgets=widgets, maxval=len(jobs))\n",
        "    for job in pbar(futures.as_completed(jobs)):\n",
        "        mol, ids, name = job.result()\n",
        "        mol.SetProp('_Name', name)\n",
        "        for id in ids:\n",
        "            writer.write(mol, confId=id)\n",
        "writer.close()"
      ],
      "metadata": {
        "colab": {
          "base_uri": "https://localhost:8080/"
        },
        "cellView": "form",
        "id": "sKfSM19Jwj-f",
        "outputId": "99a67ef6-486a-436a-af18-d8e8a64b5ab6"
      },
      "execution_count": 38,
      "outputs": [
        {
          "output_type": "stream",
          "name": "stderr",
          "text": [
            "Generating conformations; 100% Time:  0:00:00 |###############################|\n"
          ]
        }
      ]
    },
    {
      "cell_type": "code",
      "source": [
        "#@title 👋 Input names needed for ligand2 and Dyrk1A.\n",
        "ProteinForDocking = \"6I5I-receptor.pdb\" #@param {type:\"string\"}\n",
        "LigandFromProtein = \"6I5I-H3E.pdb\" #@param {type:\"string\"}\n",
        "Docked_out_FilePath = \"ligand1_Docked_6I5I.sdf\" #@param {type:\"string\"}\n",
        "FlexibleDockedFilePath = \"ligands_FlexibleDocked_6I5I.sdf.gz\" #@param {type:\"string\"}"
      ],
      "metadata": {
        "cellView": "form",
        "id": "6N-veZedu3LD"
      },
      "execution_count": 39,
      "outputs": []
    },
    {
      "cell_type": "code",
      "source": [
        "!'./smina.static' --cpu 2 --seed 0 --autobox_ligand '{LigandFromProtein}' -r '{ProteinForDocking}' -l '{ConfoutputFilePath}' -o '{Docked_out_FilePath}'"
      ],
      "metadata": {
        "id": "P3S3p7RLuFMv",
        "colab": {
          "base_uri": "https://localhost:8080/"
        },
        "outputId": "77ce2f68-87a6-40c3-c716-e93edfded98f"
      },
      "execution_count": 40,
      "outputs": [
        {
          "output_type": "stream",
          "name": "stdout",
          "text": [
            "==============================\n",
            "*** Open Babel Warning  in Init\n",
            "  Unable to open data file 'space-groups.txt'\n",
            "==============================\n",
            "*** Open Babel Warning  in Init\n",
            "  Cannot initialize database 'space-groups.txt' which may cause further errors.\n",
            "   _______  _______ _________ _        _______ \n",
            "  (  ____ \\(       )\\__   __/( (    /|(  ___  )\n",
            "  | (    \\/| () () |   ) (   |  \\  ( || (   ) |\n",
            "  | (_____ | || || |   | |   |   \\ | || (___) |\n",
            "  (_____  )| |(_)| |   | |   | (\\ \\) ||  ___  |\n",
            "        ) || |   | |   | |   | | \\   || (   ) |\n",
            "  /\\____) || )   ( |___) (___| )  \\  || )   ( |\n",
            "  \\_______)|/     \\|\\_______/|/    )_)|/     \\|\n",
            "\n",
            "\n",
            "smina is based off AutoDock Vina. Please cite appropriately.\n",
            "\n",
            "Weights      Terms\n",
            "-0.035579    gauss(o=0,_w=0.5,_c=8)\n",
            "-0.005156    gauss(o=3,_w=2,_c=8)\n",
            "0.840245     repulsion(o=0,_c=8)\n",
            "-0.035069    hydrophobic(g=0.5,_b=1.5,_c=8)\n",
            "-0.587439    non_dir_h_bond(g=-0.7,_b=0,_c=8)\n",
            "1.923        num_tors_div\n",
            "\n",
            "Using random seed: 0\n",
            "\n",
            "0%   10   20   30   40   50   60   70   80   90   100%\n",
            "|----|----|----|----|----|----|----|----|----|----|\n",
            "***************************************************\n",
            "\n",
            "mode |   affinity | dist from best mode\n",
            "     | (kcal/mol) | rmsd l.b.| rmsd u.b.\n",
            "-----+------------+----------+----------\n",
            "1       -8.8       0.000      0.000    \n",
            "2       -8.8       1.133      5.532    \n",
            "3       -8.7       0.844      2.234    \n",
            "4       -8.5       1.537      5.825    \n",
            "5       -8.5       1.344      5.848    \n",
            "6       -8.4       2.631      4.094    \n",
            "7       -8.3       2.324      5.228    \n",
            "8       -8.2       2.205      4.076    \n",
            "9       -8.1       2.546      5.927    \n",
            "Refine time 8.899\n",
            "Using random seed: 0\n",
            "\n",
            "0%   10   20   30   40   50   60   70   80   90   100%\n",
            "|----|----|----|----|----|----|----|----|----|----|\n",
            "***************************************************\n",
            "\n",
            "mode |   affinity | dist from best mode\n",
            "     | (kcal/mol) | rmsd l.b.| rmsd u.b.\n",
            "-----+------------+----------+----------\n",
            "1       -8.8       0.000      0.000    \n",
            "2       -8.8       1.136      5.532    \n",
            "3       -8.8       0.885      2.276    \n",
            "4       -8.5       1.350      5.841    \n",
            "5       -8.5       1.511      5.709    \n",
            "6       -8.4       2.645      4.132    \n",
            "7       -8.3       2.293      5.219    \n",
            "8       -8.2       2.860      4.488    \n",
            "9       -8.2       2.220      4.098    \n",
            "Refine time 9.120\n",
            "Using random seed: 0\n",
            "\n",
            "0%   10   20   30   40   50   60   70   80   90   100%\n",
            "|----|----|----|----|----|----|----|----|----|----|\n",
            "***************************************************\n",
            "\n",
            "mode |   affinity | dist from best mode\n",
            "     | (kcal/mol) | rmsd l.b.| rmsd u.b.\n",
            "-----+------------+----------+----------\n",
            "1       -8.9       0.000      0.000    \n",
            "2       -8.8       1.574      5.792    \n",
            "3       -8.8       0.879      2.268    \n",
            "4       -8.6       2.000      5.403    \n",
            "5       -8.5       1.212      5.522    \n",
            "6       -8.4       2.658      4.026    \n",
            "7       -8.3       2.161      3.446    \n",
            "8       -8.2       2.527      5.971    \n",
            "9       -8.0       3.034      5.206    \n",
            "Refine time 9.016\n",
            "Loop time 28.249\n"
          ]
        }
      ]
    },
    {
      "cell_type": "markdown",
      "source": [
        "# Docking of protein 2 and ligand 2"
      ],
      "metadata": {
        "id": "_Mekqa22vz4y"
      }
    },
    {
      "cell_type": "code",
      "source": [
        "#@title Define ligand2 path and number\n",
        "# File locations\n",
        "sdfFilePath = 'ligand2.sdf' #@param {type:\"string\"}\n",
        "ConfoutputFilePath = 'ligand2_conformation.sdf' #@param {type:\"string\"}\n",
        "\n",
        "inputMols = [x for x in Chem.SDMolSupplier(sdfFilePath,removeHs=False)]\n",
        "# Assign atomic chirality based on the structures:\n",
        "len(inputMols) # Check how many strucures"
      ],
      "metadata": {
        "colab": {
          "base_uri": "https://localhost:8080/"
        },
        "cellView": "form",
        "id": "YswRd83ww0uM",
        "outputId": "7797ee9d-6a75-4a29-89b0-168507badd4a"
      },
      "execution_count": 41,
      "outputs": [
        {
          "output_type": "execute_result",
          "data": {
            "text/plain": [
              "1"
            ]
          },
          "metadata": {},
          "execution_count": 41
        }
      ]
    },
    {
      "cell_type": "code",
      "source": [
        "#@title SDF conformation generation for ligand2\n",
        "\n",
        "import multiprocessing\n",
        "\n",
        "# Download this from http://pypi.python.org/pypi/futures\n",
        "from concurrent import futures\n",
        "\n",
        "# conda install progressbar\n",
        "import progressbar\n",
        "\n",
        "#Find number cores available, leave two or system might be unresponsive\n",
        "numcores = multiprocessing.cpu_count()\n",
        "max_workers = numcores #-1\n",
        "\n",
        "#Knowledge based torsion generator http://pubs.acs.org/doi/abs/10.1021/acs.jcim.5b00654\n",
        "# This function is called in the subprocess.\n",
        "# The parameters (molecule and number of conformers) are passed via a Python\n",
        "\n",
        "ps = AllChem.ETKDG()\n",
        "ps.pruneRmsThresh=0.5\n",
        "ps.numThreads=0\n",
        "#Edit for number of confs desired eg n = 5\n",
        "n=5\n",
        "def generateconformations(m, n, name):\n",
        "    m = Chem.AddHs(m)\n",
        "    ids=AllChem.EmbedMultipleConfs(m, n, ps)\n",
        "    for id in ids:\n",
        "        AllChem.UFFOptimizeMolecule(m, confId=id)\n",
        "    # EmbedMultipleConfs returns a Boost-wrapped type which\n",
        "    # cannot be pickled. Convert it to a Python list, which can.\n",
        "    return m, list(ids), name\n",
        "\n",
        "smi_input_file, sdf_output_file = sys.argv[1:3]\n",
        "\n",
        "\n",
        "writer = Chem.SDWriter(ConfoutputFilePath)\n",
        "# suppl = [x for x in Chem.SDMolSupplier(sdfFilePath,removeHs=False)]\n",
        "#suppl = Chem.SmilesMolSupplier(smi_input_file, titleLine=False)\n",
        "\n",
        "# for mol in suppl:\n",
        "#     print(mol.GetPropsAsDict(includePrivate=True).get('_Name'))\n",
        "\n",
        "with futures.ProcessPoolExecutor(max_workers=max_workers) as executor:\n",
        "    # Submit a set of asynchronous jobs\n",
        "    jobs = []\n",
        "    for mol in inputMols:\n",
        "        if mol:\n",
        "            name = mol.GetProp('_Name')\n",
        "            job = executor.submit(generateconformations, mol, n, name)\n",
        "            jobs.append(job)\n",
        "\n",
        "    widgets = [\"Generating conformations; \", progressbar.Percentage(), \" \",\n",
        "               progressbar.ETA(), \" \", progressbar.Bar()]\n",
        "    pbar = progressbar.ProgressBar(widgets=widgets, maxval=len(jobs))\n",
        "    for job in pbar(futures.as_completed(jobs)):\n",
        "        mol, ids, name = job.result()\n",
        "        mol.SetProp('_Name', name)\n",
        "        for id in ids:\n",
        "            writer.write(mol, confId=id)\n",
        "writer.close()"
      ],
      "metadata": {
        "colab": {
          "base_uri": "https://localhost:8080/"
        },
        "cellView": "form",
        "id": "3p0hQKY7w0xt",
        "outputId": "53a43acb-e6ec-4d24-94d1-15e93373b8f5"
      },
      "execution_count": 42,
      "outputs": [
        {
          "output_type": "stream",
          "name": "stderr",
          "text": [
            "Generating conformations; 100% Time:  0:00:00 |###############################|\n"
          ]
        }
      ]
    },
    {
      "cell_type": "code",
      "source": [
        "#@title 👋 Input names needed for ligand2 and Dyrk1A.\n",
        "ProteinForDocking = \"6I5I-receptor.pdb\" #@param {type:\"string\"}\n",
        "LigandFromProtein = \"6I5I-H3E.pdb\" #@param {type:\"string\"}\n",
        "Docked_out_FilePath = \"ligand2_Docked_6I5I.sdf\" #@param {type:\"string\"}\n",
        "FlexibleDockedFilePath = \"ligand2_FlexibleDocked_6I5I.sdf.gz\" #@param {type:\"string\"}"
      ],
      "metadata": {
        "cellView": "form",
        "id": "jmy4GKxtuFZh"
      },
      "execution_count": 43,
      "outputs": []
    },
    {
      "cell_type": "code",
      "source": [
        "!'./smina.static' --cpu 2 --seed 0 --autobox_ligand '{LigandFromProtein}' -r '{ProteinForDocking}' -l '{ConfoutputFilePath}' -o '{Docked_out_FilePath}'"
      ],
      "metadata": {
        "id": "gZjkuHOXuFcJ",
        "colab": {
          "base_uri": "https://localhost:8080/"
        },
        "outputId": "907bc09c-271c-4ff5-c1da-a23dd9d15e5f"
      },
      "execution_count": 44,
      "outputs": [
        {
          "output_type": "stream",
          "name": "stdout",
          "text": [
            "==============================\n",
            "*** Open Babel Warning  in Init\n",
            "  Unable to open data file 'space-groups.txt'\n",
            "==============================\n",
            "*** Open Babel Warning  in Init\n",
            "  Cannot initialize database 'space-groups.txt' which may cause further errors.\n",
            "   _______  _______ _________ _        _______ \n",
            "  (  ____ \\(       )\\__   __/( (    /|(  ___  )\n",
            "  | (    \\/| () () |   ) (   |  \\  ( || (   ) |\n",
            "  | (_____ | || || |   | |   |   \\ | || (___) |\n",
            "  (_____  )| |(_)| |   | |   | (\\ \\) ||  ___  |\n",
            "        ) || |   | |   | |   | | \\   || (   ) |\n",
            "  /\\____) || )   ( |___) (___| )  \\  || )   ( |\n",
            "  \\_______)|/     \\|\\_______/|/    )_)|/     \\|\n",
            "\n",
            "\n",
            "smina is based off AutoDock Vina. Please cite appropriately.\n",
            "\n",
            "Weights      Terms\n",
            "-0.035579    gauss(o=0,_w=0.5,_c=8)\n",
            "-0.005156    gauss(o=3,_w=2,_c=8)\n",
            "0.840245     repulsion(o=0,_c=8)\n",
            "-0.035069    hydrophobic(g=0.5,_b=1.5,_c=8)\n",
            "-0.587439    non_dir_h_bond(g=-0.7,_b=0,_c=8)\n",
            "1.923        num_tors_div\n",
            "\n",
            "Using random seed: 0\n",
            "\n",
            "0%   10   20   30   40   50   60   70   80   90   100%\n",
            "|----|----|----|----|----|----|----|----|----|----|\n",
            "***************************************************\n",
            "\n",
            "mode |   affinity | dist from best mode\n",
            "     | (kcal/mol) | rmsd l.b.| rmsd u.b.\n",
            "-----+------------+----------+----------\n",
            "1       -8.3       0.000      0.000    \n",
            "2       -8.1       1.583      5.381    \n",
            "3       -7.9       1.086      5.077    \n",
            "4       -7.9       1.436      2.627    \n",
            "5       -7.7       0.962      2.342    \n",
            "6       -7.6       2.857      5.214    \n",
            "7       -7.6       1.408      5.260    \n",
            "8       -7.5       2.968      5.161    \n",
            "9       -7.4       3.082      4.675    \n",
            "Refine time 8.305\n",
            "Using random seed: 0\n",
            "\n",
            "0%   10   20   30   40   50   60   70   80   90   100%\n",
            "|----|----|----|----|----|----|----|----|----|----|\n",
            "***************************************************\n",
            "\n",
            "mode |   affinity | dist from best mode\n",
            "     | (kcal/mol) | rmsd l.b.| rmsd u.b.\n",
            "-----+------------+----------+----------\n",
            "1       -8.4       0.000      0.000    \n",
            "2       -8.2       1.549      5.393    \n",
            "3       -7.9       1.208      5.255    \n",
            "4       -7.8       1.433      2.616    \n",
            "5       -7.7       0.975      2.364    \n",
            "6       -7.6       2.977      5.250    \n",
            "7       -7.4       2.980      5.187    \n",
            "8       -7.4       2.885      5.961    \n",
            "9       -7.4       2.369      3.854    \n",
            "Refine time 8.225\n",
            "Using random seed: 0\n",
            "\n",
            "0%   10   20   30   40   50   60   70   80   90   100%\n",
            "|----|----|----|----|----|----|----|----|----|----|\n",
            "***************************************************\n",
            "\n",
            "mode |   affinity | dist from best mode\n",
            "     | (kcal/mol) | rmsd l.b.| rmsd u.b.\n",
            "-----+------------+----------+----------\n",
            "1       -8.3       0.000      0.000    \n",
            "2       -8.0       1.594      5.393    \n",
            "3       -7.9       1.216      5.261    \n",
            "4       -7.8       1.082      5.134    \n",
            "5       -7.8       1.492      2.575    \n",
            "6       -7.7       0.973      2.339    \n",
            "7       -7.5       2.863      5.220    \n",
            "8       -7.4       3.021      5.211    \n",
            "9       -7.4       2.584      4.347    \n",
            "Refine time 8.298\n",
            "Using random seed: 0\n",
            "\n",
            "0%   10   20   30   40   50   60   70   80   90   100%\n",
            "|----|----|----|----|----|----|----|----|----|----|\n",
            "***************************************************\n",
            "\n",
            "mode |   affinity | dist from best mode\n",
            "     | (kcal/mol) | rmsd l.b.| rmsd u.b.\n",
            "-----+------------+----------+----------\n",
            "1       -8.3       0.000      0.000    \n",
            "2       -8.2       1.569      5.391    \n",
            "3       -7.8       1.457      2.649    \n",
            "4       -7.8       1.228      5.272    \n",
            "5       -7.7       0.972      2.353    \n",
            "6       -7.5       3.285      4.877    \n",
            "7       -7.4       1.453      5.277    \n",
            "8       -7.4       2.646      4.615    \n",
            "9       -7.4       2.636      4.455    \n",
            "Refine time 8.083\n",
            "Loop time 34.521\n"
          ]
        }
      ]
    },
    {
      "cell_type": "code",
      "source": [
        "#@title Primary school math time, S1,target1/target2 = Docking score 1,targe1-Docking score1,target2\n",
        " "
      ],
      "metadata": {
        "cellView": "form",
        "id": "3ZXXRvykxL83"
      },
      "execution_count": null,
      "outputs": []
    },
    {
      "cell_type": "code",
      "source": [
        ""
      ],
      "metadata": {
        "id": "e_J1ZS6PxxpP"
      },
      "execution_count": null,
      "outputs": []
    },
    {
      "cell_type": "code",
      "source": [
        ""
      ],
      "metadata": {
        "id": "THpZ0wKWxxso"
      },
      "execution_count": null,
      "outputs": []
    },
    {
      "cell_type": "code",
      "source": [
        ""
      ],
      "metadata": {
        "id": "GPEguRekxx0p"
      },
      "execution_count": null,
      "outputs": []
    },
    {
      "cell_type": "markdown",
      "metadata": {
        "id": "25EVfy5LNHSz"
      },
      "source": [
        "# Post-dock processing, convert file format for visualization puroose，modify 4-letter code accordingly"
      ]
    },
    {
      "cell_type": "code",
      "source": [
        "%cd /content/Docked_first"
      ],
      "metadata": {
        "colab": {
          "base_uri": "https://localhost:8080/"
        },
        "id": "t5CBXYJyzywL",
        "outputId": "2ac05ec8-5a11-4cb7-b6e3-e5ad7af120d4"
      },
      "execution_count": 77,
      "outputs": [
        {
          "output_type": "stream",
          "name": "stdout",
          "text": [
            "/content/Docked_first\n"
          ]
        }
      ]
    },
    {
      "cell_type": "code",
      "source": [
        "!obabel -isdf ligand1_Docked_1234.sdf -opdb -O 1_1.pdb -m\n",
        "!mkdir 1_1\n",
        "!mv *1_1* 1/"
      ],
      "metadata": {
        "colab": {
          "base_uri": "https://localhost:8080/"
        },
        "id": "ufes0kfGyWpc",
        "outputId": "113b6d5d-ae17-4878-ce81-f86785dfa453"
      },
      "execution_count": 75,
      "outputs": [
        {
          "output_type": "stream",
          "name": "stdout",
          "text": [
            "27 molecules converted\n",
            "27 files output. The first is 1_11.pdb\n"
          ]
        }
      ]
    },
    {
      "cell_type": "code",
      "source": [
        "!obabel -isdf ligand2_Docked_1234.sdf -opdb -O 1_2.pdb -m\n",
        "!mkdir 1_2\n",
        "!mv *1_2* 1_2/"
      ],
      "metadata": {
        "colab": {
          "base_uri": "https://localhost:8080/"
        },
        "id": "FTg4IvRvyWvH",
        "outputId": "dc18f57e-53a1-4e73-a2a2-49cb5f6235d6"
      },
      "execution_count": 78,
      "outputs": [
        {
          "output_type": "stream",
          "name": "stdout",
          "text": [
            "36 molecules converted\n",
            "36 files output. The first is 1_21.pdb\n",
            "mkdir: cannot create directory ‘1_2’: File exists\n",
            "mv: cannot move '1_2' to a subdirectory of itself, '1_2/1_2'\n"
          ]
        }
      ]
    },
    {
      "cell_type": "code",
      "source": [
        "!obabel -isdf ligand1_Docked_1234'.sdf -opdb -O 2_1.pdb -m\n",
        "!mkdir 2_1\n",
        "!mv *2_1* 2_1/"
      ],
      "metadata": {
        "colab": {
          "base_uri": "https://localhost:8080/"
        },
        "id": "PwNT8YrxyWz4",
        "outputId": "d2a62af3-541e-4f22-e724-e0f46708d11f"
      },
      "execution_count": 80,
      "outputs": [
        {
          "output_type": "stream",
          "name": "stdout",
          "text": [
            "27 molecules converted\n",
            "27 files output. The first is 2_11.pdb\n",
            "mv: cannot move '2_1' to a subdirectory of itself, '2_1/2_1'\n"
          ]
        }
      ]
    },
    {
      "cell_type": "code",
      "source": [
        "!obabel -isdf ligand2_Docked_1234'.sdf -opdb -O 2_2.pdb -m\n",
        "!mkdir 2_2\n",
        "!mv *2_2* 2_2/"
      ],
      "metadata": {
        "colab": {
          "base_uri": "https://localhost:8080/"
        },
        "id": "uzucUnbsyW3G",
        "outputId": "9116aef3-249c-4950-ea59-6e801f608108"
      },
      "execution_count": 82,
      "outputs": [
        {
          "output_type": "stream",
          "name": "stdout",
          "text": [
            "36 molecules converted\n",
            "36 files output. The first is 2_21.pdb\n",
            "mv: cannot move '2_2' to a subdirectory of itself, '2_2/2_2'\n"
          ]
        }
      ]
    },
    {
      "cell_type": "markdown",
      "source": [
        "# Now you can download the top1 docked pdb from the 4 independent dockings, as representative binding modes. "
      ],
      "metadata": {
        "id": "jxyn0XhL9Fd8"
      }
    }
  ]
}