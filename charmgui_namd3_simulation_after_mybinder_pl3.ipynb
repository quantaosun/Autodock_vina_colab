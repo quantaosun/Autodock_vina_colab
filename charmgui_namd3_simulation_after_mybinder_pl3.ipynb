{
  "nbformat": 4,
  "nbformat_minor": 0,
  "metadata": {
    "colab": {
      "provenance": [],
      "authorship_tag": "ABX9TyM4CveaJaq3jyb8pOONwSJW",
      "include_colab_link": true
    },
    "kernelspec": {
      "name": "python3",
      "display_name": "Python 3"
    },
    "language_info": {
      "name": "python"
    },
    "gpuClass": "standard",
    "accelerator": "GPU"
  },
  "cells": [
    {
      "cell_type": "markdown",
      "metadata": {
        "id": "view-in-github",
        "colab_type": "text"
      },
      "source": [
        "<a href=\"https://colab.research.google.com/github/quantaosun/pl3/blob/main/charmgui_namd3_simulation_after_mybinder_pl3.ipynb\" target=\"_parent\"><img src=\"https://colab.research.google.com/assets/colab-badge.svg\" alt=\"Open In Colab\"/></a>"
      ]
    },
    {
      "cell_type": "markdown",
      "source": [
        "# This notebook is specially designed for molecular dynamic after github/quantaosun/pl3/mybinder.ipynb\n",
        "\n",
        "- After pl3/mybinder.ipynb you will get complex1.pdb and compelx.sdf\n",
        "_ Upload these two files to ```solution builder``` to prepare a charmm_gui.tgz\n",
        "- Upload this tgz file here and use NAMD to simulate it."
      ],
      "metadata": {
        "id": "2yFTbv6-kljE"
      }
    },
    {
      "cell_type": "markdown",
      "source": [
        "## Import Drive\n",
        "\n",
        "- Upload your Charmm gui solution builder files "
      ],
      "metadata": {
        "id": "e34uPm0HfFgC"
      }
    },
    {
      "cell_type": "code",
      "metadata": {
        "colab": {
          "base_uri": "https://localhost:8080/"
        },
        "id": "3fOqdOAwOxo2",
        "outputId": "55798f73-0559-4a31-f331-5673254ff5c9"
      },
      "source": [
        "from google.colab import drive\n",
        "drive.mount('/content/drive')"
      ],
      "execution_count": null,
      "outputs": [
        {
          "output_type": "stream",
          "name": "stdout",
          "text": [
            "Mounted at /content/drive\n"
          ]
        }
      ]
    },
    {
      "cell_type": "markdown",
      "source": [
        "## Download NMAD GPU\n",
        "- Unzip NAMD and use it as is, no installation\n",
        "- Since I am not sure if it is properly to provide a download link here, please go and register youself and paste the link here"
      ],
      "metadata": {
        "id": "boVavzQhfZTP"
      }
    },
    {
      "cell_type": "code",
      "metadata": {
        "id": "ssqkLZchPNuW"
      },
      "source": [
        "!wget https://www.ks.uiuc.edu/Research/namd/alpha/3.0alpha/download/NAMD_3.0alpha8_Linux-x86_64-multicore-CUDA-SingleNode.tar.gz"
      ],
      "execution_count": null,
      "outputs": []
    },
    {
      "cell_type": "code",
      "metadata": {
        "id": "wa-VmXRVQ_-W"
      },
      "source": [
        "!tar -xvf NAMD_3.0alpha8_Linux-x86_64-multicore-CUDA-SingleNode.tar.gz"
      ],
      "execution_count": null,
      "outputs": []
    },
    {
      "cell_type": "markdown",
      "source": [
        "## Due to the fact everyone has different drive path, it is important for you to modify the path to yours"
      ],
      "metadata": {
        "id": "BJqIIRqSf8R7"
      }
    },
    {
      "cell_type": "code",
      "source": [
        "#@title Modify your NAMD path\n",
        "#/content/NAMD_3.0alpha8_Linux-x86_64-multicore-CUDA/namd3"
      ],
      "metadata": {
        "id": "L0CUB9X0Q68_"
      },
      "execution_count": null,
      "outputs": []
    },
    {
      "cell_type": "markdown",
      "source": [
        "## Unzip Charmm_Gui_file.tgz from its solution builder.\n",
        "- Change the name if necessary"
      ],
      "metadata": {
        "id": "AEKZJZpSgjq0"
      }
    },
    {
      "cell_type": "code",
      "source": [
        "!tar -xvf charmm_gui.tgz"
      ],
      "metadata": {
        "id": "oQBUciwegvfd"
      },
      "execution_count": null,
      "outputs": []
    },
    {
      "cell_type": "code",
      "source": [
        "%cd to charmm_gui/path/to/namd"
      ],
      "metadata": {
        "id": "k0Rh9EvIh7fN"
      },
      "execution_count": null,
      "outputs": []
    },
    {
      "cell_type": "markdown",
      "source": [
        "## Install csh to run README from charmm gui"
      ],
      "metadata": {
        "id": "uBIXWT9ziLBX"
      }
    },
    {
      "cell_type": "markdown",
      "source": [
        "## Modify the NAMD software path for README"
      ],
      "metadata": {
        "id": "Hw7nsrEWiZS7"
      }
    },
    {
      "cell_type": "code",
      "source": [
        "# Replace namd2 to namd3 path"
      ],
      "metadata": {
        "id": "FU0XfgCNiYF2"
      },
      "execution_count": null,
      "outputs": []
    },
    {
      "cell_type": "code",
      "source": [
        "!apt-get install csh"
      ],
      "metadata": {
        "id": "WNp985-8Q7Et"
      },
      "execution_count": null,
      "outputs": []
    },
    {
      "cell_type": "code",
      "source": [
        "%cd /content/charmm-gui-7896768601/namd"
      ],
      "metadata": {
        "colab": {
          "base_uri": "https://localhost:8080/"
        },
        "id": "pf1MPsUNd_9W",
        "outputId": "ae8d6317-fc17-4fda-fb3b-9546ad4a4606"
      },
      "execution_count": 5,
      "outputs": [
        {
          "output_type": "stream",
          "name": "stdout",
          "text": [
            "/content/charmm-gui-7896768601/namd\n"
          ]
        }
      ]
    },
    {
      "cell_type": "code",
      "source": [
        "!csh README"
      ],
      "metadata": {
        "id": "DHfw28WodV1p"
      },
      "execution_count": null,
      "outputs": []
    }
  ]
}