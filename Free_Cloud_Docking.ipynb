{
  "nbformat": 4,
  "nbformat_minor": 0,
  "metadata": {
    "kernelspec": {
      "display_name": "Python 3",
      "language": "python",
      "name": "py35-paddle1.2.0"
    },
    "language_info": {
      "codemirror_mode": {
        "name": "ipython",
        "version": 3
      },
      "file_extension": ".py",
      "mimetype": "text/x-python",
      "name": "python",
      "nbconvert_exporter": "python",
      "pygments_lexer": "ipython3",
      "version": "3.7.4"
    },
    "toc-autonumbering": true,
    "toc-showmarkdowntxt": false,
    "colab": {
      "name": "Free_Cloud_Docking.ipynb",
      "provenance": []
    }
  },
  "cells": [
    {
      "cell_type": "markdown",
      "metadata": {
        "id": "-VAb-v6K0EOy"
      },
      "source": [
        "# Molecular docking is the simplest yet one of the most powerful methods of modelling in the medicinal chemistry field. There are many licensed and free academic options there, but most still need a local installation. This is a cloud pipeline based on Autodock Vina (Smina), aiming to provide a totally free tool to those who want to use molecular docking in their projects. You don't have to install anything but provide an SDF file that could be from Chemdraw and a protein RCSB four-letter code.\n"
      ]
    },
    {
      "cell_type": "markdown",
      "source": [
        "# References and contribution eleboration\n",
        "# This code was first inspired by [https://www.macinchem.org/reviews/JupyterDocking/jupyterdocking.php](http://) and [https://www.cheminformania.com/ligand-docking-with-smina/](http://)\n",
        "\n",
        "\n",
        "1. The following was changed in this notebook compared to the above two:\n",
        "1. This notebook provides docking with a pocket water option compared to the original one, what I have done is use Pymol to keep 5 of the ligand then use the water-contained receptor in docking. And you should only run one of them, be careful!\n",
        "\n",
        "1. The docking validation and docking separately existed in two non-related notebooks, but this one integrated them in a single notebook, which will save time and be more convenient.\n",
        "1. If you use this notebook on AI Studio(https://aistudio.baidu.com/aistudio/index), it realized the \"permanent\" installation, unlike the google collab in which you have to install each time before you could do anything. \n",
        "\n",
        "1. Conda, Pymol and three to four paths have been modified to maintain the compatibility on Colab, but also enable the use of AI Studio. \n"
      ],
      "metadata": {
        "id": "ybAcSB-4R35X"
      }
    },
    {
      "cell_type": "markdown",
      "source": [
        "# There are two stages of this notebook, docking validation and docking."
      ],
      "metadata": {
        "id": "azj45iOaPQZt"
      }
    },
    {
      "cell_type": "code",
      "metadata": {
        "jupyter": {
          "source_hidden": true
        },
        "cellView": "form",
        "id": "QxFkBBWq0EO1"
      },
      "source": [
        "#@title Prepare something\n",
        "!mkdir external-libraries\n",
        "! wget https://repo.anaconda.com/miniconda/Miniconda3-py37_4.8.2-Linux-x86_64.sh\n",
        "! chmod +x Miniconda3-py37_4.8.2-Linux-x86_64.sh\n",
        "! bash ./Miniconda3-py37_4.8.2-Linux-x86_64.sh -b -f -p /home/aistudio/external-libraries\n",
        "#**3.使用conda安装化学信息学软件rdkit**\n",
        "! /home/aistudio/external-libraries/bin/conda install -c rdkit rdkit -y\n",
        "#**4.用conda安装格式转换工具open babel**\n",
        "!/home/aistudio/external-libraries/bin/conda install -q -y -c openbabel openbabel\n",
        "#**5.使用pip安装可视化工具py3Dmol**\n",
        "! /home/aistudio/external-libraries/bin/pip install py3Dmol # 3D Molecular Visualizer"
      ],
      "execution_count": null,
      "outputs": []
    },
    {
      "cell_type": "code",
      "metadata": {
        "jupyter": {
          "source_hidden": true
        },
        "cellView": "form",
        "id": "6VCIvUmi0EO4"
      },
      "source": [
        "#@title Import something\n",
        "import sys\n",
        "sys.path.append('/home/aistudio/external-libraries/lib/python3.7/')\n",
        "#**7.雪对风**\n",
        "import sys\n",
        "sys.path.append('/home/aistudio/external-libraries/lib/python3.7/site-packages/')\n",
        "#**8.大陆对长空（导入所有需要的工具）**\n",
        "import os\n",
        "import numpy as np\n",
        "from sklearn.ensemble import RandomForestClassifier\n",
        "from sklearn.model_selection import StratifiedKFold\n",
        "from sklearn.metrics import accuracy_score\n",
        "from rdkit import Chem\n",
        "from rdkit.Chem import AllChem\n",
        "from rdkit.Chem import Draw\n",
        "from rdkit.Chem.Draw import IPythonConsole\n",
        "from rdkit.Chem import DataStructs\n",
        "from rdkit.Chem import RDConfig\n",
        "from rdkit.Chem import rdBase\n",
        "import pickle\n",
        "from sklearn.metrics import classification_report, confusion_matrix, accuracy_score\n",
        "print(rdBase.rdkitVersion)\n"
      ],
      "execution_count": null,
      "outputs": []
    },
    {
      "cell_type": "code",
      "metadata": {
        "jupyter": {
          "source_hidden": true
        },
        "cellView": "form",
        "id": "iN798-HH0EO5"
      },
      "source": [
        "#@title Download and install software\n",
        "\n",
        "!wget --no-check-certificate https://sourceforge.net/projects/smina/files/smina.static/download -O smina.static\n",
        "!chmod u+x smina.static\n",
        "#**10.Trust but check （验证一下软件状态正常，正常情况下应当打印出使用说明）**\n",
        "!./smina.static -h\n",
        "#**11. 下载一个软件pymol**\n",
        "!yes | /home/aistudio/external-libraries/bin/conda install -c conda-forge pymol-open-source "
      ],
      "execution_count": null,
      "outputs": []
    },
    {
      "cell_type": "markdown",
      "metadata": {
        "id": "x9CVYMu7JyX3"
      },
      "source": [
        "# change the last four PDB letter, keep the .pdb"
      ]
    },
    {
      "cell_type": "code",
      "metadata": {
        "colab": {
          "base_uri": "https://localhost:8080/"
        },
        "id": "HrTUh1fT0EO6",
        "outputId": "82c1fdda-709d-4c4f-8e6c-ebadc37e6610"
      },
      "source": [
        "!wget https://files.rcsb.org/download/3htb.pdb"
      ],
      "execution_count": null,
      "outputs": [
        {
          "output_type": "stream",
          "name": "stdout",
          "text": [
            "--2021-10-05 01:51:40--  https://files.rcsb.org/download/.pdb\n",
            "Resolving files.rcsb.org (files.rcsb.org)... 128.6.158.70\n",
            "Connecting to files.rcsb.org (files.rcsb.org)|128.6.158.70|:443... connected.\n",
            "HTTP request sent, awaiting response... 404 Not Found\n",
            "2021-10-05 01:51:41 ERROR 404: Not Found.\n",
            "\n"
          ]
        }
      ]
    },
    {
      "cell_type": "markdown",
      "metadata": {
        "id": "f2Inzwzf0EO6"
      },
      "source": [
        "# Visit RCSB to find the Three-letter ligand code, substitute 567 with it\n",
        "# Use the FOUR-letter pdb code to substitute 1234 below."
      ]
    },
    {
      "cell_type": "markdown",
      "source": [
        "# Docking witout pocket waters (Don't run the second if you run this one)"
      ],
      "metadata": {
        "id": "ncbsYhN-OIoL"
      }
    },
    {
      "cell_type": "code",
      "metadata": {
        "id": "Rd_HYcop0EO6"
      },
      "source": [
        "#create ligand= resn 567\n",
        "#create active_water= resn HOH within 5 of ligand\n",
        "#remove resn HOH &! active_water\n",
        "com_file = open('fetch_and_clean.pml','w')\n",
        "com_file.write('''\n",
        "load 1234.pdb\n",
        "remove resn HOH\n",
        "h_add elem O or elem N\n",
        "select 1234-567, resn 567 #Create a selection called 1OYT-FSN from the ligand\n",
        "select 1234-receptor, 1234 and not 1234-567 #Select all that is not the ligand\n",
        "save 1234-567.pdb, 1234-567\n",
        "save 1234-receptor.pdb, 1234-receptor    \n",
        "''')\n",
        "com_file.close()"
      ],
      "execution_count": null,
      "outputs": []
    },
    {
      "cell_type": "markdown",
      "source": [
        "# Docking with pocket waters (Don't run the first one if you run this one)"
      ],
      "metadata": {
        "id": "qaYc8m98Npz8"
      }
    },
    {
      "cell_type": "code",
      "source": [
        "\n",
        "com_file = open('fetch_and_clean.pml','w')\n",
        "com_file.write('''\n",
        "load 1234.pdb\n",
        "create ligand= resn 567 \n",
        "create active_water= resn HOH within 5 of ligand\n",
        "remove resn HOH &! active_water\n",
        "h_add elem O or elem N\n",
        "select 1234-567, resn 567 #Create a selection called 1OYT-FSN from the ligand\n",
        "select 1234-receptor, 1234 and not 1234-567 #Select all that is not the ligand\n",
        "save 1234-567.pdb, 1234-567\n",
        "save 1234-receptor.pdb, 1234-receptor    \n",
        "''')\n",
        "com_file.close()"
      ],
      "metadata": {
        "id": "mjSGYS33Nn7j"
      },
      "execution_count": null,
      "outputs": []
    },
    {
      "cell_type": "code",
      "metadata": {
        "jupyter": {
          "source_hidden": true
        },
        "cellView": "form",
        "id": "y0IUuw0h0EO7"
      },
      "source": [
        "#@title Target preparation before docking\n",
        "\n",
        "%cd /content/\n",
        "! /home/aistudio/external-libraries/bin/pymol -c fetch_and_clean.pml"
      ],
      "execution_count": null,
      "outputs": []
    },
    {
      "cell_type": "code",
      "metadata": {
        "cellView": "form",
        "id": "Ep8bjo5O0EO7"
      },
      "source": [
        "#@title Self dock Validation\n",
        "\n",
        "\n",
        "!./smina.static -r 6NZP-receptor.pdbqt -l 1234-567.pdbqt --autobox_ligand 1234-LB7.pdbqt --autobox_add 8 --exhaustiveness 16 -o 1234-redock.pdbqt"
      ],
      "execution_count": null,
      "outputs": []
    },
    {
      "cell_type": "code",
      "metadata": {
        "jupyter": {
          "source_hidden": true
        },
        "cellView": "form",
        "id": "7MvHqxEU0EO7"
      },
      "source": [
        "#@title Import visualization software\n",
        "\n",
        "import py3Dmol\n",
        "\n",
        "def drawit2(m,confId=-1):\n",
        "    mb = Chem.MolToMolBlock(m,confId=confId)\n",
        "    p = py3Dmol.view(width=400, height=400)\n",
        "    p.addModel(mb,'sdf')\n",
        "    p.setStyle({'stick':{}})\n",
        "    p.setBackgroundColor('0xeeeeee')\n",
        "    p.zoomTo()\n",
        "    return p\n",
        "\n",
        "def DrawComplex(protein,ligand):\n",
        "    complex_pl = Chem.MolToPDBBlock(Chem.CombineMols(protein,ligand))\n",
        "    #complex_mol=Chem.CombineMols(receptor,mols[-1])\n",
        "    view = py3Dmol.view(width=600,height=600)\n",
        "    view.addModel(complex_pl,'pdb')\n",
        "    #view.addModel(Chem.MolToMolBlock(mols[0]),'sdf')\n",
        "    chA = {'chain':['H','L','I']}\n",
        "    chB = {'resn':'UNL'}\n",
        "    view.setStyle(chA,{'cartoon': {'color':'spectrum'}})\n",
        "    #view.setStyle(chA,{'lines': {}})\n",
        "    view.addSurface(py3Dmol.VDW,{'opacity':0.8}, chB)\n",
        "    view.setStyle(chB,{'stick':{}})\n",
        "    view.zoomTo()\n",
        "    return view   \n"
      ],
      "execution_count": null,
      "outputs": []
    },
    {
      "cell_type": "code",
      "metadata": {
        "jupyter": {
          "source_hidden": true
        },
        "cellView": "form",
        "id": "WDrpIzdB0EO7"
      },
      "source": [
        "#@title Import something\n",
        "\n",
        "from rdkit import Chem"
      ],
      "execution_count": null,
      "outputs": []
    },
    {
      "cell_type": "markdown",
      "metadata": {
        "id": "25EVfy5LNHSz"
      },
      "source": [
        "# Post-dock processing, convert file format for visualization puroose，modify 4-letter code accordingly"
      ]
    },
    {
      "cell_type": "code",
      "metadata": {
        "id": "eAwnSc3n0EO7"
      },
      "source": [
        "!/home/aistudio/external-libraries/bin/obabel 3HTB-redock.pdbqt -O 3HTB-redocked.sdf"
      ],
      "execution_count": null,
      "outputs": []
    },
    {
      "cell_type": "code",
      "metadata": {
        "cellView": "form",
        "id": "tZTA6vyF0EO7"
      },
      "source": [
        "#@title Show image of ligand only\n",
        "pose = \"0\" #@param [\"0\", \"1\", \"2\", \"3\", \"4\", \"5\", \"6\", \"7\", \"8\"]\n",
        "mols = [m for m in Chem.SDMolSupplier('') if m is not None]\n",
        "drawit2(mols['pose'])"
      ],
      "execution_count": null,
      "outputs": []
    },
    {
      "cell_type": "code",
      "metadata": {
        "cellView": "form",
        "id": "HiZvdc4t0EO7"
      },
      "source": [
        "#@title Show image of ligand-protien\n",
        "pose = \"0\" #@param [\"0\", \"1\", \"2\", \"3\", \"4\", \"5\", \"6\", \"7\", \"8\"]\n",
        "\n",
        "receptor = Chem.MolFromPDBFile('3HTB-receptor.pdb')\n",
        "DrawComplex(receptor,mols[8])"
      ],
      "execution_count": null,
      "outputs": []
    },
    {
      "cell_type": "markdown",
      "metadata": {
        "id": "VUHGevK40EO7"
      },
      "source": [
        "# Above this cell is the validation of how good the docking method is；below is the real docking for small molecules of interests"
      ]
    },
    {
      "cell_type": "code",
      "metadata": {
        "jupyter": {
          "source_hidden": true
        },
        "cellView": "form",
        "id": "pYAGqY5X0EO7"
      },
      "source": [
        "#@title Import something\n",
        "\n",
        "import sys\n",
        "from collections import defaultdict\n",
        "\n",
        "import numpy as np\n",
        "from rdkit import Chem\n",
        "from rdkit.Chem import AllChem\n",
        "from rdkit.Chem.Draw import IPythonConsole\n",
        "from rdkit.Chem import PandasTools\n",
        "import pandas as pd\n",
        "\n",
        "%pylab inline\n",
        "IPythonConsole.ipython_3d = True\n",
        "\n",
        "import py3Dmol\n",
        "import matplotlib.pyplot as plt\n",
        "import subprocess"
      ],
      "execution_count": null,
      "outputs": []
    },
    {
      "cell_type": "code",
      "metadata": {
        "jupyter": {
          "source_hidden": true
        },
        "cellView": "form",
        "id": "o1s_AkPG0EO8"
      },
      "source": [
        "#@title Upload your protein and ligand please\n",
        "%cd /content/\n",
        "!pwd"
      ],
      "execution_count": null,
      "outputs": []
    },
    {
      "cell_type": "code",
      "metadata": {
        "cellView": "form",
        "id": "zwGD4mdc0EO8"
      },
      "source": [
        "#@title  Uploaded sdf file of small molecules, and provide the file name you want to give as a conformasion file generated fromt uploaded file.\n",
        "sdfFilePath = \"\" #@param {type:\"string\"}\n",
        "ConfoutputFilePath = \"\" #@param {type:\"string\"}\n",
        "#sdfFilePath = 'fxa_ligands.sdf' # The input file of structures to generate conformations from\n",
        "#ConfoutputFilePath = 'fxa_ligandsForDocking.sdf' # Output file containing conformations for docking\n",
        "inputMols = [x for x in Chem.SDMolSupplier(sdfFilePath,removeHs=False)]\n",
        "# Assign atomic chirality based on the structures:\n",
        "len(inputMols) # Check how many strucures"
      ],
      "execution_count": null,
      "outputs": []
    },
    {
      "cell_type": "code",
      "metadata": {
        "jupyter": {
          "source_hidden": true
        },
        "cellView": "form",
        "id": "9s6cagmy0EO8"
      },
      "source": [
        "#@title Rdkit validation, the output image has nothign to do with docking itself, just for validation\n",
        "\n",
        "mol = Chem.MolFromSmiles('C[NH+]1CCN(CC1)C(=O)Nc1ccc(F)cc1') #This is the ligand in the crystal structure\n",
        "mol = Chem.AddHs(mol)\n",
        "AllChem.EmbedMolecule(mol)\n",
        "AllChem.MMFFOptimizeMolecule(mol)\n",
        "mol"
      ],
      "execution_count": null,
      "outputs": []
    },
    {
      "cell_type": "code",
      "metadata": {
        "jupyter": {
          "source_hidden": true
        },
        "cellView": "form",
        "id": "pRcyaXYR0EO8"
      },
      "source": [
        "#@title Test if each line of your sdf has a name, you should see nothing if all good\n",
        "\n",
        "for i, mol in enumerate(inputMols):\n",
        "    if mol is None:\n",
        "        print('Warning: Failed to read molecule %s in %s' % (i, sdfFilePath))\n",
        "    if not mol.GetProp('_Name'):\n",
        "\n",
        "        print('Warning: No name for molecule %s in %s' % (i, sdfFilePath))"
      ],
      "execution_count": null,
      "outputs": []
    },
    {
      "cell_type": "code",
      "metadata": {
        "jupyter": {
          "source_hidden": true
        },
        "cellView": "form",
        "id": "mk-mdPd60EO8"
      },
      "source": [
        "#@title Prepare something\n",
        "\n",
        "import multiprocessing\n",
        "from concurrent import futures"
      ],
      "execution_count": null,
      "outputs": []
    },
    {
      "cell_type": "code",
      "metadata": {
        "jupyter": {
          "source_hidden": true
        },
        "cellView": "form",
        "id": "lQRoIjCi0EO8"
      },
      "source": [
        "#@title Prepare something again\n",
        "\n",
        "!/home/aistudio/external-libraries/bin/pip install progressbar"
      ],
      "execution_count": null,
      "outputs": []
    },
    {
      "cell_type": "code",
      "metadata": {
        "jupyter": {
          "source_hidden": true
        },
        "cellView": "form",
        "id": "rsBGYzd80EO8"
      },
      "source": [
        "#@title Small molecules conformation generation\n",
        "\n",
        "import multiprocessing\n",
        "\n",
        "# Download this from http://pypi.python.org/pypi/futures\n",
        "from concurrent import futures\n",
        "\n",
        "# conda install progressbar\n",
        "import progressbar\n",
        "\n",
        "#Find number cores available, leave two or system might be unresponsive\n",
        "numcores = multiprocessing.cpu_count()\n",
        "max_workers = numcores #-1\n",
        "\n",
        "#Knowledge based torsion generator http://pubs.acs.org/doi/abs/10.1021/acs.jcim.5b00654\n",
        "# This function is called in the subprocess.\n",
        "# The parameters (molecule and number of conformers) are passed via a Python\n",
        "\n",
        "ps = AllChem.ETKDG()\n",
        "ps.pruneRmsThresh=0.5\n",
        "ps.numThreads=0\n",
        "#Edit for number of confs desired eg n = 5\n",
        "n=5\n",
        "def generateconformations(m, n, name):\n",
        "    m = Chem.AddHs(m)\n",
        "    ids=AllChem.EmbedMultipleConfs(m, n, ps)\n",
        "    for id in ids:\n",
        "        AllChem.UFFOptimizeMolecule(m, confId=id)\n",
        "    # EmbedMultipleConfs returns a Boost-wrapped type which\n",
        "    # cannot be pickled. Convert it to a Python list, which can.\n",
        "    return m, list(ids), name\n",
        "\n",
        "smi_input_file, sdf_output_file = sys.argv[1:3]\n",
        "\n",
        "\n",
        "writer = Chem.SDWriter(ConfoutputFilePath)\n",
        "# suppl = [x for x in Chem.SDMolSupplier(sdfFilePath,removeHs=False)]\n",
        "#suppl = Chem.SmilesMolSupplier(smi_input_file, titleLine=False)\n",
        "\n",
        "# for mol in suppl:\n",
        "#     print(mol.GetPropsAsDict(includePrivate=True).get('_Name'))\n",
        "\n",
        "with futures.ProcessPoolExecutor(max_workers=max_workers) as executor:\n",
        "    # Submit a set of asynchronous jobs\n",
        "    jobs = []\n",
        "    for mol in inputMols:\n",
        "        if mol:\n",
        "            name = mol.GetProp('_Name')\n",
        "            job = executor.submit(generateconformations, mol, n, name)\n",
        "            jobs.append(job)\n",
        "\n",
        "    widgets = [\"Generating conformations; \", progressbar.Percentage(), \" \",\n",
        "               progressbar.ETA(), \" \", progressbar.Bar()]\n",
        "    pbar = progressbar.ProgressBar(widgets=widgets, maxval=len(jobs))\n",
        "    for job in pbar(futures.as_completed(jobs)):\n",
        "        mol, ids, name = job.result()\n",
        "        mol.SetProp('_Name', name)\n",
        "        for id in ids:\n",
        "            writer.write(mol, confId=id)\n",
        "writer.close()"
      ],
      "execution_count": null,
      "outputs": []
    },
    {
      "cell_type": "code",
      "metadata": {
        "colab": {
          "base_uri": "https://localhost:8080/"
        },
        "cellView": "form",
        "id": "iPx_FDG_0EO9",
        "outputId": "5edb0253-15a8-424a-910a-50ed806251e3"
      },
      "source": [
        "#@title Input one protein related name, three ligand related names, dokcing should starts here\n",
        "ProteinForDocking = \"\" #@param {type:\"string\"}\n",
        "LigandFromProtein = \"\" #@param {type:\"string\"}\n",
        "DockedFilePath = \"\" #@param {type:\"string\"}\n",
        "FlexibleDockedFilePath = \"\" #@param {type:\"string\"}\n",
        "#ProteinForDocking = '1f0r_minimized.pdb'\n",
        "\n",
        "#LigandFromProtein = '1f0r_native_ligand.pdb'\n",
        "#DockedFilePath = '1f0r_All_Docked.sdf.gz'\n",
        "#FlexibleDockedFilePath = '1f0r_FlexDocked.sdf.gz'\n",
        "#**I：对接开始，每次更换蛋白和小分子，只需改上面的变量赋值即可**\n",
        "!'./smina.static' --cpu 2 --seed 0 --autobox_ligand '{LigandFromProtein}' -r '{ProteinForDocking}' -l '{ConfoutputFilePath}' -o '{DockedFilePath}'"
      ],
      "execution_count": null,
      "outputs": [
        {
          "output_type": "stream",
          "name": "stdout",
          "text": [
            "/bin/bash: ./smina.static: No such file or directory\n"
          ]
        }
      ]
    },
    {
      "cell_type": "markdown",
      "metadata": {
        "id": "4xuF8H_x0EO9"
      },
      "source": [
        "# Upon finish, download the All_Docked_sdf.gz to your local laptop"
      ]
    }
  ]
}