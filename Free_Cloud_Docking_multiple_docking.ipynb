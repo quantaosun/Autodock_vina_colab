{
  "nbformat": 4,
  "nbformat_minor": 0,
  "metadata": {
    "kernelspec": {
      "display_name": "Python 3",
      "language": "python",
      "name": "py35-paddle1.2.0"
    },
    "language_info": {
      "codemirror_mode": {
        "name": "ipython",
        "version": 3
      },
      "file_extension": ".py",
      "mimetype": "text/x-python",
      "name": "python",
      "nbconvert_exporter": "python",
      "pygments_lexer": "ipython3",
      "version": "3.7.4"
    },
    "toc-autonumbering": true,
    "toc-showmarkdowntxt": false,
    "colab": {
      "name": "Free_Cloud_Docking.ipynb",
      "provenance": [],
      "include_colab_link": true
    }
  },
  "cells": [
    {
      "cell_type": "markdown",
      "metadata": {
        "id": "view-in-github",
        "colab_type": "text"
      },
      "source": [
        "<a href=\"https://colab.research.google.com/github/quantaosun/pl3/blob/main/Free_Cloud_Docking_multiple_docking.ipynb\" target=\"_parent\"><img src=\"https://colab.research.google.com/assets/colab-badge.svg\" alt=\"Open In Colab\"/></a>"
      ]
    },
    {
      "cell_type": "markdown",
      "metadata": {
        "id": "-VAb-v6K0EOy"
      },
      "source": [
        "# Programmatic Molecular Docking- Mulitiple small molecules\n",
        "\n",
        "### Based on Vina-derived Smina. Obabel is used to calculate the protein charges. The docking grid is defined as the centre of the native ligand.\n",
        "\n",
        "- This notebook is written by https://github.com/quantaosun\n",
        "- what you get is ***a list of the docking score + docked complex*** \n",
        "- the docked list provide you an idea which ligand may binds the best relavely, so you can move on to the single molecule docking for the best structure among several you have provided.\n",
        "\n",
        "- Note you should provide a SMILES list"
      ]
    },
    {
      "cell_type": "markdown",
      "source": [
        "# Install conda"
      ],
      "metadata": {
        "id": "nuGUIDxbW_IW"
      }
    },
    {
      "cell_type": "code",
      "source": [
        "#@title Conda installation\n",
        "!pip install -q condacolab\n",
        "import condacolab\n",
        "condacolab.install()"
      ],
      "metadata": {
        "cellView": "form",
        "colab": {
          "base_uri": "https://localhost:8080/"
        },
        "id": "GCIuO0Lz_vMW",
        "outputId": "efea5595-e8da-4ea9-8efe-c6282919704d"
      },
      "execution_count": null,
      "outputs": [
        {
          "output_type": "stream",
          "name": "stdout",
          "text": [
            "⏬ Downloading https://github.com/jaimergp/miniforge/releases/latest/download/Mambaforge-colab-Linux-x86_64.sh...\n",
            "📦 Installing...\n",
            "📌 Adjusting configuration...\n",
            "🩹 Patching environment...\n",
            "⏲ Done in 0:00:14\n",
            "🔁 Restarting kernel...\n"
          ]
        }
      ]
    },
    {
      "cell_type": "markdown",
      "source": [
        "# Please provide PDB ID and ligand structure you want to dock with"
      ],
      "metadata": {
        "id": "6KKs2IBRXDUh"
      }
    },
    {
      "cell_type": "code",
      "source": [
        "smiles_list = [\n",
        "    'Cc1ccc(CN(C)C(=O)c2ccccc2)cc1N3CCN(CC3)C',\n",
        "    'Cc1ccc(C(=O)N[C@@H](Cc2ccc(O)cc2)C(=O)N[C@@H](Cc2ccc(O)cc2)C(=O)Nc2ccccc2)cc1'\n",
        "]"
      ],
      "metadata": {
        "id": "DFiMxmZnPHP4"
      },
      "execution_count": null,
      "outputs": []
    },
    {
      "cell_type": "code",
      "execution_count": null,
      "metadata": {
        "cellView": "form",
        "colab": {
          "base_uri": "https://localhost:8080/"
        },
        "id": "s5B8su8nB0mS",
        "outputId": "de22081d-fd2c-43e6-fb9a-f718ac0d8eac"
      },
      "outputs": [
        {
          "output_type": "stream",
          "name": "stdout",
          "text": [
            "/content\n",
            "--2023-02-17 20:41:06--  https://files.rcsb.org/download/7L10.pdb\n",
            "Resolving files.rcsb.org (files.rcsb.org)... 128.6.158.70\n",
            "Connecting to files.rcsb.org (files.rcsb.org)|128.6.158.70|:443... connected.\n",
            "HTTP request sent, awaiting response... 200 OK\n",
            "Length: unspecified [application/octet-stream]\n",
            "Saving to: ‘7L10.pdb’\n",
            "\n",
            "7L10.pdb                [ <=>                ] 241.42K  --.-KB/s    in 0.03s   \n",
            "\n",
            "2023-02-17 20:41:06 (7.45 MB/s) - ‘7L10.pdb’ saved [247212]\n",
            "\n"
          ]
        }
      ],
      "source": [
        "#@title Input expected from the user\n",
        "path = \".\" #@param {type:\"string\"}\n",
        "%cd '{path}'\n",
        "PDB_ID = \"7L10\" #@param {type:\"string\"}\n",
        "pdb = PDB_ID + \".pdb\"\n",
        "! wget https://files.rcsb.org/download/$pdb\n",
        "#@title Ligand three-letter name\n",
        "Ligand = \"XEY\" #@param {type:\"string\"}\n",
        "#smiles = \"OC1=CC=CC=C1C2=CN(C(C(C3=CC(Cl)=CC(F)=C3)=C2)=O)C4=CC=CN=C4\" #@param {type:\"string\"}\n"
      ]
    },
    {
      "cell_type": "markdown",
      "source": [
        "# Install dependencies"
      ],
      "metadata": {
        "id": "WwE9IjM3XMd9"
      }
    },
    {
      "cell_type": "code",
      "metadata": {
        "jupyter": {
          "source_hidden": true
        },
        "id": "QxFkBBWq0EO1",
        "outputId": "c8eeabd7-8b32-4795-c22c-6dc85a81c371",
        "colab": {
          "base_uri": "https://localhost:8080/"
        }
      },
      "source": [
        "#@title Install independencies\n",
        "!conda install -c rdkit rdkit -y 2>&1 1>/dev/null\n",
        "!conda install -q -y -c openbabel openbabel 2>&1 1>/dev/null\n",
        "!pip install py3Dmol 2>&1 1>/dev/null\n",
        "!yes|conda install -c conda-forge pymol-open-source 2>&1 1>/dev/null\n",
        "!conda install -c conda-forge prolif 2>&1 1>/dev/null\n",
        "!conda install -c conda-forge mdanalysis # for 2D interaction visualization\n",
        "!conda install -c conda-forge prolif # for 2D interaction\n",
        "!conda install -c conda-forge pymol-open-source -y # Install pymol for 3D image making\n",
        "!conda install -c anaconda scipy\n",
        "!conda install -c anaconda scikit-learn\n",
        "!conda install -c conda-forge matplotlib\n",
        "!To install this package run one of the following:\n",
        "!conda install -c anaconda seaborn\n",
        "!wget --no-check-certificate https://sourceforge.net/projects/smina/files/smina.static/download -O smina.static 2>&1 1>/dev/null\n",
        "!chmod u+x smina.static\n",
        "#!./smina.static -h\n",
        "import sys\n",
        "import os\n",
        "from rdkit import Chem\n",
        "from rdkit.Chem import AllChem\n",
        "from rdkit.Chem import Draw\n",
        "from rdkit.Chem.Draw import IPythonConsole\n",
        "from rdkit.Chem import DataStructs\n",
        "from rdkit.Chem import RDConfig\n",
        "from rdkit.Chem import rdBase\n",
        "print(rdBase.rdkitVersion)"
      ],
      "execution_count": null,
      "outputs": [
        {
          "output_type": "stream",
          "name": "stdout",
          "text": [
            "\u001b[33mWARNING: Running pip as the 'root' user can result in broken permissions and conflicting behaviour with the system package manager. It is recommended to use a virtual environment instead: https://pip.pypa.io/warnings/venv\u001b[0m\u001b[33m\n",
            "\u001b[0mCollecting package metadata (current_repodata.json): - \b\b\\ \b\b| \b\b/ \b\b- \b\b\\ \b\b| \b\b/ \b\b- \b\b\\ \b\b| \b\b/ \b\b- \b\b\\ \b\b| \b\b/ \b\b- \b\b\\ \b\b| \b\b/ \b\b- \b\bdone\n",
            "Solving environment: | \b\b/ \b\b- \b\b\\ \b\b| \b\b/ \b\b- \b\b\\ \b\b| \b\b/ \b\b- \b\b\\ \b\b| \b\b/ \b\b- \b\b\\ \b\b| \b\b/ \b\b- \b\b\\ \b\b| \b\b/ \b\b- \b\b\\ \b\b| \b\b/ \b\b- \b\b\\ \b\b| \b\b/ \b\b- \b\b\\ \b\b| \b\b/ \b\b- \b\b\\ \b\b| \b\b/ \b\b- \b\b\\ \b\b| \b\b/ \b\b- \b\b\\ \b\b| \b\b/ \b\b- \b\b\\ \b\b| \b\b/ \b\b- \b\b\\ \b\b| \b\b/ \b\b- \b\b\\ \b\b| \b\b/ \b\b- \b\b\\ \b\b| \b\b/ \b\b- \b\b\\ \b\b| \b\b/ \b\bdone\n",
            "\n",
            "# All requested packages already installed.\n",
            "\n",
            "Collecting package metadata (current_repodata.json): - \b\b\\ \b\b| \b\b/ \b\b- \b\b\\ \b\b| \b\b/ \b\b- \b\b\\ \b\b| \b\b/ \b\b- \b\b\\ \b\b| \b\b/ \b\b- \b\b\\ \b\b| \b\b/ \b\bdone\n",
            "Solving environment: \\ \b\b| \b\b/ \b\b- \b\b\\ \b\b| \b\b/ \b\b- \b\b\\ \b\b| \b\b/ \b\b- \b\b\\ \b\b| \b\b/ \b\b- \b\b\\ \b\b| \b\b/ \b\b- \b\b\\ \b\b| \b\b/ \b\b- \b\b\\ \b\b| \b\b/ \b\b- \b\b\\ \b\b| \b\b/ \b\b- \b\b\\ \b\b| \b\b/ \b\b- \b\b\\ \b\b| \b\b/ \b\b- \b\b\\ \b\b| \b\b/ \b\b- \b\b\\ \b\b| \b\b/ \b\b- \b\b\\ \b\b| \b\b/ \b\b- \b\b\\ \b\b| \b\b/ \b\b- \b\b\\ \b\b| \b\b/ \b\b- \b\b\\ \b\b| \b\b/ \b\bdone\n",
            "\n",
            "# All requested packages already installed.\n",
            "\n",
            "Collecting package metadata (current_repodata.json): - \b\b\\ \b\b| \b\b/ \b\b- \b\b\\ \b\b| \b\b/ \b\b- \b\b\\ \b\b| \b\b/ \b\b- \b\b\\ \b\b| \b\b/ \b\b- \b\b\\ \b\b| \b\b/ \b\b- \b\bdone\n",
            "Solving environment: | \b\b/ \b\b- \b\b\\ \b\b| \b\b/ \b\b- \b\b\\ \b\b| \b\b/ \b\b- \b\b\\ \b\b| \b\b/ \b\b- \b\b\\ \b\b| \b\b/ \b\b- \b\b\\ \b\b| \b\b/ \b\b- \b\b\\ \b\b| \b\b/ \b\b- \b\b\\ \b\b| \b\b/ \b\b- \b\b\\ \b\b| \b\b/ \b\b- \b\b\\ \b\b| \b\b/ \b\b- \b\b\\ \b\b| \b\b/ \b\b- \b\b\\ \b\b| \b\b/ \b\bdone\n",
            "\n",
            "# All requested packages already installed.\n",
            "\n",
            "Collecting package metadata (current_repodata.json): - \b\b\\ \b\b| \b\b/ \b\b- \b\b\\ \b\b| \b\b/ \b\b- \b\b\\ \b\b| \b\b/ \b\b- \b\b\\ \b\b| \b\b/ \b\b- \b\b\\ \b\b| \b\b/ \b\b- \b\b\\ \b\b| \b\b/ \b\b- \b\b\\ \b\b| \b\b/ \b\b- \b\b\\ \b\b| \b\b/ \b\b- \b\b\\ \b\b| \b\b/ \b\b- \b\b\\ \b\b| \b\b/ \b\b- \b\b\\ \b\b| \b\b/ \b\b- \b\b\\ \b\b| \b\b/ \b\b- \b\b\\ \b\b| \b\b/ \b\b- \b\b\\ \b\b| \b\b/ \b\b- \b\b\\ \b\b| \b\b/ \b\b- \b\b\\ \b\b| \b\b/ \b\b- \b\b\\ \b\b| \b\b/ \b\b- \b\b\\ \b\b| \b\b/ \b\b- \b\b\\ \b\b| \b\bdone\n",
            "Solving environment: - \b\b\\ \b\b| \b\b/ \b\b- \b\b\\ \b\b| \b\b/ \b\b- \b\b\\ \b\b| \b\b/ \b\b- \b\b\\ \b\b| \b\b/ \b\b- \b\b\\ \b\b| \b\b/ \b\b- \b\b\\ \b\b| \b\b/ \b\b- \b\b\\ \b\b| \b\b/ \b\b- \b\b\\ \b\b| \b\b/ \b\b- \b\b\\ \b\b| \b\b/ \b\b- \b\b\\ \b\b| \b\b/ \b\b- \b\b\\ \b\b| \b\b/ \b\b- \b\b\\ \b\b| \b\b/ \b\b- \b\b\\ \b\b| \b\b/ \b\b- \b\b\\ \b\b| \b\b/ \b\b- \b\b\\ \b\b| \b\b/ \b\b- \b\bdone\n",
            "\n",
            "## Package Plan ##\n",
            "\n",
            "  environment location: /usr/local\n",
            "\n",
            "  added / updated specs:\n",
            "    - scipy\n",
            "\n",
            "\n",
            "The following packages will be downloaded:\n",
            "\n",
            "    package                    |            build\n",
            "    ---------------------------|-----------------\n",
            "    blas-1.0                   |         openblas          48 KB  anaconda\n",
            "    ca-certificates-2023.01.10 |       h06a4308_0         127 KB  anaconda\n",
            "    certifi-2022.12.7          |   py38h06a4308_0         152 KB  anaconda\n",
            "    conda-23.1.0               |   py38h06a4308_0         958 KB  anaconda\n",
            "    scipy-1.10.0               |   py38h32ae08f_0        25.7 MB  anaconda\n",
            "    ------------------------------------------------------------\n",
            "                                           Total:        26.9 MB\n",
            "\n",
            "The following NEW packages will be INSTALLED:\n",
            "\n",
            "  blas               anaconda/linux-64::blas-1.0-openblas \n",
            "\n",
            "The following packages will be UPDATED:\n",
            "\n",
            "  ca-certificates    conda-forge::ca-certificates-2022.12.~ --> anaconda::ca-certificates-2023.01.10-h06a4308_0 \n",
            "  conda              conda-forge::conda-22.11.1-py38h578d9~ --> anaconda::conda-23.1.0-py38h06a4308_0 \n",
            "\n",
            "The following packages will be SUPERSEDED by a higher-priority channel:\n",
            "\n",
            "  certifi            conda-forge/noarch::certifi-2022.12.7~ --> anaconda/linux-64::certifi-2022.12.7-py38h06a4308_0 \n",
            "  scipy              conda-forge::scipy-1.10.0-py38h10c12c~ --> anaconda::scipy-1.10.0-py38h32ae08f_0 \n",
            "\n",
            "\n",
            "\n",
            "Downloading and Extracting Packages\n",
            "ca-certificates-2023 | 127 KB    | :   0% 0/1 [00:00<?, ?it/s]\n",
            "certifi-2022.12.7    | 152 KB    | :   0% 0/1 [00:00<?, ?it/s]\u001b[A\n",
            "\n",
            "blas-1.0             | 48 KB     | :   0% 0/1 [00:00<?, ?it/s]\u001b[A\u001b[A\n",
            "\n",
            "\n",
            "scipy-1.10.0         | 25.7 MB   | :   0% 0/1 [00:00<?, ?it/s]\u001b[A\u001b[A\u001b[A\n",
            "\n",
            "\n",
            "\n",
            "conda-23.1.0         | 958 KB    | :   0% 0/1 [00:00<?, ?it/s]\u001b[A\u001b[A\u001b[A\u001b[A\n",
            "\n",
            "ca-certificates-2023 | 127 KB    | :  13% 0.1263573543928924/1 [00:00<00:01,  1.65s/it]\n",
            "certifi-2022.12.7    | 152 KB    | :  11% 0.10548680771063237/1 [00:00<00:01,  1.98s/it]\u001b[A\n",
            "\n",
            "\n",
            "\n",
            "conda-23.1.0         | 958 KB    | :   2% 0.01669986117424976/1 [00:00<00:12, 12.50s/it]\u001b[A\u001b[A\u001b[A\u001b[A\n",
            "\n",
            "\n",
            "scipy-1.10.0         | 25.7 MB   | :   0% 0.0006082793713100044/1 [00:00<06:47, 407.86s/it]\u001b[A\u001b[A\u001b[A\n",
            "\n",
            "blas-1.0             | 48 KB     | : 100% 1.0/1 [00:00<00:00,  3.62it/s]                \u001b[A\u001b[A\n",
            "\n",
            "ca-certificates-2023 | 127 KB    | : 100% 1.0/1 [00:00<00:00,  3.72it/s]\n",
            "\n",
            "\n",
            "scipy-1.10.0         | 25.7 MB   | :  21% 0.20803154498802154/1 [00:00<00:01,  1.37s/it]   \u001b[A\u001b[A\u001b[A\n",
            "certifi-2022.12.7    | 152 KB    | : 100% 1.0/1 [00:00<00:00,  2.55it/s]                \u001b[A\n",
            "certifi-2022.12.7    | 152 KB    | : 100% 1.0/1 [00:00<00:00,  2.55it/s]\u001b[A\n",
            "\n",
            "\n",
            "scipy-1.10.0         | 25.7 MB   | :  46% 0.4629006015669134/1 [00:00<00:00,  1.34it/s] \u001b[A\u001b[A\u001b[A\n",
            "\n",
            "\n",
            "scipy-1.10.0         | 25.7 MB   | :  78% 0.7804224333907357/1 [00:00<00:00,  1.93it/s]\u001b[A\u001b[A\u001b[A\n",
            "\n",
            "\n",
            "\n",
            "conda-23.1.0         | 958 KB    | : 100% 1.0/1 [00:01<00:00,  1.55s/it]                \u001b[A\u001b[A\u001b[A\u001b[A\n",
            "\n",
            "\n",
            "\n",
            "conda-23.1.0         | 958 KB    | : 100% 1.0/1 [00:01<00:00,  1.55s/it]\u001b[A\u001b[A\u001b[A\u001b[A\n",
            "\n",
            "\n",
            "                                                                        \n",
            "                                                                        \u001b[A\n",
            "\n",
            "                                                                        \u001b[A\u001b[A\n",
            "\n",
            "\n",
            "                                                                        \u001b[A\u001b[A\u001b[A\n",
            "\n",
            "\n",
            "\n",
            "                                                                        \u001b[A\u001b[A\u001b[A\u001b[A\n",
            "Preparing transaction: | \b\bdone\n",
            "Verifying transaction: - \b\b\\ \b\bdone\n",
            "Executing transaction: / \b\b- \b\b\\ \b\b| \b\bdone\n",
            "Collecting package metadata (current_repodata.json): - \b\b\\ \b\b| \b\b/ \b\b- \b\b\\ \b\b| \b\b/ \b\b- \b\b\\ \b\b| \b\b/ \b\b- \b\b\\ \b\b| \b\b/ \b\b- \b\b\\ \b\b| \b\b/ \b\b- \b\b\\ \b\b| \b\b/ \b\b- \b\b\\ \b\b| \b\b/ \b\b- \b\b\\ \b\b| \b\b/ \b\b- \b\b\\ \b\b| \b\b/ \b\b- \b\b\\ \b\b| \b\b/ \b\b- \b\b\\ \b\b| \b\b/ \b\b- \b\b\\ \b\b| \b\b/ \b\b- \b\b\\ \b\b| \b\b/ \b\b- \b\b\\ \b\b| \b\b/ \b\b- \b\b\\ \b\b| \b\b/ \b\b- \b\b\\ \b\b| \b\b/ \b\b- \b\b\\ \b\b| \b\b/ \b\b- \b\b\\ \b\b| \b\b/ \b\b- \b\b\\ \b\b| \b\b/ \b\b- \b\b\\ \b\b| \b\b/ \b\b- \b\b\\ \b\b| \b\b/ \b\b- \b\b\\ \b\b| \b\b/ \b\b- \b\b\\ \b\b| \b\b/ \b\b- \b\b\\ \b\b| \b\b/ \b\b- \b\b\\ \b\b| \b\b/ \b\b- \b\b\\ \b\b| \b\b/ \b\b- \b\b\\ \b\b| \b\b/ \b\b- \b\b\\ \b\b| \b\b/ \b\b- \b\b\\ \b\b| \b\b/ \b\b- \b\b\\ \b\b| \b\b/ \b\b- \b\b\\ \b\b| \b\b/ \b\b- \b\b\\ \b\b| \b\b/ \b\b- \b\b\\ \b\b| \b\b/ \b\b- \b\b\\ \b\b| \b\b/ \b\b- \b\b\\ \b\b| \b\b/ \b\b- \b\b\\ \b\b| \b\b/ \b\b- \b\b\\ \b\b| \b\b/ \b\b- \b\b\\ \b\b| \b\b/ \b\b- \b\b\\ \b\b| \b\b/ \b\b- \b\b\\ \b\b| \b\b/ \b\b- \b\b\\ \b\b| \b\b/ \b\b- \b\b\\ \b\b| \b\b/ \b\b- \b\b\\ \b\b| \b\b/ \b\b- \b\b\\ \b\b| \b\b/ \b\b- \b\b\\ \b\b| \b\b/ \b\b- \b\b\\ \b\b| \b\b/ \b\b- \b\b\\ \b\b| \b\b/ \b\b- \b\b\\ \b\b| \b\bdone\n",
            "Solving environment: - \b\b\\ \b\b| \b\b/ \b\b- \b\b\\ \b\b| \b\b/ \b\b- \b\b\\ \b\b| \b\b/ \b\b- \b\b\\ \b\b| \b\b/ \b\b- \b\b\\ \b\b| \b\b/ \b\b- \b\b\\ \b\b| \b\b/ \b\b- \b\b\\ \b\b| \b\b/ \b\b- \b\b\\ \b\b| \b\b/ \b\b- \b\b\\ \b\b| \b\b/ \b\b- \b\b\\ \b\b| \b\b/ \b\b- \b\b\\ \b\b| \b\b/ \b\b- \b\b\\ \b\b| \b\b/ \b\b- \b\b\\ \b\b| \b\b/ \b\b- \b\b\\ \b\b| \b\b/ \b\b- \b\b\\ \b\b| \b\b/ \b\b- \b\b\\ \b\b| \b\b/ \b\b- \b\b\\ \b\b| \b\b/ \b\b- \b\b\\ \b\b| \b\b/ \b\b- \b\b\\ \b\b| \b\b/ \b\b- \b\b\\ \b\b| \b\b/ \b\b- \b\b\\ \b\b| \b\b/ \b\b- \b\b\\ \b\b| \b\b/ \b\b- \b\bdone\n",
            "\n",
            "## Package Plan ##\n",
            "\n",
            "  environment location: /usr/local\n",
            "\n",
            "  added / updated specs:\n",
            "    - scikit-learn\n",
            "\n",
            "\n",
            "The following packages will be downloaded:\n",
            "\n",
            "    package                    |            build\n",
            "    ---------------------------|-----------------\n",
            "    scikit-learn-1.2.0         |   py38h6a678d5_0         9.1 MB  anaconda\n",
            "    ------------------------------------------------------------\n",
            "                                           Total:         9.1 MB\n",
            "\n",
            "The following packages will be SUPERSEDED by a higher-priority channel:\n",
            "\n",
            "  scikit-learn       conda-forge::scikit-learn-1.2.1-py38h~ --> anaconda::scikit-learn-1.2.0-py38h6a678d5_0 \n",
            "\n",
            "\n",
            "\n",
            "Downloading and Extracting Packages\n",
            "                                                                        \n",
            "Preparing transaction: | \b\bdone\n",
            "Verifying transaction: - \b\bdone\n",
            "Executing transaction: | \b\b/ \b\b- \b\b\\ \b\b| \b\b/ \b\b- \b\b\\ \b\b| \b\b/ \b\b- \b\b\\ \n",
            "\n",
            "    Installed package of scikit-learn can be accelerated using scikit-learn-intelex.\n",
            "    More details are available here: https://intel.github.io/scikit-learn-intelex\n",
            "\n",
            "    For example:\n",
            "\n",
            "        $ conda install scikit-learn-intelex\n",
            "        $ python -m sklearnex my_application.py\n",
            "\n",
            "    \n",
            "\n",
            "\b\bdone\n",
            "Collecting package metadata (current_repodata.json): - \b\b\\ \b\b| \b\b/ \b\b- \b\b\\ \b\b| \b\b/ \b\b- \b\b\\ \b\b| \b\b/ \b\b- \b\b\\ \b\b| \b\b/ \b\b- \b\b\\ \b\b| \b\b/ \b\b- \b\b\\ \b\b| \b\b/ \b\b- \b\b\\ \b\b| \b\b/ \b\b- \b\b\\ \b\b| \b\b/ \b\bdone\n",
            "Solving environment: \\ \b\b| \b\b/ \b\b- \b\b\\ \b\b| \b\b/ \b\b- \b\b\\ \b\b| \b\b/ \b\b- \b\b\\ \b\b| \b\b/ \b\b- \b\b\\ \b\b| \b\b/ \b\b- \b\b\\ \b\b| \b\b/ \b\b- \b\b\\ \b\b| \b\b/ \b\b- \b\b\\ \b\b| \b\b/ \b\b- \b\b\\ \b\b| \b\b/ \b\b- \b\b\\ \b\b| \b\b/ \b\b- \b\b\\ \b\b| \b\b/ \b\b- \b\b\\ \b\b| \b\b/ \b\b- \b\b\\ \b\b| \b\b/ \b\b- \b\b\\ \b\b| \b\b/ \b\b- \b\b\\ \b\b| \b\b/ \b\b- \b\b\\ \b\b| \b\b/ \b\b- \b\b\\ \b\b| \b\b/ \b\b- \b\b\\ \b\b| \b\b/ \b\b- \b\b\\ \b\b| \b\b/ \b\b- \b\b\\ \b\b| \b\b/ \b\b- \b\bdone\n",
            "\n",
            "## Package Plan ##\n",
            "\n",
            "  environment location: /usr/local\n",
            "\n",
            "  added / updated specs:\n",
            "    - matplotlib\n",
            "\n",
            "\n",
            "The following packages will be downloaded:\n",
            "\n",
            "    package                    |            build\n",
            "    ---------------------------|-----------------\n",
            "    matplotlib-3.7.0           |   py38h578d9bd_0           8 KB  conda-forge\n",
            "    tornado-6.2                |   py38h0a891b7_1         654 KB  conda-forge\n",
            "    ------------------------------------------------------------\n",
            "                                           Total:         661 KB\n",
            "\n",
            "The following NEW packages will be INSTALLED:\n",
            "\n",
            "  matplotlib         conda-forge/linux-64::matplotlib-3.7.0-py38h578d9bd_0 \n",
            "  tornado            conda-forge/linux-64::tornado-6.2-py38h0a891b7_1 \n",
            "\n",
            "The following packages will be SUPERSEDED by a higher-priority channel:\n",
            "\n",
            "  ca-certificates    anaconda::ca-certificates-2023.01.10-~ --> conda-forge::ca-certificates-2022.12.7-ha878542_0 \n",
            "  certifi            anaconda/linux-64::certifi-2022.12.7-~ --> conda-forge/noarch::certifi-2022.12.7-pyhd8ed1ab_0 \n",
            "\n",
            "\n",
            "\n",
            "Downloading and Extracting Packages\n",
            "matplotlib-3.7.0     | 8 KB      | :   0% 0/1 [00:00<?, ?it/s]\n",
            "matplotlib-3.7.0     | 8 KB      | : 100% 1.0/1 [00:00<00:00,  5.26it/s]\n",
            "tornado-6.2          | 654 KB    | :   2% 0.024481428242698455/1 [00:00<00:08,  8.63s/it]\u001b[A\n",
            "tornado-6.2          | 654 KB    | : 100% 1.0/1 [00:00<00:00,  3.12it/s]                 \u001b[A\n",
            "                                                                        \n",
            "                                                                        \u001b[A\n",
            "Preparing transaction: | \b\bdone\n",
            "Verifying transaction: - \b\bdone\n",
            "Executing transaction: | \b\b/ \b\b- \b\b\\ \b\b| \b\b/ \b\b- \b\b\\ \b\b| \b\b/ \b\bdone\n",
            "/bin/bash: To: command not found\n",
            "Collecting package metadata (current_repodata.json): - \b\b\\ \b\b| \b\b/ \b\b- \b\b\\ \b\b| \b\b/ \b\b- \b\b\\ \b\b| \b\b/ \b\b- \b\b\\ \b\b| \b\b/ \b\b- \b\b\\ \b\b| \b\b/ \b\b- \b\b\\ \b\b| \b\b/ \b\b- \b\b\\ \b\b| \b\b/ \b\b- \b\b\\ \b\b| \b\b/ \b\b- \b\b\\ \b\b| \b\b/ \b\b- \b\b\\ \b\b| \b\b/ \b\b- \b\b\\ \b\b| \b\b/ \b\b- \b\b\\ \b\b| \b\b/ \b\b- \b\b\\ \b\b| \b\b/ \b\b- \b\b\\ \b\b| \b\b/ \b\b- \b\b\\ \b\b| \b\b/ \b\b- \b\b\\ \b\b| \b\b/ \b\b- \b\b\\ \b\b| \b\b/ \b\b- \b\b\\ \b\b| \b\b/ \b\b- \b\b\\ \b\b| \b\b/ \b\b- \b\b\\ \b\b| \b\b/ \b\b- \b\b\\ \b\b| \b\b/ \b\b- \b\b\\ \b\b| \b\b/ \b\b- \b\b\\ \b\b| \b\b/ \b\b- \b\b\\ \b\b| \b\b/ \b\b- \b\b\\ \b\bdone\n",
            "Solving environment: / \b\b- \b\b\\ \b\b| \b\b/ \b\b- \b\b\\ \b\b| \b\b/ \b\b- \b\b\\ \b\b| \b\b/ \b\b- \b\b\\ \b\b| \b\b/ \b\b- \b\b\\ \b\b| \b\b/ \b\b- \b\b\\ \b\b| \b\b/ \b\b- \b\b\\ \b\b| \b\b/ \b\b- \b\b\\ \b\b| \b\b/ \b\b- \b\b\\ \b\b| \b\b/ \b\b- \b\b\\ \b\b| \b\b/ \b\b- \b\b\\ \b\b| \b\b/ \b\b- \b\b\\ \b\b| \b\b/ \b\b- \b\b\\ \b\b| \b\b/ \b\b- \b\b\\ \b\b| \b\b/ \b\b- \b\b\\ \b\b| \b\b/ \b\b- \b\b\\ \b\b| \b\b/ \b\b- \b\b\\ \b\b| \b\b/ \b\b- \b\b\\ \b\b| \b\b/ \b\b- \b\b\\ \b\b| \b\b/ \b\b- \b\b\\ \b\b| \b\b/ \b\b- \b\b\\ \b\b| \b\b/ \b\b- \b\b\\ \b\b| \b\b/ \b\b- \b\b\\ \b\b| \b\b/ \b\b- \b\b\\ \b\b| \b\b/ \b\b- \b\b\\ \b\b| \b\b/ \b\b- \b\b\\ \b\b| \b\b/ \b\b- \b\b\\ \b\b| \b\b/ \b\b- \b\b\\ \b\b| \b\b/ \b\b- \b\b\\ \b\b| \b\b/ \b\b- \b\b\\ \b\b| \b\b/ \b\b- \b\b\\ \b\b| \b\b/ \b\b- \b\b\\ \b\b| \b\b/ \b\b- \b\b\\ \b\b| \b\b/ \b\b- \b\b\\ \b\b| \b\b/ \b\b- \b\b\\ \b\b| \b\b/ \b\b- \b\b\\ \b\b| \b\b/ \b\b- \b\b\\ \b\b| \b\b/ \b\b- \b\b\\ \b\b| \b\b/ \b\b- \b\b\\ \b\b| \b\b/ \b\b- \b\b\\ \b\b| \b\b/ \b\b- \b\b\\ \b\b| \b\b/ \b\b- \b\b\\ \b\b| \b\b/ \b\b- \b\b\\ \b\b| \b\b/ \b\b- \b\b\\ \b\b| \b\b/ \b\b- \b\b\\ \b\b| \b\b/ \b\b- \b\b\\ \b\b| \b\b/ \b\b- \b\b\\ \b\b| \b\b/ \b\b- \b\b\\ \b\b| \b\b/ \b\b- \b\b\\ \b\b| \b\b/ \b\b- \b\b\\ \b\b| \b\b/ \b\b- \b\b\\ \b\b| \b\b/ \b\b- \b\b\\ \b\b| \b\b/ \b\b- \b\b\\ \b\b| \b\b/ \b\b- \b\b\\ \b\b| \b\b/ \b\b- \b\b\\ \b\b| \b\b/ \b\b- \b\b\\ \b\b| \b\b/ \b\b- \b\b\\ \b\b| \b\b/ \b\b- \b\b\\ \b\b| \b\b/ \b\b- \b\b\\ \b\b| \b\b/ \b\b- \b\b\\ \b\b| \b\b/ \b\b- \b\b\\ \b\b| \b\b/ \b\b- \b\b\\ \b\b| \b\b/ \b\b- \b\b\\ \b\b| \b\b/ \b\b- \b\b\\ \b\b| \b\b/ \b\b- \b\b\\ \b\b| \b\b/ \b\b- \b\b\\ \b\b| \b\b/ \b\b- \b\b\\ \b\b| \b\b/ \b\b- \b\b\\ \b\b| \b\b/ \b\b- \b\b\\ \b\b| \b\b/ \b\b- \b\b\\ \b\b| \b\b/ \b\b- \b\b\\ \b\b| \b\b/ \b\bdone\n",
            "\n",
            "## Package Plan ##\n",
            "\n",
            "  environment location: /usr/local\n",
            "\n",
            "  added / updated specs:\n",
            "    - seaborn\n",
            "\n",
            "\n",
            "The following packages will be downloaded:\n",
            "\n",
            "    package                    |            build\n",
            "    ---------------------------|-----------------\n",
            "    seaborn-0.12.2             |   py38h06a4308_0         488 KB  anaconda\n",
            "    ------------------------------------------------------------\n",
            "                                           Total:         488 KB\n",
            "\n",
            "The following packages will be UPDATED:\n",
            "\n",
            "  ca-certificates    conda-forge::ca-certificates-2022.12.~ --> anaconda::ca-certificates-2023.01.10-h06a4308_0 \n",
            "\n",
            "The following packages will be SUPERSEDED by a higher-priority channel:\n",
            "\n",
            "  certifi            conda-forge/noarch::certifi-2022.12.7~ --> anaconda/linux-64::certifi-2022.12.7-py38h06a4308_0 \n",
            "  seaborn            conda-forge/noarch::seaborn-0.12.2-hd~ --> anaconda/linux-64::seaborn-0.12.2-py38h06a4308_0 \n",
            "\n",
            "\n",
            "\n",
            "Downloading and Extracting Packages\n",
            "                                                                        \n",
            "Preparing transaction: \\ \b\bdone\n",
            "Verifying transaction: / \b\b- \b\b\\ \b\bdone\n",
            "Executing transaction: / \b\bdone\n",
            "--2023-02-17 20:49:32--  https://sourceforge.net/projects/smina/files/smina.static/download\n",
            "Resolving sourceforge.net (sourceforge.net)... 104.18.11.128, 104.18.10.128, 2606:4700::6812:b80, ...\n",
            "Connecting to sourceforge.net (sourceforge.net)|104.18.11.128|:443... connected.\n",
            "HTTP request sent, awaiting response... 302 Found\n",
            "Location: https://downloads.sourceforge.net/project/smina/smina.static?ts=gAAAAABj7-hcdnCnSoANENO0POvQv6cUKqcDMSKG3OIVDUqJR-JPQNI6wQqHq-ghWleD5KYXMza0Z3nnPUWClvzUX69UJwmPdQ%3D%3D&use_mirror=newcontinuum&r= [following]\n",
            "--2023-02-17 20:49:32--  https://downloads.sourceforge.net/project/smina/smina.static?ts=gAAAAABj7-hcdnCnSoANENO0POvQv6cUKqcDMSKG3OIVDUqJR-JPQNI6wQqHq-ghWleD5KYXMza0Z3nnPUWClvzUX69UJwmPdQ%3D%3D&use_mirror=newcontinuum&r=\n",
            "Resolving downloads.sourceforge.net (downloads.sourceforge.net)... 204.68.111.105\n",
            "Connecting to downloads.sourceforge.net (downloads.sourceforge.net)|204.68.111.105|:443... connected.\n",
            "HTTP request sent, awaiting response... 302 Found\n",
            "Location: https://newcontinuum.dl.sourceforge.net/project/smina/smina.static [following]\n",
            "--2023-02-17 20:49:33--  https://newcontinuum.dl.sourceforge.net/project/smina/smina.static\n",
            "Resolving newcontinuum.dl.sourceforge.net (newcontinuum.dl.sourceforge.net)... 64.79.96.4, 2607:ff50:0:11::32\n",
            "Connecting to newcontinuum.dl.sourceforge.net (newcontinuum.dl.sourceforge.net)|64.79.96.4|:443... connected.\n",
            "HTTP request sent, awaiting response... 200 OK\n",
            "Length: 9853920 (9.4M) [application/octet-stream]\n",
            "Saving to: ‘smina.static’\n",
            "\n",
            "smina.static        100%[===================>]   9.40M  73.0KB/s    in 2m 3s   \n",
            "\n",
            "2023-02-17 20:51:48 (78.3 KB/s) - ‘smina.static’ saved [9853920/9853920]\n",
            "\n",
            "2022.09.4\n"
          ]
        }
      ]
    },
    {
      "cell_type": "code",
      "source": [
        "import sys\n",
        "from collections import defaultdict\n",
        "import numpy as np\n",
        "from rdkit import Chem\n",
        "from rdkit.Chem import AllChem\n",
        "from rdkit.Chem.Draw import IPythonConsole\n",
        "from rdkit.Chem import PandasTools\n",
        "import pandas as pd\n",
        "IPythonConsole.ipython_3d=True\n",
        "%pylab inline\n",
        "\n",
        "import py3Dmol"
      ],
      "metadata": {
        "id": "oKIjcdxuEq4T",
        "outputId": "c7e674da-3e3a-4905-f5e2-dccc9c681c51",
        "colab": {
          "base_uri": "https://localhost:8080/"
        }
      },
      "execution_count": null,
      "outputs": [
        {
          "output_type": "stream",
          "name": "stdout",
          "text": [
            "Populating the interactive namespace from numpy and matplotlib\n"
          ]
        }
      ]
    },
    {
      "cell_type": "markdown",
      "source": [
        "# Prepare receptor"
      ],
      "metadata": {
        "id": "AIUJdJuLRzs4"
      }
    },
    {
      "cell_type": "code",
      "execution_count": null,
      "metadata": {
        "id": "nbHM8p20i7pD",
        "cellView": "form"
      },
      "outputs": [],
      "source": [
        "#@title Write out a script for pymol\n",
        "com_file = open('split.pml','w')\n",
        "com_file.write('''\n",
        "load 3HTB.pdb\n",
        "remove resn HOH\n",
        "h_add elem O or elem N\n",
        "select 3HTB-JZ4, resn JZ4 #Create a selection called 1OYT-FSN from the ligand\n",
        "select 3HTB-receptor, 3HTB and not 3HTB-JZ4 #Select all that is not the ligand\n",
        "save 3HTB-JZ4.pdb, 3HTB-JZ4\n",
        "save 3HTB-receptor.pdb, 3HTB-receptor    \n",
        "''')\n",
        "com_file.close()"
      ]
    },
    {
      "cell_type": "code",
      "source": [
        "#@title Correct the script with right PDB ID and ligand name\n",
        "!sed -i 's/3HTB/{PDB_ID}/g' split.pml\n",
        "!sed 's/JZ4/{Ligand}/g' split.pml\n",
        "!sed -i 's/JZ4/{Ligand}/g' split.pml"
      ],
      "metadata": {
        "cellView": "form",
        "id": "Gpjf85fDeTf5",
        "colab": {
          "base_uri": "https://localhost:8080/"
        },
        "outputId": "524df37c-507b-49a7-bbcc-f9b267399746"
      },
      "execution_count": null,
      "outputs": [
        {
          "output_type": "stream",
          "name": "stdout",
          "text": [
            "\n",
            "load 7L10.pdb\n",
            "remove resn HOH\n",
            "h_add elem O or elem N\n",
            "select 7L10-XEY, resn XEY #Create a selection called 1OYT-FSN from the ligand\n",
            "select 7L10-receptor, 7L10 and not 7L10-XEY #Select all that is not the ligand\n",
            "save 7L10-XEY.pdb, 7L10-XEY\n",
            "save 7L10-receptor.pdb, 7L10-receptor    \n"
          ]
        }
      ]
    },
    {
      "cell_type": "code",
      "execution_count": null,
      "metadata": {
        "cellView": "form",
        "id": "scOeFAqYi7pD",
        "outputId": "2afd4f35-6212-473a-dd0c-1d2d01049e9b",
        "colab": {
          "base_uri": "https://localhost:8080/"
        }
      },
      "outputs": [
        {
          "output_type": "stream",
          "name": "stdout",
          "text": [
            "/content\n",
            " PyMOL(TM) Molecular Graphics System, Version 2.5.0.\n",
            " Copyright (c) Schrodinger, LLC.\n",
            " All Rights Reserved.\n",
            " \n",
            "    Created by Warren L. DeLano, Ph.D. \n",
            " \n",
            "    PyMOL is user-supported open-source software.  Although some versions\n",
            "    are freely available, PyMOL is not in the public domain.\n",
            " \n",
            "    If PyMOL is helpful in your work or study, then please volunteer \n",
            "    support for our ongoing efforts to create open and affordable scientific\n",
            "    software by purchasing a PyMOL Maintenance and/or Support subscription.\n",
            "\n",
            "    More information can be found at \"http://www.pymol.org\".\n",
            " \n",
            "    Enter \"help\" for a list of commands.\n",
            "    Enter \"help <command-name>\" for information on a specific command.\n",
            "\n",
            " Hit ESC anytime to toggle between text and graphics.\n",
            "\n",
            " Detected 2 CPU cores.  Enabled multithreaded rendering.\n",
            "PyMOL>load 7L10.pdb\n",
            "HEADER    VIRAL PROTEIN, HYDROLASE                13-DEC-20   7L10\n",
            "TITLE     CRYSTAL STRUCTURE OF THE SARS-COV-2 (2019-NCOV) MAIN PROTEASE IN\n",
            "TITLE    2 COMPLEX WITH COMPOUND 4\n",
            "COMPND    MOL_ID: 1;\n",
            "COMPND   2 MOLECULE: 3C-LIKE PROTEINASE;\n",
            "COMPND   3 CHAIN: A;\n",
            "COMPND   4 EC: 3.4.22.69;\n",
            "COMPND   5 ENGINEERED: YES\n",
            " ObjectMolecule: Read secondary structure assignments.\n",
            " ObjectMolecule: Read crystal symmetry information.\n",
            " CmdLoad: \"\" loaded as \"7L10\".\n",
            "PyMOL>remove resn HOH\n",
            " Remove: eliminated 239 atoms in model \"7L10\".\n",
            "PyMOL>h_add elem O or elem N\n",
            "PyMOL>select 7L10-XEY, resn XEY #Create a selection called 1OYT-FSN from the ligand\n",
            " Selector: selection \"7L10-XEY\" defined with 30 atoms.\n",
            "PyMOL>select 7L10-receptor, 7L10 and not 7L10-XEY #Select all that is not the ligand\n",
            " Selector: selection \"7L10-receptor\" defined with 2856 atoms.\n",
            "PyMOL>save 7L10-XEY.pdb, 7L10-XEY\n",
            " Save: wrote \"7L10-XEY.pdb\".\n",
            "PyMOL>save 7L10-receptor.pdb, 7L10-receptor\n",
            " Save: wrote \"7L10-receptor.pdb\".\n"
          ]
        }
      ],
      "source": [
        "#@title Run pymol to split protein and native ligand\n",
        "%cd '{path}'\n",
        "! pymol -c split.pml"
      ]
    },
    {
      "cell_type": "markdown",
      "source": [
        "# Variable assignment"
      ],
      "metadata": {
        "id": "BFtBn4YxVjYk"
      }
    },
    {
      "cell_type": "code",
      "source": [
        "Protein_PDB_file_name = PDB_ID + '-receptor.pdb'\n",
        "ligand_name = PDB_ID + '-' + Ligand + '.pdb'"
      ],
      "metadata": {
        "id": "DTfZKqsqUUDV"
      },
      "execution_count": null,
      "outputs": []
    },
    {
      "cell_type": "markdown",
      "source": [
        "# PDBFixer to prepare the receptor"
      ],
      "metadata": {
        "id": "pZKX9tmTypnT"
      }
    },
    {
      "cell_type": "code",
      "source": [
        "!conda install -c conda-forge openmm -y"
      ],
      "metadata": {
        "id": "9bfwlEoWx-Ft",
        "outputId": "7f5228b8-1ac2-4c43-ddf0-5f7f334d9c7f",
        "colab": {
          "base_uri": "https://localhost:8080/"
        }
      },
      "execution_count": null,
      "outputs": [
        {
          "output_type": "stream",
          "name": "stdout",
          "text": [
            "Collecting package metadata (current_repodata.json): - \b\b\\ \b\b| \b\b/ \b\b- \b\b\\ \b\b| \b\b/ \b\b- \b\b\\ \b\b| \b\b/ \b\b- \b\b\\ \b\b| \b\b/ \b\b- \b\b\\ \b\b| \b\b/ \b\b- \b\b\\ \b\b| \b\b/ \b\b- \b\b\\ \b\b| \b\b/ \b\b- \b\b\\ \b\b| \b\b/ \b\b- \b\b\\ \b\b| \b\b/ \b\b- \b\b\\ \b\b| \b\b/ \b\b- \b\b\\ \b\b| \b\b/ \b\b- \b\b\\ \b\b| \b\b/ \b\b- \b\b\\ \b\b| \b\b/ \b\b- \b\b\\ \b\b| \b\b/ \b\b- \b\b\\ \b\b| \b\bdone\n",
            "Solving environment: - \b\b\\ \b\b| \b\b/ \b\b- \b\b\\ \b\b| \b\b/ \b\b- \b\b\\ \b\b| \b\b/ \b\b- \b\b\\ \b\b| \b\b/ \b\b- \b\b\\ \b\b| \b\b/ \b\b- \b\b\\ \b\b| \b\b/ \b\b- \b\b\\ \b\b| \b\b/ \b\b- \b\b\\ \b\b| \b\b/ \b\b- \b\b\\ \b\b| \b\b/ \b\b- \b\b\\ \b\b| \b\b/ \b\b- \b\b\\ \b\b| \b\b/ \b\b- \b\b\\ \b\b| \b\b/ \b\b- \b\b\\ \b\b| \b\b/ \b\b- \b\b\\ \b\b| \b\b/ \b\b- \b\b\\ \b\b| \b\b/ \b\b- \b\b\\ \b\b| \b\b/ \b\b- \b\b\\ \b\b| \b\bdone\n",
            "\n",
            "## Package Plan ##\n",
            "\n",
            "  environment location: /usr/local\n",
            "\n",
            "  added / updated specs:\n",
            "    - openmm\n",
            "\n",
            "\n",
            "The following packages will be downloaded:\n",
            "\n",
            "    package                    |            build\n",
            "    ---------------------------|-----------------\n",
            "    ocl-icd-2.3.1              |       h7f98852_0         119 KB  conda-forge\n",
            "    ocl-icd-system-1.0.0       |                1           4 KB  conda-forge\n",
            "    openmm-8.0.0               |   py38he9472fe_0        10.7 MB  conda-forge\n",
            "    ------------------------------------------------------------\n",
            "                                           Total:        10.8 MB\n",
            "\n",
            "The following NEW packages will be INSTALLED:\n",
            "\n",
            "  ocl-icd            conda-forge/linux-64::ocl-icd-2.3.1-h7f98852_0 \n",
            "  ocl-icd-system     conda-forge/linux-64::ocl-icd-system-1.0.0-1 \n",
            "  openmm             conda-forge/linux-64::openmm-8.0.0-py38he9472fe_0 \n",
            "\n",
            "The following packages will be SUPERSEDED by a higher-priority channel:\n",
            "\n",
            "  ca-certificates    anaconda::ca-certificates-2023.01.10-~ --> conda-forge::ca-certificates-2022.12.7-ha878542_0 \n",
            "  certifi            anaconda/linux-64::certifi-2022.12.7-~ --> conda-forge/noarch::certifi-2022.12.7-pyhd8ed1ab_0 \n",
            "\n",
            "\n",
            "\n",
            "Downloading and Extracting Packages\n",
            "openmm-8.0.0         | 10.7 MB   | :   0% 0/1 [00:00<?, ?it/s]\n",
            "ocl-icd-system-1.0.0 | 4 KB      | :   0% 0/1 [00:00<?, ?it/s]\u001b[A\n",
            "\n",
            "ocl-icd-2.3.1        | 119 KB    | :   0% 0/1 [00:00<?, ?it/s]\u001b[A\u001b[A\n",
            "\n",
            "openmm-8.0.0         | 10.7 MB   | :   0% 0.0014624557509840602/1 [00:00<01:52, 112.40s/it]\n",
            "ocl-icd-system-1.0.0 | 4 KB      | : 100% 1.0/1 [00:00<00:00,  6.05it/s]\u001b[A\n",
            "openmm-8.0.0         | 10.7 MB   | :  69% 0.6888166587134924/1 [00:00<00:00,  3.20it/s]    \n",
            "\n",
            "ocl-icd-2.3.1        | 119 KB    | : 100% 1.0/1 [00:00<00:00,  3.50it/s]               \u001b[A\u001b[A\n",
            "\n",
            "                                                                        \n",
            "                                                                        \u001b[A\n",
            "\n",
            "                                                                        \u001b[A\u001b[A\n",
            "Preparing transaction: - \b\bdone\n",
            "Verifying transaction: | \b\bdone\n",
            "Executing transaction: - \b\b\\ \b\b| \b\b/ \b\b- \b\b\\ \b\b| \b\b/ \b\b- \b\b\\ \b\b| \b\b/ \b\b- \b\b\\ \b\b| \b\b/ \b\b- \b\b\\ \b\b| \b\b/ \b\b- \b\b\\ \b\b| \b\b/ \b\b- \b\b\\ \b\b| \b\b/ \b\b- \b\b\\ \b\b| \b\bdone\n"
          ]
        }
      ]
    },
    {
      "cell_type": "code",
      "source": [
        "!conda install -c conda-forge pdbfixer"
      ],
      "metadata": {
        "id": "lZ-B8goUx-Jd",
        "outputId": "ab134c3c-9f05-4819-8492-bd11140c03e3",
        "colab": {
          "base_uri": "https://localhost:8080/"
        }
      },
      "execution_count": null,
      "outputs": [
        {
          "output_type": "stream",
          "name": "stdout",
          "text": [
            "Collecting package metadata (current_repodata.json): - \b\b\\ \b\b| \b\b/ \b\b- \b\b\\ \b\b| \b\b/ \b\b- \b\b\\ \b\b| \b\b/ \b\b- \b\b\\ \b\b| \b\b/ \b\b- \b\b\\ \b\b| \b\b/ \b\b- \b\b\\ \b\b| \b\b/ \b\b- \b\bdone\n",
            "Solving environment: | \b\b/ \b\b- \b\b\\ \b\b| \b\b/ \b\b- \b\b\\ \b\b| \b\b/ \b\b- \b\b\\ \b\b| \b\b/ \b\b- \b\b\\ \b\b| \b\b/ \b\b- \b\b\\ \b\b| \b\b/ \b\b- \b\b\\ \b\b| \b\b/ \b\b- \b\b\\ \b\b| \b\b/ \b\b- \b\b\\ \b\b| \b\b/ \b\b- \b\b\\ \b\b| \b\b/ \b\b- \b\b\\ \b\b| \b\b/ \b\b- \b\b\\ \b\b| \b\b/ \b\b- \b\b\\ \b\b| \b\b/ \b\b- \b\b\\ \b\b| \b\b/ \b\b- \b\b\\ \b\b| \b\b/ \b\b- \b\b\\ \b\b| \b\bdone\n",
            "\n",
            "## Package Plan ##\n",
            "\n",
            "  environment location: /usr/local\n",
            "\n",
            "  added / updated specs:\n",
            "    - pdbfixer\n",
            "\n",
            "\n",
            "The following packages will be downloaded:\n",
            "\n",
            "    package                    |            build\n",
            "    ---------------------------|-----------------\n",
            "    pdbfixer-1.8.1             |     pyh6c4a22f_0         498 KB  conda-forge\n",
            "    ------------------------------------------------------------\n",
            "                                           Total:         498 KB\n",
            "\n",
            "The following NEW packages will be INSTALLED:\n",
            "\n",
            "  pdbfixer           conda-forge/noarch::pdbfixer-1.8.1-pyh6c4a22f_0 \n",
            "\n",
            "\n",
            "\n",
            "Downloading and Extracting Packages\n",
            "                                                                        \n",
            "Preparing transaction: - \b\bdone\n",
            "Verifying transaction: | \b\bdone\n",
            "Executing transaction: - \b\b\\ \b\b| \b\b/ \b\b- \b\b\\ \b\b| \b\b/ \b\b- \b\b\\ \b\b| \b\b/ \b\b- \b\b\\ \b\bdone\n"
          ]
        }
      ]
    },
    {
      "cell_type": "code",
      "source": [
        "!pdbfixer --help"
      ],
      "metadata": {
        "id": "EQ6wF3F_x-pB",
        "outputId": "90f3dcc4-9545-46de-c0d9-ad0916686d4a",
        "colab": {
          "base_uri": "https://localhost:8080/"
        }
      },
      "execution_count": null,
      "outputs": [
        {
          "output_type": "stream",
          "name": "stdout",
          "text": [
            "Usage: pdbfixer\n",
            "       pdbfixer filename [options] \n",
            "\n",
            "When run with no arguments, it launches the user interface.  If any arguments are specified, it runs in command line mode.\n",
            "\n",
            "Options:\n",
            "  -h, --help            show this help message and exit\n",
            "  --pdbid=PDBID         PDB id to retrieve from RCSB [default: None]\n",
            "  --url=URL             URL to retrieve PDB from [default: None]\n",
            "  --output=FILENAME     output pdb file [default: output.pdb]\n",
            "  --add-atoms=ATOMS     which missing atoms to add: all, heavy, hydrogen, or\n",
            "                        none [default: all]\n",
            "  --keep-heterogens=OPTION\n",
            "                        which heterogens to keep: all, water, or none\n",
            "                        [default: all]\n",
            "  --replace-nonstandard\n",
            "                        replace nonstandard residues with standard equivalents\n",
            "  --add-residues        add missing residues\n",
            "  --water-box=X Y Z     add a water box. The value is the box dimensions in nm\n",
            "                        [example: --water-box=2.5 2.4 3.0]\n",
            "  --ph=PH               the pH to use for adding missing hydrogens [default:\n",
            "                        7.0]\n",
            "  --positive-ion=ION    positive ion to include in the water box: Cs+, K+,\n",
            "                        Li+, Na+, or Rb+ [default: Na+]\n",
            "  --negative-ion=ION    negative ion to include in the water box: Cl-, Br-,\n",
            "                        F-, or I- [default: Cl-]\n",
            "  --ionic-strength=STRENGTH\n",
            "                        molar concentration of ions to add to the water box\n",
            "                        [default: 0.0]\n",
            "  --verbose             Print verbose output\n"
          ]
        }
      ]
    },
    {
      "cell_type": "code",
      "source": [],
      "metadata": {
        "id": "QcuSUgrX0ldg"
      },
      "execution_count": null,
      "outputs": []
    },
    {
      "cell_type": "code",
      "source": [
        "!pdbfixer  {Protein_PDB_file_name} --ph=7  --replace-nonstandard --add-residues "
      ],
      "metadata": {
        "id": "gld65kMi0Ka8",
        "outputId": "6368e07a-aee4-4353-aedb-f8a953e805c6",
        "colab": {
          "base_uri": "https://localhost:8080/"
        }
      },
      "execution_count": null,
      "outputs": [
        {
          "output_type": "stream",
          "name": "stdout",
          "text": [
            "Warning: importing 'simtk.openmm' is deprecated.  Import 'openmm' instead.\n"
          ]
        }
      ]
    },
    {
      "cell_type": "code",
      "source": [
        "!cat output.pdb > receptor.pdb"
      ],
      "metadata": {
        "id": "8POZF8t_16K1"
      },
      "execution_count": null,
      "outputs": []
    },
    {
      "cell_type": "markdown",
      "source": [
        "# Caculating charges for receptor"
      ],
      "metadata": {
        "id": "Yq55r4UdpoJg"
      }
    },
    {
      "cell_type": "code",
      "metadata": {
        "jupyter": {
          "source_hidden": true
        },
        "id": "y0IUuw0h0EO7",
        "colab": {
          "base_uri": "https://localhost:8080/"
        },
        "outputId": "5039b3c1-cabb-4025-8636-dd23e6408dcd"
      },
      "source": [
        "#@title Target and native ligand preparation before docking\n",
        "#!obabel {Protein_PDB_file_name} -xr -O receptor.pdbqt\n",
        "!obabel receptor.pdb -xr -O receptor.pdbqt\n",
        "!obabel {ligand_name} -O native_ligand.pdbqt"
      ],
      "execution_count": null,
      "outputs": [
        {
          "output_type": "stream",
          "name": "stdout",
          "text": [
            "==============================\n",
            "*** Open Babel Warning  in PerceiveBondOrders\n",
            "  Failed to kekulize aromatic bonds in OBMol::PerceiveBondOrders (title is receptor.pdb)\n",
            "\n",
            "1 molecule converted\n",
            "==============================\n",
            "*** Open Babel Warning  in PerceiveBondOrders\n",
            "  Failed to kekulize aromatic bonds in OBMol::PerceiveBondOrders (title is 7L10-XEY.pdb)\n",
            "\n",
            "1 molecule converted\n"
          ]
        }
      ]
    },
    {
      "cell_type": "markdown",
      "source": [
        "# Paste your SMILES and Prepare ligand"
      ],
      "metadata": {
        "id": "Nev8kDowRvSK"
      }
    },
    {
      "cell_type": "markdown",
      "source": [
        "In this script, the smiles_list variable contains the list of SMILES strings that you want to convert to an SDF file. The script creates a new SDWriter object to write the output SDF file, and then loops over each SMILES string in the list. For each SMILES string, it uses the Chem.MolFromSmiles function from RDKit to convert the SMILES to a molecule object. It then uses the AllChem.Compute2DCoords function to add 2D coordinates to the molecule, which can be useful for visualization. Finally, it sets a unique name for the molecule using the mol.SetProp('_Name', ...) method, and then writes the molecule to the output SDF file using the writer.write method.\n",
        "\n",
        "The resulting SDF file will contain one molecule for each SMILES string in the input list, with a unique name assigned to each molecule based on its position in the list."
      ],
      "metadata": {
        "id": "J7zukAMHQl8K"
      }
    },
    {
      "cell_type": "code",
      "source": [
        "#@title Generate sdf file, this sdf contains all the moclecule you have provided.\n",
        "from rdkit import Chem\n",
        "from rdkit.Chem import AllChem\n",
        "from rdkit.Chem import SDWriter\n",
        "\n",
        "# Define the list of SMILES strings\n",
        "\n",
        "\n",
        "# Create a new SDWriter object to write the output SDF file\n",
        "writer = SDWriter('small.sdf')\n",
        "\n",
        "# Loop over each SMILES string in the list and convert it to a molecule object,\n",
        "# then add it to the SDF file with a unique name\n",
        "for i, smiles in enumerate(smiles_list):\n",
        "    mol = Chem.MolFromSmiles(smiles)\n",
        "    AllChem.Compute2DCoords(mol)  # Add 2D coordinates for visualization\n",
        "    mol.SetProp('_Name', f'Molecule_{i+1}')\n",
        "    writer.write(mol)\n",
        "\n",
        "# Close the SDF writer\n",
        "writer.close()"
      ],
      "metadata": {
        "cellView": "form",
        "id": "99Etb47gPUnK"
      },
      "execution_count": null,
      "outputs": []
    },
    {
      "cell_type": "code",
      "source": [
        "#@title Define small ligand path and output molecule number\n",
        "# File locations\n",
        "sdfFilePath = 'small.sdf' #@param {type:\"string\"}\n",
        "ConfoutputFilePath = 'small_conformation.sdf' #@param {type:\"string\"}\n",
        "\n",
        "inputMols = [x for x in Chem.SDMolSupplier(sdfFilePath,removeHs=False)]\n",
        "# Assign atomic chirality based on the structures:\n",
        "len(inputMols) # Check how many strucures"
      ],
      "metadata": {
        "cellView": "form",
        "colab": {
          "base_uri": "https://localhost:8080/"
        },
        "id": "2MrRF4lkCjzT",
        "outputId": "db64aaed-6677-4962-95c3-aae3a0b88c8e"
      },
      "execution_count": null,
      "outputs": [
        {
          "output_type": "execute_result",
          "data": {
            "text/plain": [
              "2"
            ]
          },
          "metadata": {},
          "execution_count": 46
        }
      ]
    },
    {
      "cell_type": "code",
      "execution_count": null,
      "metadata": {
        "cellView": "form",
        "id": "sKfSM19Jwj-f",
        "colab": {
          "base_uri": "https://localhost:8080/"
        },
        "outputId": "49d2cdee-2640-432b-fca0-f06115278632"
      },
      "outputs": [
        {
          "output_type": "stream",
          "name": "stderr",
          "text": [
            "Generating conformations; 100% Time:  0:00:00 |###############################|\n"
          ]
        }
      ],
      "source": [
        "#@title SDF conformation generation for small molecule\n",
        "\n",
        "import multiprocessing\n",
        "\n",
        "# Download this from http://pypi.python.org/pypi/futures\n",
        "from concurrent import futures\n",
        "\n",
        "# conda install progressbar\n",
        "import progressbar\n",
        "\n",
        "#Find number cores available, leave two or system might be unresponsive\n",
        "numcores = multiprocessing.cpu_count()\n",
        "max_workers = numcores #-1\n",
        "\n",
        "#Knowledge based torsion generator http://pubs.acs.org/doi/abs/10.1021/acs.jcim.5b00654\n",
        "# This function is called in the subprocess.\n",
        "# The parameters (molecule and number of conformers) are passed via a Python\n",
        "\n",
        "ps = AllChem.ETKDG()\n",
        "ps.pruneRmsThresh=0.5\n",
        "ps.numThreads=0\n",
        "#Edit for number of confs desired eg n = 5\n",
        "n=5\n",
        "def generateconformations(m, n, name):\n",
        "    m = Chem.AddHs(m)\n",
        "    ids=AllChem.EmbedMultipleConfs(m, n, ps)\n",
        "    for id in ids:\n",
        "        AllChem.UFFOptimizeMolecule(m, confId=id)\n",
        "    # EmbedMultipleConfs returns a Boost-wrapped type which\n",
        "    # cannot be pickled. Convert it to a Python list, which can.\n",
        "    return m, list(ids), name\n",
        "\n",
        "smi_input_file, sdf_output_file = sys.argv[1:3]\n",
        "\n",
        "\n",
        "writer = Chem.SDWriter(ConfoutputFilePath)\n",
        "# suppl = [x for x in Chem.SDMolSupplier(sdfFilePath,removeHs=False)]\n",
        "#suppl = Chem.SmilesMolSupplier(smi_input_file, titleLine=False)\n",
        "\n",
        "# for mol in suppl:\n",
        "#     print(mol.GetPropsAsDict(includePrivate=True).get('_Name'))\n",
        "\n",
        "with futures.ProcessPoolExecutor(max_workers=max_workers) as executor:\n",
        "    # Submit a set of asynchronous jobs\n",
        "    jobs = []\n",
        "    for mol in inputMols:\n",
        "        if mol:\n",
        "            name = mol.GetProp('_Name')\n",
        "            job = executor.submit(generateconformations, mol, n, name)\n",
        "            jobs.append(job)\n",
        "\n",
        "    widgets = [\"Generating conformations; \", progressbar.Percentage(), \" \",\n",
        "               progressbar.ETA(), \" \", progressbar.Bar()]\n",
        "    pbar = progressbar.ProgressBar(widgets=widgets, maxval=len(jobs))\n",
        "    for job in pbar(futures.as_completed(jobs)):\n",
        "        mol, ids, name = job.result()\n",
        "        mol.SetProp('_Name', name)\n",
        "        for id in ids:\n",
        "            writer.write(mol, confId=id)\n",
        "writer.close()"
      ]
    },
    {
      "cell_type": "code",
      "source": [
        "ms = [x for x in Chem.SDMolSupplier(ConfoutputFilePath,removeHs=False)]\n",
        "# Assign atomic chirality based on the structures:\n",
        "for m in ms: Chem.AssignAtomChiralTagsFromStructure(m)\n",
        "len(ms) # check how many conformations"
      ],
      "metadata": {
        "outputId": "99516dea-696f-475b-89ab-55530d88032b",
        "colab": {
          "base_uri": "https://localhost:8080/"
        },
        "id": "xwHywYJDQErZ"
      },
      "execution_count": null,
      "outputs": [
        {
          "output_type": "execute_result",
          "data": {
            "text/plain": [
              "10"
            ]
          },
          "metadata": {},
          "execution_count": 48
        }
      ]
    },
    {
      "cell_type": "markdown",
      "source": [
        "# Define Docking inputs variables"
      ],
      "metadata": {
        "id": "0W-wd1QGRjXb"
      }
    },
    {
      "cell_type": "code",
      "execution_count": null,
      "metadata": {
        "cellView": "form",
        "id": "6N-veZedu3LD"
      },
      "outputs": [],
      "source": [
        "#@title 👋 Input names needed for Dock1\n",
        "ProteinForDocking = \"receptor.pdbqt\" #@param {type:\"string\"}\n",
        "LigandFromProtein = \"native_ligand.pdbqt\" #@param {type:\"string\"}\n",
        "Docked_out_FilePath = \"All_Docked.sdf.gz\" #@param {type:\"string\"}\n",
        "FlexibleDockedFilePath = \"FlexibleDocked.sdf.gz\" #@param {type:\"string\"}"
      ]
    },
    {
      "cell_type": "markdown",
      "source": [
        "# Docking "
      ],
      "metadata": {
        "id": "eBRDz0YhaSEu"
      }
    },
    {
      "cell_type": "code",
      "source": [
        "#@title  Normal Docking (docking box is 8Å greater than the ligand specified. The –exhaustiveness is 8 )\n",
        "!./smina.static --seed 0 --autobox_ligand '{LigandFromProtein}' -r '{ProteinForDocking}' -l '{ConfoutputFilePath}'  -o '{Docked_out_FilePath}'  --log arg "
      ],
      "metadata": {
        "colab": {
          "base_uri": "https://localhost:8080/"
        },
        "id": "HpT1N-2sGFtN",
        "outputId": "4a30dd90-8685-44f8-f0d5-1e8a8e284ee1",
        "cellView": "form"
      },
      "execution_count": 80,
      "outputs": [
        {
          "output_type": "stream",
          "name": "stdout",
          "text": [
            "==============================\n",
            "*** Open Babel Warning  in PerceiveBondOrders\n",
            "  Failed to kekulize aromatic bonds in OBMol::PerceiveBondOrders (title is 7L10-XEY.pdb)\n",
            "\n",
            "   _______  _______ _________ _        _______ \n",
            "  (  ____ \\(       )\\__   __/( (    /|(  ___  )\n",
            "  | (    \\/| () () |   ) (   |  \\  ( || (   ) |\n",
            "  | (_____ | || || |   | |   |   \\ | || (___) |\n",
            "  (_____  )| |(_)| |   | |   | (\\ \\) ||  ___  |\n",
            "        ) || |   | |   | |   | | \\   || (   ) |\n",
            "  /\\____) || )   ( |___) (___| )  \\  || )   ( |\n",
            "  \\_______)|/     \\|\\_______/|/    )_)|/     \\|\n",
            "\n",
            "\n",
            "smina is based off AutoDock Vina. Please cite appropriately.\n",
            "\n",
            "Weights      Terms\n",
            "-0.035579    gauss(o=0,_w=0.5,_c=8)\n",
            "-0.005156    gauss(o=3,_w=2,_c=8)\n",
            "0.840245     repulsion(o=0,_c=8)\n",
            "-0.035069    hydrophobic(g=0.5,_b=1.5,_c=8)\n",
            "-0.587439    non_dir_h_bond(g=-0.7,_b=0,_c=8)\n",
            "1.923        num_tors_div\n",
            "\n",
            "Using random seed: 0\n",
            "\n",
            "0%   10   20   30   40   50   60   70   80   90   100%\n",
            "|----|----|----|----|----|----|----|----|----|----|\n",
            "*********************^C\n"
          ]
        }
      ]
    },
    {
      "cell_type": "markdown",
      "source": [
        "# Post-docking process"
      ],
      "metadata": {
        "id": "UxS4uikfVCG_"
      }
    },
    {
      "cell_type": "markdown",
      "source": [
        "# Ranking"
      ],
      "metadata": {
        "id": "evkvOg19mKGs"
      }
    },
    {
      "cell_type": "code",
      "source": [
        "docked_df = PandasTools.LoadSDF(Docked_out_FilePath,molColName='Molecule', removeHs=False)\n",
        "docked_df"
      ],
      "metadata": {
        "id": "VewjBwBNcAAn",
        "outputId": "b9cc5edb-6c74-4bbc-c162-05884d740e1f",
        "colab": {
          "base_uri": "https://localhost:8080/",
          "height": 49
        }
      },
      "execution_count": 85,
      "outputs": [
        {
          "output_type": "execute_result",
          "data": {
            "text/plain": [
              "Empty DataFrame\n",
              "Columns: []\n",
              "Index: []"
            ],
            "text/html": [
              "\n",
              "  <div id=\"df-6e8521cd-13e5-4d18-b07e-cf097a708b41\">\n",
              "    <div class=\"colab-df-container\">\n",
              "      <div>\n",
              "<style scoped>\n",
              "    .dataframe tbody tr th:only-of-type {\n",
              "        vertical-align: middle;\n",
              "    }\n",
              "\n",
              "    .dataframe tbody tr th {\n",
              "        vertical-align: top;\n",
              "    }\n",
              "\n",
              "    .dataframe thead th {\n",
              "        text-align: right;\n",
              "    }\n",
              "</style>\n",
              "<table border=\"1\" class=\"dataframe\">\n",
              "  <thead>\n",
              "    <tr style=\"text-align: right;\">\n",
              "      <th></th>\n",
              "    </tr>\n",
              "  </thead>\n",
              "  <tbody>\n",
              "  </tbody>\n",
              "</table>\n",
              "</div>\n",
              "      <button class=\"colab-df-convert\" onclick=\"convertToInteractive('df-6e8521cd-13e5-4d18-b07e-cf097a708b41')\"\n",
              "              title=\"Convert this dataframe to an interactive table.\"\n",
              "              style=\"display:none;\">\n",
              "        \n",
              "  <svg xmlns=\"http://www.w3.org/2000/svg\" height=\"24px\"viewBox=\"0 0 24 24\"\n",
              "       width=\"24px\">\n",
              "    <path d=\"M0 0h24v24H0V0z\" fill=\"none\"/>\n",
              "    <path d=\"M18.56 5.44l.94 2.06.94-2.06 2.06-.94-2.06-.94-.94-2.06-.94 2.06-2.06.94zm-11 1L8.5 8.5l.94-2.06 2.06-.94-2.06-.94L8.5 2.5l-.94 2.06-2.06.94zm10 10l.94 2.06.94-2.06 2.06-.94-2.06-.94-.94-2.06-.94 2.06-2.06.94z\"/><path d=\"M17.41 7.96l-1.37-1.37c-.4-.4-.92-.59-1.43-.59-.52 0-1.04.2-1.43.59L10.3 9.45l-7.72 7.72c-.78.78-.78 2.05 0 2.83L4 21.41c.39.39.9.59 1.41.59.51 0 1.02-.2 1.41-.59l7.78-7.78 2.81-2.81c.8-.78.8-2.07 0-2.86zM5.41 20L4 18.59l7.72-7.72 1.47 1.35L5.41 20z\"/>\n",
              "  </svg>\n",
              "      </button>\n",
              "      \n",
              "  <style>\n",
              "    .colab-df-container {\n",
              "      display:flex;\n",
              "      flex-wrap:wrap;\n",
              "      gap: 12px;\n",
              "    }\n",
              "\n",
              "    .colab-df-convert {\n",
              "      background-color: #E8F0FE;\n",
              "      border: none;\n",
              "      border-radius: 50%;\n",
              "      cursor: pointer;\n",
              "      display: none;\n",
              "      fill: #1967D2;\n",
              "      height: 32px;\n",
              "      padding: 0 0 0 0;\n",
              "      width: 32px;\n",
              "    }\n",
              "\n",
              "    .colab-df-convert:hover {\n",
              "      background-color: #E2EBFA;\n",
              "      box-shadow: 0px 1px 2px rgba(60, 64, 67, 0.3), 0px 1px 3px 1px rgba(60, 64, 67, 0.15);\n",
              "      fill: #174EA6;\n",
              "    }\n",
              "\n",
              "    [theme=dark] .colab-df-convert {\n",
              "      background-color: #3B4455;\n",
              "      fill: #D2E3FC;\n",
              "    }\n",
              "\n",
              "    [theme=dark] .colab-df-convert:hover {\n",
              "      background-color: #434B5C;\n",
              "      box-shadow: 0px 1px 3px 1px rgba(0, 0, 0, 0.15);\n",
              "      filter: drop-shadow(0px 1px 2px rgba(0, 0, 0, 0.3));\n",
              "      fill: #FFFFFF;\n",
              "    }\n",
              "  </style>\n",
              "\n",
              "      <script>\n",
              "        const buttonEl =\n",
              "          document.querySelector('#df-6e8521cd-13e5-4d18-b07e-cf097a708b41 button.colab-df-convert');\n",
              "        buttonEl.style.display =\n",
              "          google.colab.kernel.accessAllowed ? 'block' : 'none';\n",
              "\n",
              "        async function convertToInteractive(key) {\n",
              "          const element = document.querySelector('#df-6e8521cd-13e5-4d18-b07e-cf097a708b41');\n",
              "          const dataTable =\n",
              "            await google.colab.kernel.invokeFunction('convertToInteractive',\n",
              "                                                     [key], {});\n",
              "          if (!dataTable) return;\n",
              "\n",
              "          const docLinkHtml = 'Like what you see? Visit the ' +\n",
              "            '<a target=\"_blank\" href=https://colab.research.google.com/notebooks/data_table.ipynb>data table notebook</a>'\n",
              "            + ' to learn more about interactive tables.';\n",
              "          element.innerHTML = '';\n",
              "          dataTable['output_type'] = 'display_data';\n",
              "          await google.colab.output.renderOutput(dataTable, element);\n",
              "          const docLink = document.createElement('div');\n",
              "          docLink.innerHTML = docLinkHtml;\n",
              "          element.appendChild(docLink);\n",
              "        }\n",
              "      </script>\n",
              "    </div>\n",
              "  </div>\n",
              "  "
            ]
          },
          "metadata": {},
          "execution_count": 85
        }
      ]
    },
    {
      "cell_type": "code",
      "source": [
        "\n",
        "# Assuming your DataFrame is called docked_df\n",
        "#docked_df = pd.read_csv('docked.csv')\n",
        "\n",
        "# Group by ID and extract the first row for each group\n",
        "docked_df_first = docked_df.groupby('ID').first()\n",
        "\n",
        "# Print the new DataFrame\n",
        "print(docked_df_first)"
      ],
      "metadata": {
        "id": "ADQFPtgPpJyB",
        "outputId": "51dabae9-95f7-45b8-951e-ef78272fe08a",
        "colab": {
          "base_uri": "https://localhost:8080/"
        }
      },
      "execution_count": 82,
      "outputs": [
        {
          "output_type": "stream",
          "name": "stdout",
          "text": [
            "           minimizedAffinity                                          Molecule\n",
            "ID                                                                            \n",
            "Molecule_1          -6.14085  <rdkit.Chem.rdchem.Mol object at 0x7f156874ec80>\n",
            "Molecule_2          -8.43670  <rdkit.Chem.rdchem.Mol object at 0x7f15686c5e40>\n"
          ]
        }
      ]
    },
    {
      "cell_type": "markdown",
      "source": [
        "# References\n",
        "\n",
        "[A Jupyter Notebook to aid Docking to MurD protein](https://www.macinchem.org/reviews/JupyterDocking/jupyterdocking_files/JupyterDocking.html)\n",
        "\n",
        "All the dependencies used are open soured, they are \n",
        "\n",
        "*   rdkit\n",
        "*   openbabel\n",
        "*   py3Dmol \n",
        "*   pymol-open-source \n",
        "*   smina.static\n",
        "*   MDAnalysis\n",
        "*   ProLif\n",
        "*   Python 3.8\n",
        "*   conda\n",
        "*   colab conda\n",
        "\n",
        "- This notebook has referred [Is life worth living](https://www.cheminformania.com/ligand-docking-with-smina/)\n",
        "- Thi notebook has referred [Jupyter Notebook for docking either locally or using Colab](https://www.macinchem.org/reviews/JupyterDocking/jupyterdocking.php)\n",
        " "
      ],
      "metadata": {
        "id": "CoByyqgKY_h1"
      }
    }
  ]
}