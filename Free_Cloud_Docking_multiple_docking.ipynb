{
  "nbformat": 4,
  "nbformat_minor": 0,
  "metadata": {
    "kernelspec": {
      "display_name": "Python 3",
      "language": "python",
      "name": "py35-paddle1.2.0"
    },
    "language_info": {
      "codemirror_mode": {
        "name": "ipython",
        "version": 3
      },
      "file_extension": ".py",
      "mimetype": "text/x-python",
      "name": "python",
      "nbconvert_exporter": "python",
      "pygments_lexer": "ipython3",
      "version": "3.7.4"
    },
    "toc-autonumbering": true,
    "toc-showmarkdowntxt": false,
    "colab": {
      "name": "Free_Cloud_Docking.ipynb",
      "provenance": [],
      "include_colab_link": true
    }
  },
  "cells": [
    {
      "cell_type": "markdown",
      "metadata": {
        "id": "view-in-github",
        "colab_type": "text"
      },
      "source": [
        "<a href=\"https://colab.research.google.com/github/quantaosun/pl3/blob/main/Free_Cloud_Docking_multiple_docking.ipynb\" target=\"_parent\"><img src=\"https://colab.research.google.com/assets/colab-badge.svg\" alt=\"Open In Colab\"/></a>"
      ]
    },
    {
      "cell_type": "markdown",
      "metadata": {
        "id": "-VAb-v6K0EOy"
      },
      "source": [
        "# Programmatic Molecular Docking- Mulitiple small molecules\n",
        "\n",
        "### Based on Vina-derived Smina. Obabel is used to calculate the protein charges. The docking grid is defined as the centre of the native ligand.\n",
        "\n",
        "- This notebook is written by https://github.com/quantaosun\n",
        "- what you get is ***a list of the docking score + docked complex*** \n",
        "- the docked list provide you an idea which ligand may binds the best relavely, so you can move on to the single molecule docking for the best structure among several you have provided.\n",
        "\n",
        "- Note you should provide a SMILES list"
      ]
    },
    {
      "cell_type": "markdown",
      "source": [
        "# Install conda"
      ],
      "metadata": {
        "id": "nuGUIDxbW_IW"
      }
    },
    {
      "cell_type": "code",
      "source": [
        "#@title Conda installation\n",
        "!pip install -q condacolab\n",
        "import condacolab\n",
        "condacolab.install()"
      ],
      "metadata": {
        "cellView": "form",
        "colab": {
          "base_uri": "https://localhost:8080/"
        },
        "id": "GCIuO0Lz_vMW",
        "outputId": "efea5595-e8da-4ea9-8efe-c6282919704d"
      },
      "execution_count": null,
      "outputs": [
        {
          "output_type": "stream",
          "name": "stdout",
          "text": [
            "⏬ Downloading https://github.com/jaimergp/miniforge/releases/latest/download/Mambaforge-colab-Linux-x86_64.sh...\n",
            "📦 Installing...\n",
            "📌 Adjusting configuration...\n",
            "🩹 Patching environment...\n",
            "⏲ Done in 0:00:14\n",
            "🔁 Restarting kernel...\n"
          ]
        }
      ]
    },
    {
      "cell_type": "markdown",
      "source": [
        "# Please provide PDB ID and ligand structure you want to dock with"
      ],
      "metadata": {
        "id": "6KKs2IBRXDUh"
      }
    },
    {
      "cell_type": "code",
      "source": [
        "smiles_list = [\n",
        "    'Cc1ccc(CN(C)C(=O)c2ccccc2)cc1N3CCN(CC3)C',\n",
        "    'Cc1ccc(C(=O)N[C@@H](Cc2ccc(O)cc2)C(=O)N[C@@H](Cc2ccc(O)cc2)C(=O)Nc2ccccc2)cc1'\n",
        "]"
      ],
      "metadata": {
        "id": "DFiMxmZnPHP4"
      },
      "execution_count": null,
      "outputs": []
    },
    {
      "cell_type": "code",
      "execution_count": null,
      "metadata": {
        "cellView": "form",
        "colab": {
          "base_uri": "https://localhost:8080/"
        },
        "id": "s5B8su8nB0mS",
        "outputId": "de22081d-fd2c-43e6-fb9a-f718ac0d8eac"
      },
      "outputs": [
        {
          "output_type": "stream",
          "name": "stdout",
          "text": [
            "/content\n",
            "--2023-02-17 20:41:06--  https://files.rcsb.org/download/7L10.pdb\n",
            "Resolving files.rcsb.org (files.rcsb.org)... 128.6.158.70\n",
            "Connecting to files.rcsb.org (files.rcsb.org)|128.6.158.70|:443... connected.\n",
            "HTTP request sent, awaiting response... 200 OK\n",
            "Length: unspecified [application/octet-stream]\n",
            "Saving to: ‘7L10.pdb’\n",
            "\n",
            "7L10.pdb                [ <=>                ] 241.42K  --.-KB/s    in 0.03s   \n",
            "\n",
            "2023-02-17 20:41:06 (7.45 MB/s) - ‘7L10.pdb’ saved [247212]\n",
            "\n"
          ]
        }
      ],
      "source": [
        "#@title Input expected from the user\n",
        "path = \".\" #@param {type:\"string\"}\n",
        "%cd '{path}'\n",
        "PDB_ID = \"7L10\" #@param {type:\"string\"}\n",
        "pdb = PDB_ID + \".pdb\"\n",
        "! wget https://files.rcsb.org/download/$pdb\n",
        "#@title Ligand three-letter name\n",
        "Ligand = \"XEY\" #@param {type:\"string\"}\n",
        "#smiles = \"OC1=CC=CC=C1C2=CN(C(C(C3=CC(Cl)=CC(F)=C3)=C2)=O)C4=CC=CN=C4\" #@param {type:\"string\"}\n"
      ]
    },
    {
      "cell_type": "markdown",
      "source": [
        "# Install dependencies"
      ],
      "metadata": {
        "id": "WwE9IjM3XMd9"
      }
    },
    {
      "cell_type": "code",
      "metadata": {
        "jupyter": {
          "source_hidden": true
        },
        "id": "QxFkBBWq0EO1",
        "outputId": "c8eeabd7-8b32-4795-c22c-6dc85a81c371",
        "colab": {
          "base_uri": "https://localhost:8080/"
        }
      },
      "source": [
        "#@title Install independencies\n",
        "!conda install -c rdkit rdkit -y 2>&1 1>/dev/null\n",
        "!conda install -q -y -c openbabel openbabel 2>&1 1>/dev/null\n",
        "!pip install py3Dmol 2>&1 1>/dev/null\n",
        "!yes|conda install -c conda-forge pymol-open-source 2>&1 1>/dev/null\n",
        "!conda install -c conda-forge prolif 2>&1 1>/dev/null\n",
        "!conda install -c conda-forge mdanalysis # for 2D interaction visualization\n",
        "!conda install -c conda-forge prolif # for 2D interaction\n",
        "!conda install -c conda-forge pymol-open-source -y # Install pymol for 3D image making\n",
        "!conda install -c anaconda scipy\n",
        "!conda install -c anaconda scikit-learn\n",
        "!conda install -c conda-forge matplotlib\n",
        "!To install this package run one of the following:\n",
        "!conda install -c anaconda seaborn\n",
        "!wget --no-check-certificate https://sourceforge.net/projects/smina/files/smina.static/download -O smina.static 2>&1 1>/dev/null\n",
        "!chmod u+x smina.static\n",
        "#!./smina.static -h\n",
        "import sys\n",
        "import os\n",
        "from rdkit import Chem\n",
        "from rdkit.Chem import AllChem\n",
        "from rdkit.Chem import Draw\n",
        "from rdkit.Chem.Draw import IPythonConsole\n",
        "from rdkit.Chem import DataStructs\n",
        "from rdkit.Chem import RDConfig\n",
        "from rdkit.Chem import rdBase\n",
        "print(rdBase.rdkitVersion)"
      ],
      "execution_count": null,
      "outputs": [
        {
          "output_type": "stream",
          "name": "stdout",
          "text": [
            "\u001b[33mWARNING: Running pip as the 'root' user can result in broken permissions and conflicting behaviour with the system package manager. It is recommended to use a virtual environment instead: https://pip.pypa.io/warnings/venv\u001b[0m\u001b[33m\n",
            "\u001b[0mCollecting package metadata (current_repodata.json): - \b\b\\ \b\b| \b\b/ \b\b- \b\b\\ \b\b| \b\b/ \b\b- \b\b\\ \b\b| \b\b/ \b\b- \b\b\\ \b\b| \b\b/ \b\b- \b\b\\ \b\b| \b\b/ \b\b- \b\bdone\n",
            "Solving environment: | \b\b/ \b\b- \b\b\\ \b\b| \b\b/ \b\b- \b\b\\ \b\b| \b\b/ \b\b- \b\b\\ \b\b| \b\b/ \b\b- \b\b\\ \b\b| \b\b/ \b\b- \b\b\\ \b\b| \b\b/ \b\b- \b\b\\ \b\b| \b\b/ \b\b- \b\b\\ \b\b| \b\b/ \b\b- \b\b\\ \b\b| \b\b/ \b\b- \b\b\\ \b\b| \b\b/ \b\b- \b\b\\ \b\b| \b\b/ \b\b- \b\b\\ \b\b| \b\b/ \b\b- \b\b\\ \b\b| \b\b/ \b\b- \b\b\\ \b\b| \b\b/ \b\b- \b\b\\ \b\b| \b\b/ \b\b- \b\b\\ \b\b| \b\b/ \b\b- \b\b\\ \b\b| \b\b/ \b\bdone\n",
            "\n",
            "# All requested packages already installed.\n",
            "\n",
            "Collecting package metadata (current_repodata.json): - \b\b\\ \b\b| \b\b/ \b\b- \b\b\\ \b\b| \b\b/ \b\b- \b\b\\ \b\b| \b\b/ \b\b- \b\b\\ \b\b| \b\b/ \b\b- \b\b\\ \b\b| \b\b/ \b\bdone\n",
            "Solving environment: \\ \b\b| \b\b/ \b\b- \b\b\\ \b\b| \b\b/ \b\b- \b\b\\ \b\b| \b\b/ \b\b- \b\b\\ \b\b| \b\b/ \b\b- \b\b\\ \b\b| \b\b/ \b\b- \b\b\\ \b\b| \b\b/ \b\b- \b\b\\ \b\b| \b\b/ \b\b- \b\b\\ \b\b| \b\b/ \b\b- \b\b\\ \b\b| \b\b/ \b\b- \b\b\\ \b\b| \b\b/ \b\b- \b\b\\ \b\b| \b\b/ \b\b- \b\b\\ \b\b| \b\b/ \b\b- \b\b\\ \b\b| \b\b/ \b\b- \b\b\\ \b\b| \b\b/ \b\b- \b\b\\ \b\b| \b\b/ \b\b- \b\b\\ \b\b| \b\b/ \b\bdone\n",
            "\n",
            "# All requested packages already installed.\n",
            "\n",
            "Collecting package metadata (current_repodata.json): - \b\b\\ \b\b| \b\b/ \b\b- \b\b\\ \b\b| \b\b/ \b\b- \b\b\\ \b\b| \b\b/ \b\b- \b\b\\ \b\b| \b\b/ \b\b- \b\b\\ \b\b| \b\b/ \b\b- \b\bdone\n",
            "Solving environment: | \b\b/ \b\b- \b\b\\ \b\b| \b\b/ \b\b- \b\b\\ \b\b| \b\b/ \b\b- \b\b\\ \b\b| \b\b/ \b\b- \b\b\\ \b\b| \b\b/ \b\b- \b\b\\ \b\b| \b\b/ \b\b- \b\b\\ \b\b| \b\b/ \b\b- \b\b\\ \b\b| \b\b/ \b\b- \b\b\\ \b\b| \b\b/ \b\b- \b\b\\ \b\b| \b\b/ \b\b- \b\b\\ \b\b| \b\b/ \b\b- \b\b\\ \b\b| \b\b/ \b\bdone\n",
            "\n",
            "# All requested packages already installed.\n",
            "\n",
            "Collecting package metadata (current_repodata.json): - \b\b\\ \b\b| \b\b/ \b\b- \b\b\\ \b\b| \b\b/ \b\b- \b\b\\ \b\b| \b\b/ \b\b- \b\b\\ \b\b| \b\b/ \b\b- \b\b\\ \b\b| \b\b/ \b\b- \b\b\\ \b\b| \b\b/ \b\b- \b\b\\ \b\b| \b\b/ \b\b- \b\b\\ \b\b| \b\b/ \b\b- \b\b\\ \b\b| \b\b/ \b\b- \b\b\\ \b\b| \b\b/ \b\b- \b\b\\ \b\b| \b\b/ \b\b- \b\b\\ \b\b| \b\b/ \b\b- \b\b\\ \b\b| \b\b/ \b\b- \b\b\\ \b\b| \b\b/ \b\b- \b\b\\ \b\b| \b\b/ \b\b- \b\b\\ \b\b| \b\b/ \b\b- \b\b\\ \b\b| \b\b/ \b\b- \b\b\\ \b\b| \b\b/ \b\b- \b\b\\ \b\b| \b\bdone\n",
            "Solving environment: - \b\b\\ \b\b| \b\b/ \b\b- \b\b\\ \b\b| \b\b/ \b\b- \b\b\\ \b\b| \b\b/ \b\b- \b\b\\ \b\b| \b\b/ \b\b- \b\b\\ \b\b| \b\b/ \b\b- \b\b\\ \b\b| \b\b/ \b\b- \b\b\\ \b\b| \b\b/ \b\b- \b\b\\ \b\b| \b\b/ \b\b- \b\b\\ \b\b| \b\b/ \b\b- \b\b\\ \b\b| \b\b/ \b\b- \b\b\\ \b\b| \b\b/ \b\b- \b\b\\ \b\b| \b\b/ \b\b- \b\b\\ \b\b| \b\b/ \b\b- \b\b\\ \b\b| \b\b/ \b\b- \b\b\\ \b\b| \b\b/ \b\b- \b\bdone\n",
            "\n",
            "## Package Plan ##\n",
            "\n",
            "  environment location: /usr/local\n",
            "\n",
            "  added / updated specs:\n",
            "    - scipy\n",
            "\n",
            "\n",
            "The following packages will be downloaded:\n",
            "\n",
            "    package                    |            build\n",
            "    ---------------------------|-----------------\n",
            "    blas-1.0                   |         openblas          48 KB  anaconda\n",
            "    ca-certificates-2023.01.10 |       h06a4308_0         127 KB  anaconda\n",
            "    certifi-2022.12.7          |   py38h06a4308_0         152 KB  anaconda\n",
            "    conda-23.1.0               |   py38h06a4308_0         958 KB  anaconda\n",
            "    scipy-1.10.0               |   py38h32ae08f_0        25.7 MB  anaconda\n",
            "    ------------------------------------------------------------\n",
            "                                           Total:        26.9 MB\n",
            "\n",
            "The following NEW packages will be INSTALLED:\n",
            "\n",
            "  blas               anaconda/linux-64::blas-1.0-openblas \n",
            "\n",
            "The following packages will be UPDATED:\n",
            "\n",
            "  ca-certificates    conda-forge::ca-certificates-2022.12.~ --> anaconda::ca-certificates-2023.01.10-h06a4308_0 \n",
            "  conda              conda-forge::conda-22.11.1-py38h578d9~ --> anaconda::conda-23.1.0-py38h06a4308_0 \n",
            "\n",
            "The following packages will be SUPERSEDED by a higher-priority channel:\n",
            "\n",
            "  certifi            conda-forge/noarch::certifi-2022.12.7~ --> anaconda/linux-64::certifi-2022.12.7-py38h06a4308_0 \n",
            "  scipy              conda-forge::scipy-1.10.0-py38h10c12c~ --> anaconda::scipy-1.10.0-py38h32ae08f_0 \n",
            "\n",
            "\n",
            "\n",
            "Downloading and Extracting Packages\n",
            "ca-certificates-2023 | 127 KB    | :   0% 0/1 [00:00<?, ?it/s]\n",
            "certifi-2022.12.7    | 152 KB    | :   0% 0/1 [00:00<?, ?it/s]\u001b[A\n",
            "\n",
            "blas-1.0             | 48 KB     | :   0% 0/1 [00:00<?, ?it/s]\u001b[A\u001b[A\n",
            "\n",
            "\n",
            "scipy-1.10.0         | 25.7 MB   | :   0% 0/1 [00:00<?, ?it/s]\u001b[A\u001b[A\u001b[A\n",
            "\n",
            "\n",
            "\n",
            "conda-23.1.0         | 958 KB    | :   0% 0/1 [00:00<?, ?it/s]\u001b[A\u001b[A\u001b[A\u001b[A\n",
            "\n",
            "ca-certificates-2023 | 127 KB    | :  13% 0.1263573543928924/1 [00:00<00:01,  1.65s/it]\n",
            "certifi-2022.12.7    | 152 KB    | :  11% 0.10548680771063237/1 [00:00<00:01,  1.98s/it]\u001b[A\n",
            "\n",
            "\n",
            "\n",
            "conda-23.1.0         | 958 KB    | :   2% 0.01669986117424976/1 [00:00<00:12, 12.50s/it]\u001b[A\u001b[A\u001b[A\u001b[A\n",
            "\n",
            "\n",
            "scipy-1.10.0         | 25.7 MB   | :   0% 0.0006082793713100044/1 [00:00<06:47, 407.86s/it]\u001b[A\u001b[A\u001b[A\n",
            "\n",
            "blas-1.0             | 48 KB     | : 100% 1.0/1 [00:00<00:00,  3.62it/s]                \u001b[A\u001b[A\n",
            "\n",
            "ca-certificates-2023 | 127 KB    | : 100% 1.0/1 [00:00<00:00,  3.72it/s]\n",
            "\n",
            "\n",
            "scipy-1.10.0         | 25.7 MB   | :  21% 0.20803154498802154/1 [00:00<00:01,  1.37s/it]   \u001b[A\u001b[A\u001b[A\n",
            "certifi-2022.12.7    | 152 KB    | : 100% 1.0/1 [00:00<00:00,  2.55it/s]                \u001b[A\n",
            "certifi-2022.12.7    | 152 KB    | : 100% 1.0/1 [00:00<00:00,  2.55it/s]\u001b[A\n",
            "\n",
            "\n",
            "scipy-1.10.0         | 25.7 MB   | :  46% 0.4629006015669134/1 [00:00<00:00,  1.34it/s] \u001b[A\u001b[A\u001b[A\n",
            "\n",
            "\n",
            "scipy-1.10.0         | 25.7 MB   | :  78% 0.7804224333907357/1 [00:00<00:00,  1.93it/s]\u001b[A\u001b[A\u001b[A\n",
            "\n",
            "\n",
            "\n",
            "conda-23.1.0         | 958 KB    | : 100% 1.0/1 [00:01<00:00,  1.55s/it]                \u001b[A\u001b[A\u001b[A\u001b[A\n",
            "\n",
            "\n",
            "\n",
            "conda-23.1.0         | 958 KB    | : 100% 1.0/1 [00:01<00:00,  1.55s/it]\u001b[A\u001b[A\u001b[A\u001b[A\n",
            "\n",
            "\n",
            "                                                                        \n",
            "                                                                        \u001b[A\n",
            "\n",
            "                                                                        \u001b[A\u001b[A\n",
            "\n",
            "\n",
            "                                                                        \u001b[A\u001b[A\u001b[A\n",
            "\n",
            "\n",
            "\n",
            "                                                                        \u001b[A\u001b[A\u001b[A\u001b[A\n",
            "Preparing transaction: | \b\bdone\n",
            "Verifying transaction: - \b\b\\ \b\bdone\n",
            "Executing transaction: / \b\b- \b\b\\ \b\b| \b\bdone\n",
            "Collecting package metadata (current_repodata.json): - \b\b\\ \b\b| \b\b/ \b\b- \b\b\\ \b\b| \b\b/ \b\b- \b\b\\ \b\b| \b\b/ \b\b- \b\b\\ \b\b| \b\b/ \b\b- \b\b\\ \b\b| \b\b/ \b\b- \b\b\\ \b\b| \b\b/ \b\b- \b\b\\ \b\b| \b\b/ \b\b- \b\b\\ \b\b| \b\b/ \b\b- \b\b\\ \b\b| \b\b/ \b\b- \b\b\\ \b\b| \b\b/ \b\b- \b\b\\ \b\b| \b\b/ \b\b- \b\b\\ \b\b| \b\b/ \b\b- \b\b\\ \b\b| \b\b/ \b\b- \b\b\\ \b\b| \b\b/ \b\b- \b\b\\ \b\b| \b\b/ \b\b- \b\b\\ \b\b| \b\b/ \b\b- \b\b\\ \b\b| \b\b/ \b\b- \b\b\\ \b\b| \b\b/ \b\b- \b\b\\ \b\b| \b\b/ \b\b- \b\b\\ \b\b| \b\b/ \b\b- \b\b\\ \b\b| \b\b/ \b\b- \b\b\\ \b\b| \b\b/ \b\b- \b\b\\ \b\b| \b\b/ \b\b- \b\b\\ \b\b| \b\b/ \b\b- \b\b\\ \b\b| \b\b/ \b\b- \b\b\\ \b\b| \b\b/ \b\b- \b\b\\ \b\b| \b\b/ \b\b- \b\b\\ \b\b| \b\b/ \b\b- \b\b\\ \b\b| \b\b/ \b\b- \b\b\\ \b\b| \b\b/ \b\b- \b\b\\ \b\b| \b\b/ \b\b- \b\b\\ \b\b| \b\b/ \b\b- \b\b\\ \b\b| \b\b/ \b\b- \b\b\\ \b\b| \b\b/ \b\b- \b\b\\ \b\b| \b\b/ \b\b- \b\b\\ \b\b| \b\b/ \b\b- \b\b\\ \b\b| \b\b/ \b\b- \b\b\\ \b\b| \b\b/ \b\b- \b\b\\ \b\b| \b\b/ \b\b- \b\b\\ \b\b| \b\b/ \b\b- \b\b\\ \b\b| \b\b/ \b\b- \b\b\\ \b\b| \b\b/ \b\b- \b\b\\ \b\b| \b\b/ \b\b- \b\b\\ \b\b| \b\b/ \b\b- \b\b\\ \b\b| \b\b/ \b\b- \b\b\\ \b\b| \b\b/ \b\b- \b\b\\ \b\b| \b\b/ \b\b- \b\b\\ \b\b| \b\bdone\n",
            "Solving environment: - \b\b\\ \b\b| \b\b/ \b\b- \b\b\\ \b\b| \b\b/ \b\b- \b\b\\ \b\b| \b\b/ \b\b- \b\b\\ \b\b| \b\b/ \b\b- \b\b\\ \b\b| \b\b/ \b\b- \b\b\\ \b\b| \b\b/ \b\b- \b\b\\ \b\b| \b\b/ \b\b- \b\b\\ \b\b| \b\b/ \b\b- \b\b\\ \b\b| \b\b/ \b\b- \b\b\\ \b\b| \b\b/ \b\b- \b\b\\ \b\b| \b\b/ \b\b- \b\b\\ \b\b| \b\b/ \b\b- \b\b\\ \b\b| \b\b/ \b\b- \b\b\\ \b\b| \b\b/ \b\b- \b\b\\ \b\b| \b\b/ \b\b- \b\b\\ \b\b| \b\b/ \b\b- \b\b\\ \b\b| \b\b/ \b\b- \b\b\\ \b\b| \b\b/ \b\b- \b\b\\ \b\b| \b\b/ \b\b- \b\b\\ \b\b| \b\b/ \b\b- \b\b\\ \b\b| \b\b/ \b\b- \b\b\\ \b\b| \b\b/ \b\b- \b\bdone\n",
            "\n",
            "## Package Plan ##\n",
            "\n",
            "  environment location: /usr/local\n",
            "\n",
            "  added / updated specs:\n",
            "    - scikit-learn\n",
            "\n",
            "\n",
            "The following packages will be downloaded:\n",
            "\n",
            "    package                    |            build\n",
            "    ---------------------------|-----------------\n",
            "    scikit-learn-1.2.0         |   py38h6a678d5_0         9.1 MB  anaconda\n",
            "    ------------------------------------------------------------\n",
            "                                           Total:         9.1 MB\n",
            "\n",
            "The following packages will be SUPERSEDED by a higher-priority channel:\n",
            "\n",
            "  scikit-learn       conda-forge::scikit-learn-1.2.1-py38h~ --> anaconda::scikit-learn-1.2.0-py38h6a678d5_0 \n",
            "\n",
            "\n",
            "\n",
            "Downloading and Extracting Packages\n",
            "                                                                        \n",
            "Preparing transaction: | \b\bdone\n",
            "Verifying transaction: - \b\bdone\n",
            "Executing transaction: | \b\b/ \b\b- \b\b\\ \b\b| \b\b/ \b\b- \b\b\\ \b\b| \b\b/ \b\b- \b\b\\ \n",
            "\n",
            "    Installed package of scikit-learn can be accelerated using scikit-learn-intelex.\n",
            "    More details are available here: https://intel.github.io/scikit-learn-intelex\n",
            "\n",
            "    For example:\n",
            "\n",
            "        $ conda install scikit-learn-intelex\n",
            "        $ python -m sklearnex my_application.py\n",
            "\n",
            "    \n",
            "\n",
            "\b\bdone\n",
            "Collecting package metadata (current_repodata.json): - \b\b\\ \b\b| \b\b/ \b\b- \b\b\\ \b\b| \b\b/ \b\b- \b\b\\ \b\b| \b\b/ \b\b- \b\b\\ \b\b| \b\b/ \b\b- \b\b\\ \b\b| \b\b/ \b\b- \b\b\\ \b\b| \b\b/ \b\b- \b\b\\ \b\b| \b\b/ \b\b- \b\b\\ \b\b| \b\b/ \b\bdone\n",
            "Solving environment: \\ \b\b| \b\b/ \b\b- \b\b\\ \b\b| \b\b/ \b\b- \b\b\\ \b\b| \b\b/ \b\b- \b\b\\ \b\b| \b\b/ \b\b- \b\b\\ \b\b| \b\b/ \b\b- \b\b\\ \b\b| \b\b/ \b\b- \b\b\\ \b\b| \b\b/ \b\b- \b\b\\ \b\b| \b\b/ \b\b- \b\b\\ \b\b| \b\b/ \b\b- \b\b\\ \b\b| \b\b/ \b\b- \b\b\\ \b\b| \b\b/ \b\b- \b\b\\ \b\b| \b\b/ \b\b- \b\b\\ \b\b| \b\b/ \b\b- \b\b\\ \b\b| \b\b/ \b\b- \b\b\\ \b\b| \b\b/ \b\b- \b\b\\ \b\b| \b\b/ \b\b- \b\b\\ \b\b| \b\b/ \b\b- \b\b\\ \b\b| \b\b/ \b\b- \b\b\\ \b\b| \b\b/ \b\b- \b\b\\ \b\b| \b\b/ \b\b- \b\bdone\n",
            "\n",
            "## Package Plan ##\n",
            "\n",
            "  environment location: /usr/local\n",
            "\n",
            "  added / updated specs:\n",
            "    - matplotlib\n",
            "\n",
            "\n",
            "The following packages will be downloaded:\n",
            "\n",
            "    package                    |            build\n",
            "    ---------------------------|-----------------\n",
            "    matplotlib-3.7.0           |   py38h578d9bd_0           8 KB  conda-forge\n",
            "    tornado-6.2                |   py38h0a891b7_1         654 KB  conda-forge\n",
            "    ------------------------------------------------------------\n",
            "                                           Total:         661 KB\n",
            "\n",
            "The following NEW packages will be INSTALLED:\n",
            "\n",
            "  matplotlib         conda-forge/linux-64::matplotlib-3.7.0-py38h578d9bd_0 \n",
            "  tornado            conda-forge/linux-64::tornado-6.2-py38h0a891b7_1 \n",
            "\n",
            "The following packages will be SUPERSEDED by a higher-priority channel:\n",
            "\n",
            "  ca-certificates    anaconda::ca-certificates-2023.01.10-~ --> conda-forge::ca-certificates-2022.12.7-ha878542_0 \n",
            "  certifi            anaconda/linux-64::certifi-2022.12.7-~ --> conda-forge/noarch::certifi-2022.12.7-pyhd8ed1ab_0 \n",
            "\n",
            "\n",
            "\n",
            "Downloading and Extracting Packages\n",
            "matplotlib-3.7.0     | 8 KB      | :   0% 0/1 [00:00<?, ?it/s]\n",
            "matplotlib-3.7.0     | 8 KB      | : 100% 1.0/1 [00:00<00:00,  5.26it/s]\n",
            "tornado-6.2          | 654 KB    | :   2% 0.024481428242698455/1 [00:00<00:08,  8.63s/it]\u001b[A\n",
            "tornado-6.2          | 654 KB    | : 100% 1.0/1 [00:00<00:00,  3.12it/s]                 \u001b[A\n",
            "                                                                        \n",
            "                                                                        \u001b[A\n",
            "Preparing transaction: | \b\bdone\n",
            "Verifying transaction: - \b\bdone\n",
            "Executing transaction: | \b\b/ \b\b- \b\b\\ \b\b| \b\b/ \b\b- \b\b\\ \b\b| \b\b/ \b\bdone\n",
            "/bin/bash: To: command not found\n",
            "Collecting package metadata (current_repodata.json): - \b\b\\ \b\b| \b\b/ \b\b- \b\b\\ \b\b| \b\b/ \b\b- \b\b\\ \b\b| \b\b/ \b\b- \b\b\\ \b\b| \b\b/ \b\b- \b\b\\ \b\b| \b\b/ \b\b- \b\b\\ \b\b| \b\b/ \b\b- \b\b\\ \b\b| \b\b/ \b\b- \b\b\\ \b\b| \b\b/ \b\b- \b\b\\ \b\b| \b\b/ \b\b- \b\b\\ \b\b| \b\b/ \b\b- \b\b\\ \b\b| \b\b/ \b\b- \b\b\\ \b\b| \b\b/ \b\b- \b\b\\ \b\b| \b\b/ \b\b- \b\b\\ \b\b| \b\b/ \b\b- \b\b\\ \b\b| \b\b/ \b\b- \b\b\\ \b\b| \b\b/ \b\b- \b\b\\ \b\b| \b\b/ \b\b- \b\b\\ \b\b| \b\b/ \b\b- \b\b\\ \b\b| \b\b/ \b\b- \b\b\\ \b\b| \b\b/ \b\b- \b\b\\ \b\b| \b\b/ \b\b- \b\b\\ \b\b| \b\b/ \b\b- \b\b\\ \b\b| \b\b/ \b\b- \b\b\\ \b\b| \b\b/ \b\b- \b\b\\ \b\bdone\n",
            "Solving environment: / \b\b- \b\b\\ \b\b| \b\b/ \b\b- \b\b\\ \b\b| \b\b/ \b\b- \b\b\\ \b\b| \b\b/ \b\b- \b\b\\ \b\b| \b\b/ \b\b- \b\b\\ \b\b| \b\b/ \b\b- \b\b\\ \b\b| \b\b/ \b\b- \b\b\\ \b\b| \b\b/ \b\b- \b\b\\ \b\b| \b\b/ \b\b- \b\b\\ \b\b| \b\b/ \b\b- \b\b\\ \b\b| \b\b/ \b\b- \b\b\\ \b\b| \b\b/ \b\b- \b\b\\ \b\b| \b\b/ \b\b- \b\b\\ \b\b| \b\b/ \b\b- \b\b\\ \b\b| \b\b/ \b\b- \b\b\\ \b\b| \b\b/ \b\b- \b\b\\ \b\b| \b\b/ \b\b- \b\b\\ \b\b| \b\b/ \b\b- \b\b\\ \b\b| \b\b/ \b\b- \b\b\\ \b\b| \b\b/ \b\b- \b\b\\ \b\b| \b\b/ \b\b- \b\b\\ \b\b| \b\b/ \b\b- \b\b\\ \b\b| \b\b/ \b\b- \b\b\\ \b\b| \b\b/ \b\b- \b\b\\ \b\b| \b\b/ \b\b- \b\b\\ \b\b| \b\b/ \b\b- \b\b\\ \b\b| \b\b/ \b\b- \b\b\\ \b\b| \b\b/ \b\b- \b\b\\ \b\b| \b\b/ \b\b- \b\b\\ \b\b| \b\b/ \b\b- \b\b\\ \b\b| \b\b/ \b\b- \b\b\\ \b\b| \b\b/ \b\b- \b\b\\ \b\b| \b\b/ \b\b- \b\b\\ \b\b| \b\b/ \b\b- \b\b\\ \b\b| \b\b/ \b\b- \b\b\\ \b\b| \b\b/ \b\b- \b\b\\ \b\b| \b\b/ \b\b- \b\b\\ \b\b| \b\b/ \b\b- \b\b\\ \b\b| \b\b/ \b\b- \b\b\\ \b\b| \b\b/ \b\b- \b\b\\ \b\b| \b\b/ \b\b- \b\b\\ \b\b| \b\b/ \b\b- \b\b\\ \b\b| \b\b/ \b\b- \b\b\\ \b\b| \b\b/ \b\b- \b\b\\ \b\b| \b\b/ \b\b- \b\b\\ \b\b| \b\b/ \b\b- \b\b\\ \b\b| \b\b/ \b\b- \b\b\\ \b\b| \b\b/ \b\b- \b\b\\ \b\b| \b\b/ \b\b- \b\b\\ \b\b| \b\b/ \b\b- \b\b\\ \b\b| \b\b/ \b\b- \b\b\\ \b\b| \b\b/ \b\b- \b\b\\ \b\b| \b\b/ \b\b- \b\b\\ \b\b| \b\b/ \b\b- \b\b\\ \b\b| \b\b/ \b\b- \b\b\\ \b\b| \b\b/ \b\b- \b\b\\ \b\b| \b\b/ \b\b- \b\b\\ \b\b| \b\b/ \b\b- \b\b\\ \b\b| \b\b/ \b\b- \b\b\\ \b\b| \b\b/ \b\b- \b\b\\ \b\b| \b\b/ \b\b- \b\b\\ \b\b| \b\b/ \b\b- \b\b\\ \b\b| \b\b/ \b\b- \b\b\\ \b\b| \b\b/ \b\b- \b\b\\ \b\b| \b\b/ \b\b- \b\b\\ \b\b| \b\b/ \b\b- \b\b\\ \b\b| \b\b/ \b\b- \b\b\\ \b\b| \b\b/ \b\b- \b\b\\ \b\b| \b\b/ \b\b- \b\b\\ \b\b| \b\b/ \b\b- \b\b\\ \b\b| \b\b/ \b\b- \b\b\\ \b\b| \b\b/ \b\bdone\n",
            "\n",
            "## Package Plan ##\n",
            "\n",
            "  environment location: /usr/local\n",
            "\n",
            "  added / updated specs:\n",
            "    - seaborn\n",
            "\n",
            "\n",
            "The following packages will be downloaded:\n",
            "\n",
            "    package                    |            build\n",
            "    ---------------------------|-----------------\n",
            "    seaborn-0.12.2             |   py38h06a4308_0         488 KB  anaconda\n",
            "    ------------------------------------------------------------\n",
            "                                           Total:         488 KB\n",
            "\n",
            "The following packages will be UPDATED:\n",
            "\n",
            "  ca-certificates    conda-forge::ca-certificates-2022.12.~ --> anaconda::ca-certificates-2023.01.10-h06a4308_0 \n",
            "\n",
            "The following packages will be SUPERSEDED by a higher-priority channel:\n",
            "\n",
            "  certifi            conda-forge/noarch::certifi-2022.12.7~ --> anaconda/linux-64::certifi-2022.12.7-py38h06a4308_0 \n",
            "  seaborn            conda-forge/noarch::seaborn-0.12.2-hd~ --> anaconda/linux-64::seaborn-0.12.2-py38h06a4308_0 \n",
            "\n",
            "\n",
            "\n",
            "Downloading and Extracting Packages\n",
            "                                                                        \n",
            "Preparing transaction: \\ \b\bdone\n",
            "Verifying transaction: / \b\b- \b\b\\ \b\bdone\n",
            "Executing transaction: / \b\bdone\n",
            "--2023-02-17 20:49:32--  https://sourceforge.net/projects/smina/files/smina.static/download\n",
            "Resolving sourceforge.net (sourceforge.net)... 104.18.11.128, 104.18.10.128, 2606:4700::6812:b80, ...\n",
            "Connecting to sourceforge.net (sourceforge.net)|104.18.11.128|:443... connected.\n",
            "HTTP request sent, awaiting response... 302 Found\n",
            "Location: https://downloads.sourceforge.net/project/smina/smina.static?ts=gAAAAABj7-hcdnCnSoANENO0POvQv6cUKqcDMSKG3OIVDUqJR-JPQNI6wQqHq-ghWleD5KYXMza0Z3nnPUWClvzUX69UJwmPdQ%3D%3D&use_mirror=newcontinuum&r= [following]\n",
            "--2023-02-17 20:49:32--  https://downloads.sourceforge.net/project/smina/smina.static?ts=gAAAAABj7-hcdnCnSoANENO0POvQv6cUKqcDMSKG3OIVDUqJR-JPQNI6wQqHq-ghWleD5KYXMza0Z3nnPUWClvzUX69UJwmPdQ%3D%3D&use_mirror=newcontinuum&r=\n",
            "Resolving downloads.sourceforge.net (downloads.sourceforge.net)... 204.68.111.105\n",
            "Connecting to downloads.sourceforge.net (downloads.sourceforge.net)|204.68.111.105|:443... connected.\n",
            "HTTP request sent, awaiting response... 302 Found\n",
            "Location: https://newcontinuum.dl.sourceforge.net/project/smina/smina.static [following]\n",
            "--2023-02-17 20:49:33--  https://newcontinuum.dl.sourceforge.net/project/smina/smina.static\n",
            "Resolving newcontinuum.dl.sourceforge.net (newcontinuum.dl.sourceforge.net)... 64.79.96.4, 2607:ff50:0:11::32\n",
            "Connecting to newcontinuum.dl.sourceforge.net (newcontinuum.dl.sourceforge.net)|64.79.96.4|:443... connected.\n",
            "HTTP request sent, awaiting response... 200 OK\n",
            "Length: 9853920 (9.4M) [application/octet-stream]\n",
            "Saving to: ‘smina.static’\n",
            "\n",
            "smina.static        100%[===================>]   9.40M  73.0KB/s    in 2m 3s   \n",
            "\n",
            "2023-02-17 20:51:48 (78.3 KB/s) - ‘smina.static’ saved [9853920/9853920]\n",
            "\n",
            "2022.09.4\n"
          ]
        }
      ]
    },
    {
      "cell_type": "code",
      "source": [
        "import sys\n",
        "from collections import defaultdict\n",
        "import numpy as np\n",
        "from rdkit import Chem\n",
        "from rdkit.Chem import AllChem\n",
        "from rdkit.Chem.Draw import IPythonConsole\n",
        "from rdkit.Chem import PandasTools\n",
        "import pandas as pd\n",
        "IPythonConsole.ipython_3d=True\n",
        "%pylab inline\n",
        "\n",
        "import py3Dmol"
      ],
      "metadata": {
        "id": "oKIjcdxuEq4T",
        "outputId": "c7e674da-3e3a-4905-f5e2-dccc9c681c51",
        "colab": {
          "base_uri": "https://localhost:8080/"
        }
      },
      "execution_count": null,
      "outputs": [
        {
          "output_type": "stream",
          "name": "stdout",
          "text": [
            "Populating the interactive namespace from numpy and matplotlib\n"
          ]
        }
      ]
    },
    {
      "cell_type": "markdown",
      "source": [
        "# Prepare receptor"
      ],
      "metadata": {
        "id": "AIUJdJuLRzs4"
      }
    },
    {
      "cell_type": "code",
      "execution_count": null,
      "metadata": {
        "id": "nbHM8p20i7pD",
        "cellView": "form"
      },
      "outputs": [],
      "source": [
        "#@title Write out a script for pymol\n",
        "com_file = open('split.pml','w')\n",
        "com_file.write('''\n",
        "load 3HTB.pdb\n",
        "remove resn HOH\n",
        "h_add elem O or elem N\n",
        "select 3HTB-JZ4, resn JZ4 #Create a selection called 1OYT-FSN from the ligand\n",
        "select 3HTB-receptor, 3HTB and not 3HTB-JZ4 #Select all that is not the ligand\n",
        "save 3HTB-JZ4.pdb, 3HTB-JZ4\n",
        "save 3HTB-receptor.pdb, 3HTB-receptor    \n",
        "''')\n",
        "com_file.close()"
      ]
    },
    {
      "cell_type": "code",
      "source": [
        "#@title Correct the script with right PDB ID and ligand name\n",
        "!sed -i 's/3HTB/{PDB_ID}/g' split.pml\n",
        "!sed 's/JZ4/{Ligand}/g' split.pml\n",
        "!sed -i 's/JZ4/{Ligand}/g' split.pml"
      ],
      "metadata": {
        "cellView": "form",
        "id": "Gpjf85fDeTf5",
        "colab": {
          "base_uri": "https://localhost:8080/"
        },
        "outputId": "524df37c-507b-49a7-bbcc-f9b267399746"
      },
      "execution_count": null,
      "outputs": [
        {
          "output_type": "stream",
          "name": "stdout",
          "text": [
            "\n",
            "load 7L10.pdb\n",
            "remove resn HOH\n",
            "h_add elem O or elem N\n",
            "select 7L10-XEY, resn XEY #Create a selection called 1OYT-FSN from the ligand\n",
            "select 7L10-receptor, 7L10 and not 7L10-XEY #Select all that is not the ligand\n",
            "save 7L10-XEY.pdb, 7L10-XEY\n",
            "save 7L10-receptor.pdb, 7L10-receptor    \n"
          ]
        }
      ]
    },
    {
      "cell_type": "code",
      "execution_count": null,
      "metadata": {
        "cellView": "form",
        "id": "scOeFAqYi7pD",
        "outputId": "2afd4f35-6212-473a-dd0c-1d2d01049e9b",
        "colab": {
          "base_uri": "https://localhost:8080/"
        }
      },
      "outputs": [
        {
          "output_type": "stream",
          "name": "stdout",
          "text": [
            "/content\n",
            " PyMOL(TM) Molecular Graphics System, Version 2.5.0.\n",
            " Copyright (c) Schrodinger, LLC.\n",
            " All Rights Reserved.\n",
            " \n",
            "    Created by Warren L. DeLano, Ph.D. \n",
            " \n",
            "    PyMOL is user-supported open-source software.  Although some versions\n",
            "    are freely available, PyMOL is not in the public domain.\n",
            " \n",
            "    If PyMOL is helpful in your work or study, then please volunteer \n",
            "    support for our ongoing efforts to create open and affordable scientific\n",
            "    software by purchasing a PyMOL Maintenance and/or Support subscription.\n",
            "\n",
            "    More information can be found at \"http://www.pymol.org\".\n",
            " \n",
            "    Enter \"help\" for a list of commands.\n",
            "    Enter \"help <command-name>\" for information on a specific command.\n",
            "\n",
            " Hit ESC anytime to toggle between text and graphics.\n",
            "\n",
            " Detected 2 CPU cores.  Enabled multithreaded rendering.\n",
            "PyMOL>load 7L10.pdb\n",
            "HEADER    VIRAL PROTEIN, HYDROLASE                13-DEC-20   7L10\n",
            "TITLE     CRYSTAL STRUCTURE OF THE SARS-COV-2 (2019-NCOV) MAIN PROTEASE IN\n",
            "TITLE    2 COMPLEX WITH COMPOUND 4\n",
            "COMPND    MOL_ID: 1;\n",
            "COMPND   2 MOLECULE: 3C-LIKE PROTEINASE;\n",
            "COMPND   3 CHAIN: A;\n",
            "COMPND   4 EC: 3.4.22.69;\n",
            "COMPND   5 ENGINEERED: YES\n",
            " ObjectMolecule: Read secondary structure assignments.\n",
            " ObjectMolecule: Read crystal symmetry information.\n",
            " CmdLoad: \"\" loaded as \"7L10\".\n",
            "PyMOL>remove resn HOH\n",
            " Remove: eliminated 239 atoms in model \"7L10\".\n",
            "PyMOL>h_add elem O or elem N\n",
            "PyMOL>select 7L10-XEY, resn XEY #Create a selection called 1OYT-FSN from the ligand\n",
            " Selector: selection \"7L10-XEY\" defined with 30 atoms.\n",
            "PyMOL>select 7L10-receptor, 7L10 and not 7L10-XEY #Select all that is not the ligand\n",
            " Selector: selection \"7L10-receptor\" defined with 2856 atoms.\n",
            "PyMOL>save 7L10-XEY.pdb, 7L10-XEY\n",
            " Save: wrote \"7L10-XEY.pdb\".\n",
            "PyMOL>save 7L10-receptor.pdb, 7L10-receptor\n",
            " Save: wrote \"7L10-receptor.pdb\".\n"
          ]
        }
      ],
      "source": [
        "#@title Run pymol to split protein and native ligand\n",
        "%cd '{path}'\n",
        "! pymol -c split.pml"
      ]
    },
    {
      "cell_type": "markdown",
      "source": [
        "# Variable assignment"
      ],
      "metadata": {
        "id": "BFtBn4YxVjYk"
      }
    },
    {
      "cell_type": "code",
      "source": [
        "Protein_PDB_file_name = PDB_ID + '-receptor.pdb'\n",
        "ligand_name = PDB_ID + '-' + Ligand + '.pdb'"
      ],
      "metadata": {
        "id": "DTfZKqsqUUDV"
      },
      "execution_count": null,
      "outputs": []
    },
    {
      "cell_type": "markdown",
      "source": [
        "# PDBFixer to prepare the receptor"
      ],
      "metadata": {
        "id": "pZKX9tmTypnT"
      }
    },
    {
      "cell_type": "code",
      "source": [
        "!conda install -c conda-forge openmm -y"
      ],
      "metadata": {
        "id": "9bfwlEoWx-Ft",
        "outputId": "7f5228b8-1ac2-4c43-ddf0-5f7f334d9c7f",
        "colab": {
          "base_uri": "https://localhost:8080/"
        }
      },
      "execution_count": null,
      "outputs": [
        {
          "output_type": "stream",
          "name": "stdout",
          "text": [
            "Collecting package metadata (current_repodata.json): - \b\b\\ \b\b| \b\b/ \b\b- \b\b\\ \b\b| \b\b/ \b\b- \b\b\\ \b\b| \b\b/ \b\b- \b\b\\ \b\b| \b\b/ \b\b- \b\b\\ \b\b| \b\b/ \b\b- \b\b\\ \b\b| \b\b/ \b\b- \b\b\\ \b\b| \b\b/ \b\b- \b\b\\ \b\b| \b\b/ \b\b- \b\b\\ \b\b| \b\b/ \b\b- \b\b\\ \b\b| \b\b/ \b\b- \b\b\\ \b\b| \b\b/ \b\b- \b\b\\ \b\b| \b\b/ \b\b- \b\b\\ \b\b| \b\b/ \b\b- \b\b\\ \b\b| \b\b/ \b\b- \b\b\\ \b\b| \b\bdone\n",
            "Solving environment: - \b\b\\ \b\b| \b\b/ \b\b- \b\b\\ \b\b| \b\b/ \b\b- \b\b\\ \b\b| \b\b/ \b\b- \b\b\\ \b\b| \b\b/ \b\b- \b\b\\ \b\b| \b\b/ \b\b- \b\b\\ \b\b| \b\b/ \b\b- \b\b\\ \b\b| \b\b/ \b\b- \b\b\\ \b\b| \b\b/ \b\b- \b\b\\ \b\b| \b\b/ \b\b- \b\b\\ \b\b| \b\b/ \b\b- \b\b\\ \b\b| \b\b/ \b\b- \b\b\\ \b\b| \b\b/ \b\b- \b\b\\ \b\b| \b\b/ \b\b- \b\b\\ \b\b| \b\b/ \b\b- \b\b\\ \b\b| \b\b/ \b\b- \b\b\\ \b\b| \b\b/ \b\b- \b\b\\ \b\b| \b\bdone\n",
            "\n",
            "## Package Plan ##\n",
            "\n",
            "  environment location: /usr/local\n",
            "\n",
            "  added / updated specs:\n",
            "    - openmm\n",
            "\n",
            "\n",
            "The following packages will be downloaded:\n",
            "\n",
            "    package                    |            build\n",
            "    ---------------------------|-----------------\n",
            "    ocl-icd-2.3.1              |       h7f98852_0         119 KB  conda-forge\n",
            "    ocl-icd-system-1.0.0       |                1           4 KB  conda-forge\n",
            "    openmm-8.0.0               |   py38he9472fe_0        10.7 MB  conda-forge\n",
            "    ------------------------------------------------------------\n",
            "                                           Total:        10.8 MB\n",
            "\n",
            "The following NEW packages will be INSTALLED:\n",
            "\n",
            "  ocl-icd            conda-forge/linux-64::ocl-icd-2.3.1-h7f98852_0 \n",
            "  ocl-icd-system     conda-forge/linux-64::ocl-icd-system-1.0.0-1 \n",
            "  openmm             conda-forge/linux-64::openmm-8.0.0-py38he9472fe_0 \n",
            "\n",
            "The following packages will be SUPERSEDED by a higher-priority channel:\n",
            "\n",
            "  ca-certificates    anaconda::ca-certificates-2023.01.10-~ --> conda-forge::ca-certificates-2022.12.7-ha878542_0 \n",
            "  certifi            anaconda/linux-64::certifi-2022.12.7-~ --> conda-forge/noarch::certifi-2022.12.7-pyhd8ed1ab_0 \n",
            "\n",
            "\n",
            "\n",
            "Downloading and Extracting Packages\n",
            "openmm-8.0.0         | 10.7 MB   | :   0% 0/1 [00:00<?, ?it/s]\n",
            "ocl-icd-system-1.0.0 | 4 KB      | :   0% 0/1 [00:00<?, ?it/s]\u001b[A\n",
            "\n",
            "ocl-icd-2.3.1        | 119 KB    | :   0% 0/1 [00:00<?, ?it/s]\u001b[A\u001b[A\n",
            "\n",
            "openmm-8.0.0         | 10.7 MB   | :   0% 0.0014624557509840602/1 [00:00<01:52, 112.40s/it]\n",
            "ocl-icd-system-1.0.0 | 4 KB      | : 100% 1.0/1 [00:00<00:00,  6.05it/s]\u001b[A\n",
            "openmm-8.0.0         | 10.7 MB   | :  69% 0.6888166587134924/1 [00:00<00:00,  3.20it/s]    \n",
            "\n",
            "ocl-icd-2.3.1        | 119 KB    | : 100% 1.0/1 [00:00<00:00,  3.50it/s]               \u001b[A\u001b[A\n",
            "\n",
            "                                                                        \n",
            "                                                                        \u001b[A\n",
            "\n",
            "                                                                        \u001b[A\u001b[A\n",
            "Preparing transaction: - \b\bdone\n",
            "Verifying transaction: | \b\bdone\n",
            "Executing transaction: - \b\b\\ \b\b| \b\b/ \b\b- \b\b\\ \b\b| \b\b/ \b\b- \b\b\\ \b\b| \b\b/ \b\b- \b\b\\ \b\b| \b\b/ \b\b- \b\b\\ \b\b| \b\b/ \b\b- \b\b\\ \b\b| \b\b/ \b\b- \b\b\\ \b\b| \b\b/ \b\b- \b\b\\ \b\b| \b\bdone\n"
          ]
        }
      ]
    },
    {
      "cell_type": "code",
      "source": [
        "!conda install -c conda-forge pdbfixer"
      ],
      "metadata": {
        "id": "lZ-B8goUx-Jd",
        "outputId": "ab134c3c-9f05-4819-8492-bd11140c03e3",
        "colab": {
          "base_uri": "https://localhost:8080/"
        }
      },
      "execution_count": null,
      "outputs": [
        {
          "output_type": "stream",
          "name": "stdout",
          "text": [
            "Collecting package metadata (current_repodata.json): - \b\b\\ \b\b| \b\b/ \b\b- \b\b\\ \b\b| \b\b/ \b\b- \b\b\\ \b\b| \b\b/ \b\b- \b\b\\ \b\b| \b\b/ \b\b- \b\b\\ \b\b| \b\b/ \b\b- \b\b\\ \b\b| \b\b/ \b\b- \b\bdone\n",
            "Solving environment: | \b\b/ \b\b- \b\b\\ \b\b| \b\b/ \b\b- \b\b\\ \b\b| \b\b/ \b\b- \b\b\\ \b\b| \b\b/ \b\b- \b\b\\ \b\b| \b\b/ \b\b- \b\b\\ \b\b| \b\b/ \b\b- \b\b\\ \b\b| \b\b/ \b\b- \b\b\\ \b\b| \b\b/ \b\b- \b\b\\ \b\b| \b\b/ \b\b- \b\b\\ \b\b| \b\b/ \b\b- \b\b\\ \b\b| \b\b/ \b\b- \b\b\\ \b\b| \b\b/ \b\b- \b\b\\ \b\b| \b\b/ \b\b- \b\b\\ \b\b| \b\b/ \b\b- \b\b\\ \b\b| \b\b/ \b\b- \b\b\\ \b\b| \b\bdone\n",
            "\n",
            "## Package Plan ##\n",
            "\n",
            "  environment location: /usr/local\n",
            "\n",
            "  added / updated specs:\n",
            "    - pdbfixer\n",
            "\n",
            "\n",
            "The following packages will be downloaded:\n",
            "\n",
            "    package                    |            build\n",
            "    ---------------------------|-----------------\n",
            "    pdbfixer-1.8.1             |     pyh6c4a22f_0         498 KB  conda-forge\n",
            "    ------------------------------------------------------------\n",
            "                                           Total:         498 KB\n",
            "\n",
            "The following NEW packages will be INSTALLED:\n",
            "\n",
            "  pdbfixer           conda-forge/noarch::pdbfixer-1.8.1-pyh6c4a22f_0 \n",
            "\n",
            "\n",
            "\n",
            "Downloading and Extracting Packages\n",
            "                                                                        \n",
            "Preparing transaction: - \b\bdone\n",
            "Verifying transaction: | \b\bdone\n",
            "Executing transaction: - \b\b\\ \b\b| \b\b/ \b\b- \b\b\\ \b\b| \b\b/ \b\b- \b\b\\ \b\b| \b\b/ \b\b- \b\b\\ \b\bdone\n"
          ]
        }
      ]
    },
    {
      "cell_type": "code",
      "source": [
        "!pdbfixer --help"
      ],
      "metadata": {
        "id": "EQ6wF3F_x-pB",
        "outputId": "90f3dcc4-9545-46de-c0d9-ad0916686d4a",
        "colab": {
          "base_uri": "https://localhost:8080/"
        }
      },
      "execution_count": null,
      "outputs": [
        {
          "output_type": "stream",
          "name": "stdout",
          "text": [
            "Usage: pdbfixer\n",
            "       pdbfixer filename [options] \n",
            "\n",
            "When run with no arguments, it launches the user interface.  If any arguments are specified, it runs in command line mode.\n",
            "\n",
            "Options:\n",
            "  -h, --help            show this help message and exit\n",
            "  --pdbid=PDBID         PDB id to retrieve from RCSB [default: None]\n",
            "  --url=URL             URL to retrieve PDB from [default: None]\n",
            "  --output=FILENAME     output pdb file [default: output.pdb]\n",
            "  --add-atoms=ATOMS     which missing atoms to add: all, heavy, hydrogen, or\n",
            "                        none [default: all]\n",
            "  --keep-heterogens=OPTION\n",
            "                        which heterogens to keep: all, water, or none\n",
            "                        [default: all]\n",
            "  --replace-nonstandard\n",
            "                        replace nonstandard residues with standard equivalents\n",
            "  --add-residues        add missing residues\n",
            "  --water-box=X Y Z     add a water box. The value is the box dimensions in nm\n",
            "                        [example: --water-box=2.5 2.4 3.0]\n",
            "  --ph=PH               the pH to use for adding missing hydrogens [default:\n",
            "                        7.0]\n",
            "  --positive-ion=ION    positive ion to include in the water box: Cs+, K+,\n",
            "                        Li+, Na+, or Rb+ [default: Na+]\n",
            "  --negative-ion=ION    negative ion to include in the water box: Cl-, Br-,\n",
            "                        F-, or I- [default: Cl-]\n",
            "  --ionic-strength=STRENGTH\n",
            "                        molar concentration of ions to add to the water box\n",
            "                        [default: 0.0]\n",
            "  --verbose             Print verbose output\n"
          ]
        }
      ]
    },
    {
      "cell_type": "code",
      "source": [],
      "metadata": {
        "id": "QcuSUgrX0ldg"
      },
      "execution_count": null,
      "outputs": []
    },
    {
      "cell_type": "code",
      "source": [
        "!pdbfixer  {Protein_PDB_file_name} --ph=7  --replace-nonstandard --add-residues "
      ],
      "metadata": {
        "id": "gld65kMi0Ka8",
        "outputId": "6368e07a-aee4-4353-aedb-f8a953e805c6",
        "colab": {
          "base_uri": "https://localhost:8080/"
        }
      },
      "execution_count": null,
      "outputs": [
        {
          "output_type": "stream",
          "name": "stdout",
          "text": [
            "Warning: importing 'simtk.openmm' is deprecated.  Import 'openmm' instead.\n"
          ]
        }
      ]
    },
    {
      "cell_type": "code",
      "source": [
        "!cat output.pdb > receptor.pdb"
      ],
      "metadata": {
        "id": "8POZF8t_16K1"
      },
      "execution_count": null,
      "outputs": []
    },
    {
      "cell_type": "markdown",
      "source": [
        "# Caculating charges for receptor"
      ],
      "metadata": {
        "id": "Yq55r4UdpoJg"
      }
    },
    {
      "cell_type": "code",
      "metadata": {
        "jupyter": {
          "source_hidden": true
        },
        "id": "y0IUuw0h0EO7",
        "colab": {
          "base_uri": "https://localhost:8080/"
        },
        "outputId": "5039b3c1-cabb-4025-8636-dd23e6408dcd"
      },
      "source": [
        "#@title Target and native ligand preparation before docking\n",
        "#!obabel {Protein_PDB_file_name} -xr -O receptor.pdbqt\n",
        "!obabel receptor.pdb -xr -O receptor.pdbqt\n",
        "!obabel {ligand_name} -O native_ligand.pdbqt"
      ],
      "execution_count": null,
      "outputs": [
        {
          "output_type": "stream",
          "name": "stdout",
          "text": [
            "==============================\n",
            "*** Open Babel Warning  in PerceiveBondOrders\n",
            "  Failed to kekulize aromatic bonds in OBMol::PerceiveBondOrders (title is receptor.pdb)\n",
            "\n",
            "1 molecule converted\n",
            "==============================\n",
            "*** Open Babel Warning  in PerceiveBondOrders\n",
            "  Failed to kekulize aromatic bonds in OBMol::PerceiveBondOrders (title is 7L10-XEY.pdb)\n",
            "\n",
            "1 molecule converted\n"
          ]
        }
      ]
    },
    {
      "cell_type": "markdown",
      "source": [
        "# Paste your SMILES and Prepare ligand"
      ],
      "metadata": {
        "id": "Nev8kDowRvSK"
      }
    },
    {
      "cell_type": "markdown",
      "source": [
        "In this script, the smiles_list variable contains the list of SMILES strings that you want to convert to an SDF file. The script creates a new SDWriter object to write the output SDF file, and then loops over each SMILES string in the list. For each SMILES string, it uses the Chem.MolFromSmiles function from RDKit to convert the SMILES to a molecule object. It then uses the AllChem.Compute2DCoords function to add 2D coordinates to the molecule, which can be useful for visualization. Finally, it sets a unique name for the molecule using the mol.SetProp('_Name', ...) method, and then writes the molecule to the output SDF file using the writer.write method.\n",
        "\n",
        "The resulting SDF file will contain one molecule for each SMILES string in the input list, with a unique name assigned to each molecule based on its position in the list."
      ],
      "metadata": {
        "id": "J7zukAMHQl8K"
      }
    },
    {
      "cell_type": "code",
      "source": [
        "#@title Generate sdf file, this sdf contains all the moclecule you have provided.\n",
        "from rdkit import Chem\n",
        "from rdkit.Chem import AllChem\n",
        "from rdkit.Chem import SDWriter\n",
        "\n",
        "# Define the list of SMILES strings\n",
        "\n",
        "\n",
        "# Create a new SDWriter object to write the output SDF file\n",
        "writer = SDWriter('small.sdf')\n",
        "\n",
        "# Loop over each SMILES string in the list and convert it to a molecule object,\n",
        "# then add it to the SDF file with a unique name\n",
        "for i, smiles in enumerate(smiles_list):\n",
        "    mol = Chem.MolFromSmiles(smiles)\n",
        "    AllChem.Compute2DCoords(mol)  # Add 2D coordinates for visualization\n",
        "    mol.SetProp('_Name', f'Molecule_{i+1}')\n",
        "    writer.write(mol)\n",
        "\n",
        "# Close the SDF writer\n",
        "writer.close()"
      ],
      "metadata": {
        "cellView": "form",
        "id": "99Etb47gPUnK"
      },
      "execution_count": null,
      "outputs": []
    },
    {
      "cell_type": "code",
      "source": [
        "#@title Define small ligand path and output molecule number\n",
        "# File locations\n",
        "sdfFilePath = 'small.sdf' #@param {type:\"string\"}\n",
        "ConfoutputFilePath = 'small_conformation.sdf' #@param {type:\"string\"}\n",
        "\n",
        "inputMols = [x for x in Chem.SDMolSupplier(sdfFilePath,removeHs=False)]\n",
        "# Assign atomic chirality based on the structures:\n",
        "len(inputMols) # Check how many strucures"
      ],
      "metadata": {
        "cellView": "form",
        "colab": {
          "base_uri": "https://localhost:8080/"
        },
        "id": "2MrRF4lkCjzT",
        "outputId": "db64aaed-6677-4962-95c3-aae3a0b88c8e"
      },
      "execution_count": null,
      "outputs": [
        {
          "output_type": "execute_result",
          "data": {
            "text/plain": [
              "2"
            ]
          },
          "metadata": {},
          "execution_count": 46
        }
      ]
    },
    {
      "cell_type": "code",
      "execution_count": null,
      "metadata": {
        "cellView": "form",
        "id": "sKfSM19Jwj-f",
        "colab": {
          "base_uri": "https://localhost:8080/"
        },
        "outputId": "49d2cdee-2640-432b-fca0-f06115278632"
      },
      "outputs": [
        {
          "output_type": "stream",
          "name": "stderr",
          "text": [
            "Generating conformations; 100% Time:  0:00:00 |###############################|\n"
          ]
        }
      ],
      "source": [
        "#@title SDF conformation generation for small molecule\n",
        "\n",
        "import multiprocessing\n",
        "\n",
        "# Download this from http://pypi.python.org/pypi/futures\n",
        "from concurrent import futures\n",
        "\n",
        "# conda install progressbar\n",
        "import progressbar\n",
        "\n",
        "#Find number cores available, leave two or system might be unresponsive\n",
        "numcores = multiprocessing.cpu_count()\n",
        "max_workers = numcores #-1\n",
        "\n",
        "#Knowledge based torsion generator http://pubs.acs.org/doi/abs/10.1021/acs.jcim.5b00654\n",
        "# This function is called in the subprocess.\n",
        "# The parameters (molecule and number of conformers) are passed via a Python\n",
        "\n",
        "ps = AllChem.ETKDG()\n",
        "ps.pruneRmsThresh=0.5\n",
        "ps.numThreads=0\n",
        "#Edit for number of confs desired eg n = 5\n",
        "n=5\n",
        "def generateconformations(m, n, name):\n",
        "    m = Chem.AddHs(m)\n",
        "    ids=AllChem.EmbedMultipleConfs(m, n, ps)\n",
        "    for id in ids:\n",
        "        AllChem.UFFOptimizeMolecule(m, confId=id)\n",
        "    # EmbedMultipleConfs returns a Boost-wrapped type which\n",
        "    # cannot be pickled. Convert it to a Python list, which can.\n",
        "    return m, list(ids), name\n",
        "\n",
        "smi_input_file, sdf_output_file = sys.argv[1:3]\n",
        "\n",
        "\n",
        "writer = Chem.SDWriter(ConfoutputFilePath)\n",
        "# suppl = [x for x in Chem.SDMolSupplier(sdfFilePath,removeHs=False)]\n",
        "#suppl = Chem.SmilesMolSupplier(smi_input_file, titleLine=False)\n",
        "\n",
        "# for mol in suppl:\n",
        "#     print(mol.GetPropsAsDict(includePrivate=True).get('_Name'))\n",
        "\n",
        "with futures.ProcessPoolExecutor(max_workers=max_workers) as executor:\n",
        "    # Submit a set of asynchronous jobs\n",
        "    jobs = []\n",
        "    for mol in inputMols:\n",
        "        if mol:\n",
        "            name = mol.GetProp('_Name')\n",
        "            job = executor.submit(generateconformations, mol, n, name)\n",
        "            jobs.append(job)\n",
        "\n",
        "    widgets = [\"Generating conformations; \", progressbar.Percentage(), \" \",\n",
        "               progressbar.ETA(), \" \", progressbar.Bar()]\n",
        "    pbar = progressbar.ProgressBar(widgets=widgets, maxval=len(jobs))\n",
        "    for job in pbar(futures.as_completed(jobs)):\n",
        "        mol, ids, name = job.result()\n",
        "        mol.SetProp('_Name', name)\n",
        "        for id in ids:\n",
        "            writer.write(mol, confId=id)\n",
        "writer.close()"
      ]
    },
    {
      "cell_type": "code",
      "source": [
        "ms = [x for x in Chem.SDMolSupplier(ConfoutputFilePath,removeHs=False)]\n",
        "# Assign atomic chirality based on the structures:\n",
        "for m in ms: Chem.AssignAtomChiralTagsFromStructure(m)\n",
        "len(ms) # check how many conformations"
      ],
      "metadata": {
        "outputId": "99516dea-696f-475b-89ab-55530d88032b",
        "colab": {
          "base_uri": "https://localhost:8080/"
        },
        "id": "xwHywYJDQErZ"
      },
      "execution_count": null,
      "outputs": [
        {
          "output_type": "execute_result",
          "data": {
            "text/plain": [
              "10"
            ]
          },
          "metadata": {},
          "execution_count": 48
        }
      ]
    },
    {
      "cell_type": "markdown",
      "source": [
        "# Define Docking inputs variables"
      ],
      "metadata": {
        "id": "0W-wd1QGRjXb"
      }
    },
    {
      "cell_type": "code",
      "execution_count": null,
      "metadata": {
        "cellView": "form",
        "id": "6N-veZedu3LD"
      },
      "outputs": [],
      "source": [
        "#@title 👋 Input names needed for Dock1\n",
        "ProteinForDocking = \"receptor.pdbqt\" #@param {type:\"string\"}\n",
        "LigandFromProtein = \"native_ligand.pdbqt\" #@param {type:\"string\"}\n",
        "Docked_out_FilePath = \"All_Docked.sdf.gz\" #@param {type:\"string\"}\n",
        "FlexibleDockedFilePath = \"FlexibleDocked.sdf.gz\" #@param {type:\"string\"}"
      ]
    },
    {
      "cell_type": "markdown",
      "source": [
        "# Docking "
      ],
      "metadata": {
        "id": "eBRDz0YhaSEu"
      }
    },
    {
      "cell_type": "code",
      "source": [
        "#@title  Normal Docking (docking box is 8Å greater than the ligand specified. The –exhaustiveness is 8 )\n",
        "!./smina.static --seed 0 --autobox_ligand '{LigandFromProtein}' -r '{ProteinForDocking}' -l '{ConfoutputFilePath}'  -o '{Docked_out_FilePath}'"
      ],
      "metadata": {
        "colab": {
          "base_uri": "https://localhost:8080/"
        },
        "id": "HpT1N-2sGFtN",
        "outputId": "e712a9c8-8c6c-47af-b17f-d62da59b50af"
      },
      "execution_count": null,
      "outputs": [
        {
          "output_type": "stream",
          "name": "stdout",
          "text": [
            "==============================\n",
            "*** Open Babel Warning  in PerceiveBondOrders\n",
            "  Failed to kekulize aromatic bonds in OBMol::PerceiveBondOrders (title is 7L10-XEY.pdb)\n",
            "\n",
            "   _______  _______ _________ _        _______ \n",
            "  (  ____ \\(       )\\__   __/( (    /|(  ___  )\n",
            "  | (    \\/| () () |   ) (   |  \\  ( || (   ) |\n",
            "  | (_____ | || || |   | |   |   \\ | || (___) |\n",
            "  (_____  )| |(_)| |   | |   | (\\ \\) ||  ___  |\n",
            "        ) || |   | |   | |   | | \\   || (   ) |\n",
            "  /\\____) || )   ( |___) (___| )  \\  || )   ( |\n",
            "  \\_______)|/     \\|\\_______/|/    )_)|/     \\|\n",
            "\n",
            "\n",
            "smina is based off AutoDock Vina. Please cite appropriately.\n",
            "\n",
            "Weights      Terms\n",
            "-0.035579    gauss(o=0,_w=0.5,_c=8)\n",
            "-0.005156    gauss(o=3,_w=2,_c=8)\n",
            "0.840245     repulsion(o=0,_c=8)\n",
            "-0.035069    hydrophobic(g=0.5,_b=1.5,_c=8)\n",
            "-0.587439    non_dir_h_bond(g=-0.7,_b=0,_c=8)\n",
            "1.923        num_tors_div\n",
            "\n",
            "Using random seed: 0\n",
            "\n",
            "0%   10   20   30   40   50   60   70   80   90   100%\n",
            "|----|----|----|----|----|----|----|----|----|----|\n",
            "***************************************************\n",
            "\n",
            "mode |   affinity | dist from best mode\n",
            "     | (kcal/mol) | rmsd l.b.| rmsd u.b.\n",
            "-----+------------+----------+----------\n",
            "1       -6.1       0.000      0.000    \n",
            "2       -6.1       4.108      7.739    \n",
            "3       -6.1       4.679      7.671    \n",
            "4       -6.0       3.905      6.158    \n",
            "5       -6.0       4.547      6.060    \n",
            "6       -6.0       2.843      4.619    \n",
            "7       -5.9       2.962      6.559    \n",
            "8       -5.8       3.476      7.894    \n",
            "9       -5.8       3.285      5.246    \n",
            "Refine time 43.027\n",
            "Using random seed: 0\n",
            "\n",
            "0%   10   20   30   40   50   60   70   80   90   100%\n",
            "|----|----|----|----|----|----|----|----|----|----|\n",
            "***************************************************\n",
            "\n",
            "mode |   affinity | dist from best mode\n",
            "     | (kcal/mol) | rmsd l.b.| rmsd u.b.\n",
            "-----+------------+----------+----------\n",
            "1       -6.5       0.000      0.000    \n",
            "2       -6.0       3.889      7.308    \n",
            "3       -5.9       1.706      2.845    \n",
            "4       -5.8       2.671      5.193    \n",
            "5       -5.8       3.471      7.200    \n",
            "6       -5.8       3.919      6.958    \n",
            "7       -5.7       3.123      7.204    \n",
            "8       -5.6       2.682      3.727    \n",
            "9       -5.6       4.046      6.306    \n",
            "Refine time 44.039\n",
            "Using random seed: 0\n",
            "\n",
            "0%   10   20   30   40   50   60   70   80   90   100%\n",
            "|----|----|----|----|----|----|----|----|----|----|\n",
            "***************************************************\n",
            "\n",
            "mode |   affinity | dist from best mode\n",
            "     | (kcal/mol) | rmsd l.b.| rmsd u.b.\n",
            "-----+------------+----------+----------\n",
            "1       -6.3       0.000      0.000    \n",
            "2       -6.2       2.506      7.174    \n",
            "3       -6.0       2.103      3.811    \n",
            "4       -5.9       1.281      1.931    \n",
            "5       -5.5       2.447      4.894    \n",
            "6       -5.5       3.028      5.489    \n",
            "7       -5.4       3.388      6.409    \n",
            "8       -5.4       2.570      6.633    \n",
            "9       -5.4       2.335      4.451    \n",
            "Refine time 43.278\n",
            "Using random seed: 0\n",
            "\n",
            "0%   10   20   30   40   50   60   70   80   90   100%\n",
            "|----|----|----|----|----|----|----|----|----|----|\n",
            "***************************************************\n",
            "\n",
            "mode |   affinity | dist from best mode\n",
            "     | (kcal/mol) | rmsd l.b.| rmsd u.b.\n",
            "-----+------------+----------+----------\n",
            "1       -6.8       0.000      0.000    \n",
            "2       -6.5       2.482      7.076    \n",
            "3       -6.0       1.758      3.319    \n",
            "4       -6.0       2.924      6.333    \n",
            "5       -5.9       2.172      3.078    \n",
            "6       -5.8       4.295      7.474    \n",
            "7       -5.8       2.883      6.679    \n",
            "8       -5.7       3.616      7.442    \n",
            "9       -5.7       2.441      7.195    \n",
            "Refine time 43.173\n",
            "Using random seed: 0\n",
            "\n",
            "0%   10   20   30   40   50   60   70   80   90   100%\n",
            "|----|----|----|----|----|----|----|----|----|----|\n",
            "***************************************************\n",
            "\n",
            "mode |   affinity | dist from best mode\n",
            "     | (kcal/mol) | rmsd l.b.| rmsd u.b.\n",
            "-----+------------+----------+----------\n",
            "1       -6.2       0.000      0.000    \n",
            "2       -6.1       2.898      7.957    \n",
            "3       -6.0       3.967      7.894    \n",
            "4       -5.7       2.900      5.848    \n",
            "5       -5.6       4.543      9.013    \n",
            "6       -5.6       2.466      3.609    \n",
            "7       -5.5       4.653      8.645    \n",
            "8       -5.5       4.469      7.362    \n",
            "9       -5.5       3.472      6.173    \n",
            "Refine time 44.195\n",
            "Using random seed: 0\n",
            "\n",
            "0%   10   20   30   40   50   60   70   80   90   100%\n",
            "|----|----|----|----|----|----|----|----|----|----|\n",
            "***************************************************\n",
            "\n",
            "mode |   affinity | dist from best mode\n",
            "     | (kcal/mol) | rmsd l.b.| rmsd u.b.\n",
            "-----+------------+----------+----------\n",
            "1       -8.4       0.000      0.000    \n",
            "2       -8.0       2.656      10.739   \n",
            "3       -8.0       1.204      2.004    \n",
            "4       -7.9       1.967      10.772   \n",
            "5       -7.9       4.023      7.660    \n",
            "6       -7.8       3.541      9.185    \n",
            "7       -7.7       2.491      3.818    \n",
            "8       -7.7       1.941      10.125   \n",
            "9       -7.7       3.484      8.939    \n",
            "Refine time 259.498\n",
            "Using random seed: 0\n",
            "\n",
            "0%   10   20   30   40   50   60   70   80   90   100%\n",
            "|----|----|----|----|----|----|----|----|----|----|\n",
            "***************************************************\n",
            "\n",
            "mode |   affinity | dist from best mode\n",
            "     | (kcal/mol) | rmsd l.b.| rmsd u.b.\n",
            "-----+------------+----------+----------\n",
            "1       -8.4       0.000      0.000    \n",
            "2       -8.1       2.614      10.538   \n",
            "3       -7.9       2.048      10.647   \n",
            "4       -7.8       3.877      7.498    \n",
            "5       -7.7       3.957      9.869    \n",
            "6       -7.6       2.446      3.388    \n",
            "7       -7.6       3.320      9.192    \n",
            "8       -7.6       3.470      9.360    \n",
            "9       -7.6       3.358      9.577    \n",
            "Refine time 245.719\n",
            "Using random seed: 0\n",
            "\n",
            "0%   10   20   30   40   50   60   70   80   90   100%\n",
            "|----|----|----|----|----|----|----|----|----|----|\n",
            "***************************************************\n",
            "\n",
            "mode |   affinity | dist from best mode\n",
            "     | (kcal/mol) | rmsd l.b.| rmsd u.b.\n",
            "-----+------------+----------+----------\n",
            "1       -8.4       0.000      0.000    \n",
            "2       -8.1       2.491      10.549   \n",
            "3       -8.0       4.178      7.792    \n",
            "4       -7.9       3.968      7.821    \n",
            "5       -7.8       1.495      8.963    \n",
            "6       -7.8       2.766      10.044   \n",
            "7       -7.7       3.515      9.361    \n",
            "8       -7.6       2.609      4.046    \n",
            "9       -7.5       3.097      8.716    \n",
            "Refine time 243.235\n",
            "Using random seed: 0\n",
            "\n",
            "0%   10   20   30   40   50   60   70   80   90   100%\n",
            "|----|----|----|----|----|----|----|----|----|----|\n",
            "***************************************************\n",
            "\n",
            "mode |   affinity | dist from best mode\n",
            "     | (kcal/mol) | rmsd l.b.| rmsd u.b.\n",
            "-----+------------+----------+----------\n",
            "1       -8.4       0.000      0.000    \n",
            "2       -8.4       4.255      7.886    \n",
            "3       -8.3       2.546      3.957    \n",
            "4       -8.2       2.430      10.707   \n",
            "5       -8.1       4.159      9.741    \n",
            "6       -8.0       4.045      7.903    \n",
            "7       -8.0       2.198      8.478    \n",
            "8       -8.0       2.456      8.551    \n",
            "9       -7.9       3.660      9.615    \n",
            "Refine time 244.798\n",
            "Using random seed: 0\n",
            "\n",
            "0%   10   20   30   40   50   60   70   80   90   100%\n",
            "|----|----|----|----|----|----|----|----|----|----|\n",
            "***************************************************\n",
            "\n",
            "mode |   affinity | dist from best mode\n",
            "     | (kcal/mol) | rmsd l.b.| rmsd u.b.\n",
            "-----+------------+----------+----------\n",
            "1       -8.2       0.000      0.000    \n",
            "2       -8.1       2.687      10.706   \n",
            "3       -8.0       3.942      7.749    \n",
            "4       -8.0       1.917      10.805   \n",
            "5       -8.0       2.742      10.530   \n",
            "6       -7.9       1.939      10.194   \n",
            "7       -7.9       2.500      3.980    \n",
            "8       -7.7       2.359      8.725    \n",
            "9       -7.6       3.047      4.376    \n",
            "Refine time 246.887\n",
            "Loop time 1463.117\n"
          ]
        }
      ]
    },
    {
      "cell_type": "markdown",
      "source": [
        "# Post-docking process"
      ],
      "metadata": {
        "id": "UxS4uikfVCG_"
      }
    },
    {
      "cell_type": "code",
      "source": [
        "%cd .."
      ],
      "metadata": {
        "id": "s9zDEdvab8dO",
        "outputId": "002534c2-da3a-4e47-da7d-450e2d24d573",
        "colab": {
          "base_uri": "https://localhost:8080/"
        }
      },
      "execution_count": null,
      "outputs": [
        {
          "output_type": "stream",
          "name": "stdout",
          "text": [
            "/content\n"
          ]
        }
      ]
    },
    {
      "cell_type": "code",
      "source": [
        "docked_df = PandasTools.LoadSDF(Docked_out_FilePath,molColName='Molecule', removeHs=False)\n",
        "docked_df"
      ],
      "metadata": {
        "id": "VewjBwBNcAAn",
        "outputId": "784c3d29-01d6-4d53-d254-42c5e8a07d8f",
        "colab": {
          "base_uri": "https://localhost:8080/",
          "height": 1000
        }
      },
      "execution_count": null,
      "outputs": [
        {
          "output_type": "execute_result",
          "data": {
            "text/plain": [
              "   minimizedAffinity          ID  \\\n",
              "0           -6.14085  Molecule_1   \n",
              "1           -6.07940  Molecule_1   \n",
              "2           -6.06880  Molecule_1   \n",
              "3           -6.03763  Molecule_1   \n",
              "4           -5.99923  Molecule_1   \n",
              "..               ...         ...   \n",
              "85          -7.96201  Molecule_2   \n",
              "86          -7.90831  Molecule_2   \n",
              "87          -7.90678  Molecule_2   \n",
              "88          -7.73759  Molecule_2   \n",
              "89          -7.61902  Molecule_2   \n",
              "\n",
              "                                            Molecule  \n",
              "0   <rdkit.Chem.rdchem.Mol object at 0x7f156874ec80>  \n",
              "1   <rdkit.Chem.rdchem.Mol object at 0x7f156874ea50>  \n",
              "2   <rdkit.Chem.rdchem.Mol object at 0x7f156874e9e0>  \n",
              "3   <rdkit.Chem.rdchem.Mol object at 0x7f156874ee40>  \n",
              "4   <rdkit.Chem.rdchem.Mol object at 0x7f156874eb30>  \n",
              "..                                               ...  \n",
              "85  <rdkit.Chem.rdchem.Mol object at 0x7f15686d4040>  \n",
              "86  <rdkit.Chem.rdchem.Mol object at 0x7f15686d40b0>  \n",
              "87  <rdkit.Chem.rdchem.Mol object at 0x7f15686d4120>  \n",
              "88  <rdkit.Chem.rdchem.Mol object at 0x7f15686d4190>  \n",
              "89  <rdkit.Chem.rdchem.Mol object at 0x7f15686d4200>  \n",
              "\n",
              "[90 rows x 3 columns]"
            ],
            "text/html": [
              "\n",
              "  <div id=\"df-f4723dee-a1ad-4da9-b6a1-f9018b45ca0f\">\n",
              "    <div class=\"colab-df-container\">\n",
              "      <div>\n",
              "<style scoped>\n",
              "    .dataframe tbody tr th:only-of-type {\n",
              "        vertical-align: middle;\n",
              "    }\n",
              "\n",
              "    .dataframe tbody tr th {\n",
              "        vertical-align: top;\n",
              "    }\n",
              "\n",
              "    .dataframe thead th {\n",
              "        text-align: right;\n",
              "    }\n",
              "</style>\n",
              "<table border=\"1\" class=\"dataframe\">\n",
              "  <thead>\n",
              "    <tr style=\"text-align: right;\">\n",
              "      <th></th>\n",
              "      <th>minimizedAffinity</th>\n",
              "      <th>ID</th>\n",
              "      <th>Molecule</th>\n",
              "    </tr>\n",
              "  </thead>\n",
              "  <tbody>\n",
              "    <tr>\n",
              "      <th>0</th>\n",
              "      <td>-6.14085</td>\n",
              "      <td>Molecule_1</td>\n",
              "      <td style=\"text-align: center;\"><div style=\"width: 200px; height: 200px\" data-content=\"rdkit/molecule\"><img src=\"data:image/png;base64,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\" alt=\"Mol\"/></div></td>\n",
              "    </tr>\n",
              "    <tr>\n",
              "      <th>1</th>\n",
              "      <td>-6.07940</td>\n",
              "      <td>Molecule_1</td>\n",
              "      <td style=\"text-align: center;\"><div style=\"width: 200px; height: 200px\" data-content=\"rdkit/molecule\"><img src=\"data:image/png;base64,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\" alt=\"Mol\"/></div></td>\n",
              "    </tr>\n",
              "    <tr>\n",
              "      <th>2</th>\n",
              "      <td>-6.06880</td>\n",
              "      <td>Molecule_1</td>\n",
              "      <td style=\"text-align: center;\"><div style=\"width: 200px; height: 200px\" data-content=\"rdkit/molecule\"><img src=\"data:image/png;base64,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\" alt=\"Mol\"/></div></td>\n",
              "    </tr>\n",
              "    <tr>\n",
              "      <th>3</th>\n",
              "      <td>-6.03763</td>\n",
              "      <td>Molecule_1</td>\n",
              "      <td style=\"text-align: center;\"><div style=\"width: 200px; height: 200px\" data-content=\"rdkit/molecule\"><img src=\"data:image/png;base64,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\" alt=\"Mol\"/></div></td>\n",
              "    </tr>\n",
              "    <tr>\n",
              "      <th>4</th>\n",
              "      <td>-5.99923</td>\n",
              "      <td>Molecule_1</td>\n",
              "      <td style=\"text-align: center;\"><div style=\"width: 200px; height: 200px\" data-content=\"rdkit/molecule\"><img src=\"data:image/png;base64,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\" alt=\"Mol\"/></div></td>\n",
              "    </tr>\n",
              "    <tr>\n",
              "      <th>...</th>\n",
              "      <td>...</td>\n",
              "      <td>...</td>\n",
              "      <td>...</td>\n",
              "    </tr>\n",
              "    <tr>\n",
              "      <th>85</th>\n",
              "      <td>-7.96201</td>\n",
              "      <td>Molecule_2</td>\n",
              "      <td style=\"text-align: center;\"><div style=\"width: 200px; height: 200px\" data-content=\"rdkit/molecule\"><img src=\"data:image/png;base64,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\" alt=\"Mol\"/></div></td>\n",
              "    </tr>\n",
              "    <tr>\n",
              "      <th>86</th>\n",
              "      <td>-7.90831</td>\n",
              "      <td>Molecule_2</td>\n",
              "      <td style=\"text-align: center;\"><div style=\"width: 200px; height: 200px\" data-content=\"rdkit/molecule\"><img src=\"data:image/png;base64,iVBORw0KGgoAAAANSUhEUgAAAMgAAADICAIAAAAiOjnJAAAABmJLR0QA/wD/AP+gvaeTAAAe0klEQVR4nO2deVhTx9rA3xMSQhLZlK2CqICKUlsKSuUTRKstq2LdqMV4lV7UiiL22vq4gdpad8V6tdC6XKD1asRaQW9Fqui1AipYtVZcEBVR2fewZZnvj7HnRgRkyclJYH6Pj0+e4eScN+HHmTkz78xQCCEgENQNh+0ACN0TIhaBEYhYBEYgYhEYgYhFYAQiFoERiFgERiBiERiBiEVgBCIWgRGIWARGIGIRGIGIRWAEIhaBEYhYBEYgYhEYgYhFYAQiFoERiFgERiBiERiBiEVgBCIWgRGIWISOIZPJfv/99507d44dO7aNw7iaioeg29TX18fHx3/55ZfFxcUymQwX3rlzx9HRscXjiViE13D//v39+/fv37+/tLSULqQoavDgwdXV1a29i4hFaE5RUVF8fHxxcfHIkSNjYmLOnz+Pp8tTFIUQ4nA4U6dOXbdu3dChQ9s4CRGL8AKlUnnu3Lnvvvvu+PHjcrkcawQAHA5HdR2GyZMnSySS156NiEWAgoKCH3/8MSYm5tGjR3QhQojL5crlcqVSSZfY2tq6u7u366SI0FNpaGiQSCQBAQF6enqqSnC5XKFQqFrC4XAmTJggkUhkMlk7T/7idkfoUeTk5MTFxR04cKCkpES1XCQS1dXVqSphbm4eEhIyf/78gQMHduwaDP5FELpMSUnJvXv3EEI1NTU3b97s4tmqqqr27t07YcIE+rdPURT+n8fjNRPD1dU1Li6uqampc9cibSyt5u7du9evXx80aFBhYeHRo0eHDx/eufNkZGRERkampaUpFAoA4PP5SqUS12u4kU53TZmams6ZM2f+/PlDhgzpSuRELG3nxo0bx48fLyws7MR7KyoqtmzZ8t1335WXl+MSfHNqbGykj+FwOOPGjROLxfv27fvkk09mzJghEAi6HjYRS9sxMjKysrJSKBTPnz9v51uUSmVSUtJXX3117do19FeDSSgUNjU1yeXypqYmXNK3b1+xWLxw4UJbW1sAmD17thrDJmJpOwMHDnR3d8/Nzb1582ZJSYm5uXkbBz958mT9+vWHDx+ura3FJVwu18rKisvl0l0JxsbG5ubmO3bs8PPza/Y8qE662B4kMMqzZ89u3LiBEKqsrDxy5Ejfvn0///zzVw9rbGyMiYlp1hXep0+ffv360a8NDQ1nzJiRnJxcXV2tgciJWDrDzz//zOPxhg51jYyU0oU3b96cOnUqn8+nfeLzBY6OrnQ7yczMbOnSpX/++aeGoyVi6RLHj582Ny8HQHv2NO3cuXPAgAG0TxRFWVsP79fvBwD5iBG/cDic0aNHx8bG4n4pzUM6SHWMzZtvbd7cVFX1L6XyOUAiQGivXmctLD4oKPiyqckMAKytISREOXdu/sCBA1iMk4ilG1RUVGzbti02NrasrAyAAthAUcNHjYqxtd1ja9t/61bQ04Nx42DePPjwQ+BqwSOZFoRAaB2lUnnixIktW7ZcuXKFHgy2sDAfPNhj7dqRJ04ECAQQFASmpjBnDrzxBrvBvgRJTdZSnjx5EhoaamRkNGXKlMzMTKVSyefzAwMDc3JyioqKPD09nZwMzMwgKwveeANWrNAuqwBId4OW0djYeODAgWZDNwMGDNizZ4/qsN2KFej5c9TQgAYPRs+esRhvqxCxtIUbN24EBgbq6+vTPhkaGorF4kePHr168JEjaOtW9OABkkqRQqH5YF8PEYtl6uvrt2/f3qzjYPjw4YmJiUqlsrV3BQQgAPTDD5qMtGMQsVjj/Pnznp6eqoMqffr0WbhwYVlZWdtvlMuRiQkCQPn5mom0MxCxNE1FRcXKlSv79OlD+6Snp+fp6fnbb7+9evC33347efLkDRs2yOVyujArCwEgBwcNBt1xiFgaQqFQHDlyxMXFBefWYaysrCIjI6VS6avHP3v2TCwWUxSFb2nvvPPOpUuX8I+2bUMA6O9/1+wH6CBELMbZvXv3rFmzRCIR7RPuOLh7926Lx8tksh07dhgZGQGAUCh8//33cVoLRVFz584tKiqaOBEBoIQEDX+OjkHEYgq5XH7w4MH+/furtsrt7e337NnTxpSEixcvvvXWW/h4Hx+fefPmHTp0SCqVrlq1Co80W1hYDB16R8sbWIiIxQSvdhxgXF1d28hbLysrCw8P53A4AGBnZ7dixQobGxsA6Nu37+bNm2tqam7duiUUCnFNOmKEnyY/UScgYqmN+vr6TZs20SlQAMDhcFxcXBITEz/77DNsjJ6eXnh4eLOMKIVCERcXZ2ZmBgD6+vp/+9vfPvjgA3wGFxeXRYsWAYCHh8fChQvxkyMAfPLJJ2x9zHZCxFIDaWlp7733XrOOg4iIiJqaGvqYqKgoOmvK2tpaIpHg8uzs7HfffReXjx07NiwszMDAAABMTEyio6OvXLmir69PUVRkZCRFUXw+38vLCwDi4+NZ+qzthYjVecrKyiIiInr37t2s4yAjI6PF4xctWsTn8/GtCwC8vb3nzp2LdbS2tl66dCmeu0dRlFgsLioqqqmpwVNlQkND8f0sOjoaX+7x48ca/rAdhYjVYRQKxU8//eTm5qbacWBtbb1169bXzsKbPXs2j8ezsLAwNDQEAB6Px+PxQkJCPvroI3yet956i+7QEovFADB8+HC8EpWvr292djYAmJmZtdEpryUQsTrAw4cPg4ODVaefGxgYBAYG4jml7UEul/v4+FAU1bdvXwAYPXr0qlWr8AmNjIyio6PpB8YjR44AgEgkCg8PBwBLS8uMjIxRo0bh6y5atEjL3SJivR65XL5//37VFcYoinJ0dExISOjEb7eurg6PDPbq1evBgwexsbEAEBAQkK/Sf/DgwQPcj7Vq1Soul0tR1KBBg+jaFs9aDg0N1Wa3iFhtkZ2d7e/v3yzjIDg4uLCwsNPnvHr1Km7FOzg4KJVKhULRrE0mk8neeecdALCyslKtbXv16oXFWrt2LZ4rERoaqtDO3AYiVovgjgNra2vVjgM3N7fk5OQunrmiosLOzg4A5s6da2lpuW3bNvpHcrk8KysrKirKyckJVBAIBMuWLUtNTW1qalq1ahVumUVGRgoEgqAhQxqXLkVaed8iYr1ESkrKmDFjVDsOTE1NIyIiamtr1XL+KVOmAMCIESMaGhpu3LjxxhtvXLp06dChQ2Kx2MTEhL6oUCh0cHDAbaxmIz9ffPEFdit6/XpF374IAH36qRa6RcRCCKHy8vKIiAjVXy2Px/P29r5+/boar7Jr1y7cQfXgwQNcsnXrVtXKzs7OLjw8/NixY2FhYebm5np6el/6+qJXEv1Wr17tM3CgvG9ftHIlEghejEhrWZ3Y08U6depU5zoOOgrdtEpMTKQLw8LCcFsqJibm8ePHTU1NO3bsMDY2xmabikQyGxsUHIx+/RUtWIDCw9H+/fiNDZGRCADxeCgy8oVbCxZo1X2rh4r16NGj4OBg1WVVhELhjBkzWswD7jp002rx4sWq5XgdjgMHDiCEzp079+abb+JgJkyYcPv2bemTJ2j2bJSXhwIDX0gTGoqePn3x5tWrEQDS00ORkUgkQsuWMRF5p+lZYsnl8u+//15dHQftZ+rUqQDw9ttv19fX47UYMO+//z4AJCQk4L5Q/KjY/BGhrAzNn//i9e7d6Pz5//1oxYoX962TJxFC6Plz9McfqN2rOTJKTxErOzs7ICBAtePA2Nh4zpw5RUVFTF9606ZNFEUJhcLc3NyzZ88CwGeffYZ/NGzYMHyzxP9HRUU1NDQ0f79CgT788MXrxYubp8usXImWL0cIoYMH0eefo4MH0dSpiKVp9ap0c7Hq6urWr1//asfB2bNnNRbD6dOncZafl5fXV1991atXr5MnTyKEkpKS6HHDgICAVof/lEqUmIhCQ9HixWj79lYvM2XKixc//oj+GuFmkW4r1rlz57y8vFQ7DiwtLb/44osW84AZRS6XHzhwwMLCAgC4XG5oaGhGRoaPjw9dF59Xrd1epiw9HY0ciXJyXn+ZadNevDh9Gu3bp6bYO093EwtnHJiamjbrOOj6yrBdpLy8PCwsDIuOb1Smpr0dHP5v/PjgNt7l7+//Nw+P2vXrX3+BuXNRXh5SKtGCBaiVpGdN0n3EOnbsmLOzs2rHga2t7ZYtW9q/NLkGuH79+rvvvsvj8QIDA1NTywCQq2vzY2QyWXp6On7966+/trfvo6ICRUaiZcvQ6dPqjroz6LxYr2YcCASCKVOm5Gt5TjhCP/+MANDEic3La2tr//7XFJyZM2dqOiw1oaurzSiVytjY2G3btuXl5eESiqKGDRu2fPly+tFdy8Fr1ba4mEdeXh5Om5HL5ZoNSm3onlhZWVnr1q07c+YMvfqvkZHRRx99tHnzZtUxGe2nDbGMjIzwWCH92Khz6IxY9fX1Gzdu3LdvH70qtZ6enqur6+bNm9ve6lNraUMsMzMzV1dX0GWxdKCNdfbsWS8vL9Wv2NLScs2aNY2NjWyH1iX8/REAOnGieblMJqM7IFJTUzUdlprQ3qUiS0pKVq9enZiYSO+qoK+v7+npuX379rfffpvd2LrO06fw+DHcuwfOzuDszHY0TMC22S1w9OjRZh0HdnZ23377rTZn4naUIUNQSgpCCM2ezXYozKBFbaz79++vXr365MmTdXV1uEQoFPr4+OzatQvPCe5OjBoFBw/CmDFsx8EY7IvVYsfB22+/vXbt2sDAQHZjYw4OB5Yuhc2b2Y6DMdh86Lh27dqkSZMMDAwWLlyIrTIyMpo3b15FRcXvv//eja3CuLnBw4e5ZWUyAMjPz5dKpWxHpE5YEKu+vj4yMtLKysrV1TU5OVkmk3G5XC8vr8zMzKqqqtjYWJxC2Y0pKwMXFwAAgWDPsGHl9+/Dv//979zcXLbjUicarQp/+eWXDRs2ZGRk0EuWW1pazps3b82aNa/u8NmNWbQILl8GZ2fQ14erV39NT08ePtz09W/TKTQhVnFx8Zo1ayQSSWVlJS7R19cfP378zp07u7iNp1ZTUAASCRgawqxZoJID/fAhJCYCRUH//sDhwMCB5z09vdPS0liMlBEYfeaUSCSvdhzs3bu3O3UctExNDQoMRI8foytX0KxZqj8JC0MAKCQEIYQiIiLw3NdNmzapd0YQ6zAi1r1795rtAIunKhQUFDBxOW3k11/Rt9++eP3xx+ivQYKSkmozMyVFIbzN28mTJ/FSRxcuXHj+/Dk7oTKDOsWSyWQ7d+7E01EwHA7H2dk5KSlJjVfRDS5cQLt2vXg9YwaSy9HTp+jx46ioqN69By9alM5qcJpAPWJlZWX5+vpyVXad6t27d1hYWFVVlVrOr3s0NqIPP0QXLyKJBC1ZgqRSNGJEmbMzzr9oceXtbkaXxJJKpWvWrHlDZYCey+WOHj26J3xxr6e6Gh09ilJSkFyONm1q8vN708wMAN599122I9MEnRTr1KlTo0aNUs04sLGx+fLLL7UqD1hbWLsWcbm7pk3Dt6vjx4+zHZAm6JhYhYWFYWFhqosj8vl8X1/f1pYsJyCE0J9/Hps8GX9dBgYGWrvwkHppr1gJCQlDhw6lOw7wUmB79+5lNLhuQ2lpqZubGwDY2tqyHYuGeI1YeXl5s2bNwuv40h0Hs2bN0sAE4m7GtWvXAMDJyYntQDREqz3vt27dGj9+fHFxMd1x4Obmtn79erzcAKGj4FEs1T/R7k2rYtnb22OreDzee++9Fx8fj+fydiekUun27dsBgM4A4/P5q1evZmLgsr6+HohYAFBbW2tvb//w4UOZTJaSkmJnZzdx4sSgoCAfH59u8+24ubk9evSItgoADAwM0tPTU1NT1X6thoYGAFAdjejetCqWubl5bm5uaWnpTz/9FB8fn56efvjw4cOHDwuFQn9/f7FY7O3t/ep2MbpFUVFRXV0d3gxCT0/v2bNnP/zwAz1Srl6wWN3mb/L1tLMt9uTJk+jo6NGjR9MPhiYmJmKxOCkpSe2L32mG0tJSADA0NFQqlZ6entOmTautreVyuTwej4mFQyQSCQBMo5fu6O60N9HPxsZmyZIlv/3228OHD7FhlZWVCQkJkyZNsrKymj17dnJysm5N283JyQEAR0dHPIV6wIABIpHozTfflMlk+AlOvfS0qrDzQzp5eXnR0dEuOBUSAADMzMzEYnFqaqpOZMV89913ADD75VkyCxYsAICtW7cydLnQ0FC1n1k76Xxq8sCBA5csWZKdnX3r1q2oqKghQ4aUlpYmJCTgHUHx7Q1p66RFALhz5w4AqC4bCQB4T5HMzEy1X66nPRWqIefdyclp7dq1d+7cwYY5ODgUFBR88803np6eAwYMwIZ1/SpqB1eFQ4cOVS3EYmVkZKj9cqQqVAPYMNXErAEDBoSHh2dnZzNxuc6B93C7c+eOaqFSqcQ7Tap9FaR169YBQGRkpHpPq7UwmJqsUCguXrwYHh6umlczbNiwqKioZr9OzVNXV8fhcHg83quPtL6+vgAgUfcynitWrACAr7/+Wr2n1VoYnP7F4XA8PDx27dpVUFCADbO0tLx9+/a6descHR1xBXr//n3mAmiDu3fvKpVKBweHVzvZ8X6nly9fVu8Ve1o/libmFdKGPX36FBtmbm6ODRs8eDA2jJ4GrRlabGCBUglSqbu7OzDQzCosLAQA1STb7o1GP6eenp6Hh4eHh8eOHTvS0tLi4+NPnDiBDVu3bp2rq6tYLJ4xY8YbLa4ZpVbwI+FLYv3yCyQmgo3N2Lw8HoeTnZnZOG0a39gY+HwwMgKhEAwMwMQEDAxAIABj4zsikdTAwNDQ0MDAwNDQUCQS0eMQ166BUAiOjpCdDXZ2cPkyJCWtlEgkXC63oKCA6Y+mLbBbE9fX1yclJYnFYrwZHwBwOJzRo0dHR0d3ZU/A1zJ9+nQASEhI+F/RlCkvthX5/vuF/foBwGUApPLvBEAqQCpAGkAWwMeDBwMAgAOAHf5HUf1NTAZaWQ01Nd1pZJS+Z09sVBQKDUUAyMtrC4fD8fPzw2t69YTUbW1Zxqiurg4bhtfaBwA9PT1sWHFxcdfPHxwc7KoCvrtcvXoVIfRiM4hp0xBCMpkMnTlzwM2NAzATIBrgG4BvAGIA+rfUU6Cv//vL+uF/UQB/9/P7NSoKRUcjY+OmMWOWJycni8ViHIzuLlnbfrSlyhcIBBMnTpw4cWJMTMypU6fi4+PPnDlz6dKlS5cu/eMf/xg3bpxYLJ48eTLe0LYT3L17F+/UTdOrV6+UlJSAgICZM2fu3LkT9PWhosJm6ND1CkW5s3M5QLMFJM7U1+Pdc+UANXp6D/l8qUKhr/+Mosw5HA5FUQA8udyAw0Fvvunq6KgsK3MsLASBAKqqeFlZ/7xyRT8/Pz8xMREA6NVTuzNsm90qFRUVcXFxAQEB9IObgYFBQEBAXFxcdXV1R892+/btLBX8/f0BYOnSpQAwevRohBB6/Lj2k0+2A0SIRB96eh4AeO7piXx90bhxyNUVDR2K7OyQqemLPdwA3Pv2bf1LjQQYuG3bIVNTeUqKYvfupsWLF6empvr6+mZmZmZmZk6fPl3935eWob1LRdKUl5efPHny6NGjp0+fxuPcAoFg/Pjx06dPnzp1Kl11dojt27cvW7Zszpw5cXFxAoGgqqqKy+WmpKT4+Ph4eXnl5OQUFxfn5+f369ev5fdXVZU2NlbX1tbU1DQ2NlZXV9fV1TU0NFRWVjY0NOTmGvF4j8TiyWFhkpEjudHR6wFALpeHhITEx8cDwMcff3zo0KHOfyM6Adtmd4DS0tK4uLgJEybQqTtCoTAgIEAikXR0odsLFy4AgIuLi729PQDgrd62bdsGACEhIQBgbGzclaH08vJyhFBdXR29AaJSqaRXqk3Bq0R2a3RJLJquJ4dJpVKceoUfD/ft24cQmjNnDgBEREQAgIeHR6fDu3Dhgp2dXW5ubqfP0A3QSbFoHj9+jA2jb8C9e/fGhr126izeznTJkiUAMH/+fIQQXlo9PDwcABYsWNCVwGJjY+ltS3omui0WDU4/xGZg+vTpg5PDWpsgOnfuXFosFxcXhUIhEokoisI7puzZs6fTweAVK3QiKY05uolYNDixQjXLysbGJjw8/OLFi81+03v37gWAmTNn4jrx5s2bAGBra4vHCi9cuNCJqz9//tzX13fMmDE9ZLpzG3Q3sWiwYYMGDaINs7W1VTXs6tWrAODo6IjrxI0bNwKAv7+/oaEhAJSWlnbiohUVFXg31927d6v7A+kY3VYsmtaSw86dO8fn8ymKCg4OBgA/Pz/c2AIAa2vrTl8uKSkJAEQiEWm89xSysrKaJYfhfM7Zs2cDQP/+/elHQm9v765cKCgoCADGjRvXk5tZPUgsDJ1+aGlpSRtmYWExceLE5cuXL1u2DACWLVvWlUuUlJTgk8fGxqorbJ2jx4lFI5fLV65cCQCquX54p9YtW7Z08eSHDx8GACMjo1b3pu/u9FyxEEJpaWmtLdPg6uoaHR399OnTTp986tSpADBhwoSeWSHqwFgho+zYseP48eM4Y1ipVBYVFfF4vAcPHtTU1AAAh8Nxd3efPn16UFCQlZVVh85cUlLi5ORUUlJy8OBB3Kffs2DbbG2kjeSwDi0MlpCQAADGxsZPnjxhLlrthIjVFlKpNCkpafr06XTaMTYsNja2srKyPWeYPHkyAPj7+zMdqrZBxGoXryaH8fn89iSHPX361NTUFAB+/PFHjUWrDRCxOkZZWRk2jJ5vQ6cf1tbWtviW/fv3A8BGobB20aIWtoDuphCxOgmdHEavSS4QCHBy2IskehXiBw2S4nx4PT2U3v23pUBErK7TRnIYnX6o6NMHAVRQFAIo7xm9pkQstUEnh9GGmZqaYsOQrS09gyfY2Pjo0aNsB8s4Pb0fiwkePXp04sSJo0ePXrp0CZd8YGy8TSAoLyu7KJNtEgqBoh4+fGhubs5unIxCxGKQ27dvSySSI0eO4InXGAMDg4aGhsDAwJ9//pnF2JiGiKUJrl+/fuTIkXv37uXk5OTk5GC3Dh06NHPmTLZDYwoilkaRSCRBQUEmJiaVlZUmJiZ//PGHjY0N20ExAgu72Pdkpk+f7urqWllZ6ejoWFlZ+emnn7IdEVMQsTQKRVEbNmwAgOfPn5uamp48efLgwYNsB8UIRCxN4+3t/d5771VVVXl5eQFAREREfn4+20GpHyIWC2zcuJGiqNTU1ICAgOrq6qCgoO7X0iVisYCbm9ukSZOkUqlMJhOJRJmZmd2vsUWeCtkhMzNzzJgxCCFfX9/k5GSKoq5cuTJixAi241Ib5I7FDqNGjRo/frxcLn/w4IG5uTlCyM/PT6FQsB2X2iBiscaxY8cGDx58+/btyZMnUxRVUlLSnTYZJVUhm2RkZHh6elIU5e3tferUKYqirl+//tZbb7Edlxogdyw2cXd3Dw8Pl8vlly9fNjQ0RH/N7ekGELFY5uuvvxaJRKWlpXgRgNzc3F27drEdlBogVSH7xMTE4O4GJyenP//8k8/n5+fn6/oO3EQsrcDe3j4vL8/Kyqq0tFQul7///vtnzpxhO6guQapCrSApKcne3r6wsNDZ2RkAUlNTjx07xnZQXYLcsbQF+glRX1+/rq7O2Nj43r17ulshkjuWtuDu7r5kyRK5XI5Xfquurk5LS2M7qM5DxNIivv7662HDhhUVFYlEIoSQVCplO6LOQ8TSIvh8fmxsLJ6oGAQwft485OAAqalsx9UZSBtL64iMjHy4adMOmezFJJ4hQ0BlLoauQMTSRiq2bDFdvryKwzFWKpv699d/9IjtiDoMqQq1EVNPT+DzjZVKAEirrpbJZGxH1GGIWFqJuzukpTV+880KC4tJFRV4qXDdglSFWs1vv/3m5eXF4XDS09NHjhzJdjgdgNyxtBoPD4/w8HBLgcBoyxZoaGA7nA5A7ljaTn19Pfj6Ci5cgM8+g+3b2Q6nvRCxdIFr12DUKFAo4OxZGDuW7WjaBakKdQEXF1i5EpRKmDsXqqvZjqZdkDuWjiCXg7s7ZGVBWBj8859sR/N6iFi6Q04OfPEF7N0LlpaAEPD5bAfUFkQsXWPHDigoAA4HTE1h1Sq2o2kVLtsBEDpCdTXcvAn/+hcAwPz5UFQEKltNaRWk8a5TlJb+zyQbGygqYjWatiBi6RQ2NnD/PigUoFTCH3+AgwPbAbUKaWPpGunpcPgwAMCHH4K7OxgYsB1QyxCxdJP6eli+HP3nP/I//uAJBGxH0wKkKtRN+PzLz56N1NeP1tY+LSKWbsLhNCxePNbPLyQkBABqamrq6urYjukliFi6ipeXl4WFxZMnTwDg+PHj//3vf9mO6CWIWLpNcXFxQUFBRUUF24E0h3SQ6jZnz569c+dOVlbWkCFD2I7lJYhYus3MmTOdnZ3j4+PZDqQ5RCwdxsnJqXfv3gBgb29vZGTEdjgvQfqxCIxAGu8ERiBiERiBiEVgBCIWgRGIWARGIGIRGIGIRWAEIhaBEYhYBEYgYhEYgYhFYAQiFoERiFgERiBiERiBiEVgBCIWgRGIWARGIGIRGIGIRWAEIhaBEYhYBEYgYhEYgYhFYIT/B2QAoe5FJ0BcAAADXnpUWHRyZGtpdFBLTCByZGtpdCAyMDIyLjA5LjQAAHicrVILTFNnGP3799JCS6EtpbXI6G1r6QNFMoXBxuh/FhdIVMxcHAZfdwnR66ZuWTRhyUxkLwjdQzBoJqSDXESB+FoUCaneK2PVqPGxuGl8RVE0+IjOmciykexCs2TJ4h7JvuTkfMk5X873Px4e2X2NqGUiidKomKGiQMUmjY4EVNZyyQmm+gRrNZOsUfWaCdb+C6MwadSxhE/HxIT+p+aZyuQspf88+0f6Xx3/feG/CXt28z9uakwxEINRpMZUIdUkUlMSn6QL0CQ9r+cIZ+ao2UIsVpFaM4QMm0htmbzNLtgdIuUmpgOUUJ46iXMap5nmI75ckeb6BX9ApIEgHwgJoTyROrNI1tQAzcrms3P4HJdIXbzAu0Xq9ggerxqYJqSlizTdIDgsQp5P8OYI+mSSOYVQLQlOJ9nPERunM6SnmVKNOmuGze6w6Fy82+PN0eX6A6E8nyOXJn7TBMiM4lU8ls89Xub+uhW9ZU7MvDonvGR/Mzxf+NFl2BMeqJbQ9CCEp7fqwtvMvVgnuRB6sVG+81kUy9YSpPzSLtdGerHo6G02Xt8mV12WsD3Zgbtcp7z/zW5UyG4Qsk9eoOzFb91H2fyfu2RL0QUYxO9ZZHyHrB07ifjaS2z5XF652hlH66JRJnp4ZcuUGAYdj1jHj53ywp19uN52h72eJB3u42KQmi+y0Yo9h2sjcfT8ZEVK41OZvLMVZ1a6EFxariwsboZz2IPj+teUjfn1qN+Zj43hiFJa+RG+vFUEx6FupbqmEf17X8ED0yklsuZT3CyahTmrdyjFq1pAmvw43fChUjPvK1TdrwDdPqy8vziCynNBGC7MYv3RDuyqYohfmc++a49Cv6ISGY8zmU1uw/O3X4XYtIXF1kfV/JdQVNrNzg51oPy9apzukdjoC61YERRQcqCLeZdsxrHgenjG+9jMdZ9jAavD2OAQu1neAtvZD5C/eZBJ1nZMPy+iYN43bGWyhEPnXJhteYs97O8BjfnR8MkbbOTGQdS1lODe8Ca2zTygnpdBGHmXfbthCJprhRh4u5CZL57AI/vLOJ/nY+6CH9R39uJjk5H9ejKuZmZj5PFUtnt1TL3nQjwZfxKWNJdg/x3bQyS+97YKogAABGV6VFh0TU9MIHJka2l0IDIwMjIuMDkuNAAAeJx9VktuHUcM3OsUcwENmp/+cJGFJTl2EOgJSORsswi8CGDAG+f+KZLzeqaziCzBo3417GKxSOr1+7evf/3z7euf/LD5128vv/79Y5tf8vKA8/I/32a2/SGllIfXzR+2p4+ffrltz+8fnu4nz29fbu+/b1o3HXgH/1bsh/e31/sJbc8blb1w5QLgLkb+QLZr5V4u7/L2ttleex8B7M2KA8cu0toVKNvNQ2rniLRLNQ/EOCKTK1K3z45sQyLUXkg9OOOdIXRFVtC03XpXnD4C2c2S5qARhLbnnz/9RHd8A34gq9YTz7W3jKy6Ru5Iq+9MRAeS2Q62gxfkQF6QRawdyEGaMamvUlnmRcU4odJrSai1YVcogfjW9uLyJ7Soa8RttxLxTygFtPZ6RGUEc2jd1dpClTigg6tf9sh7LRr56w6t6wIVQCGAUb9DI22WvVKQOqEaUADsrkCYgRlRaVGAakaVHtDiBWtH1MKLCagF194mdFQ6uNJY0+phAxp6iGUiliYcRXmBjnRM46iW7ET18Cv3vipg2QM0CieWW8hJUBCWW5qgJNYolVW42wM7VkkWChy9BcdJcZUeK2orzoZcblukZe8u4p0OFRosE951DkVWrGRcXGYZl5pR5tZ6XTzDmnzRjAdfFOJocGprIbi6bWGAGjk/dlSCJPkqjTW3lnEbRUYwAAhk2zBmyWxIni946RAc5nKC0JhiangH81jqwSO1GBZ38i7KR7NXFHyBms8aINpwygo+WQ1ELX1RDd+fXTX0nxOoMO9oB2OmxWYShZO91bgX+pIeXPU/5hVvNIKqVCijFqtZiqK6pCVRNiBa2KzuPXzs6raeM2xCo2ptp9ocgQcNgBe4lZVrzaj4eAQU/1GmBXus0JZca6URBGqPB0DRpis0G81GyOpKdDkGs5ZVgHEYbEjWFf1gORO61BVq6dua3odoHEbDTOC6NrqWwy0aFhdMh2h5dvZr9+rRZVhCPZ0o2nMqSq0rNJqM7mMFTh8hGmZt09WDKpkWa/iJ7yPeh5Lasu5UQ6tuuWHQ7u3ICkKvyJoWlBrXYnxRZoV5kEcT+vH2sqzpXNxPb7eXc3GTLw+aK4+xTrEiaLac+AHDyOe6VR/3pOdWJR/q7dyajJ9+rkbCr+Pcf4Sfei458gA9+nzeQcEMb87XwEl9HJNdtpP61OXrElKfrTyzAS3yCcozHawUjZPzruYngqJcFkSQumwB9jiXUe+6zQjsbBFgKsD+MYab9PXvCfYwOJSZFjtluF9mWuz6wuR6najqXtYzTkMcWFavg1Hj5CQ1/AThZ1psyYpnaaLeeJUnHwnmOJl8JFI3fHIZQepAOT0SnBmfXAaKOlDm7eIyAyiz9OKcAZSpmzhnr9mJMT9BLSbGhfCanZb1tF220yzq1lC96KzBuV2yUA0jzjzVbYwC8bxbW5R1ZqBuCw99IsahzdJx1/7y3+9/VOP54V/2aS6u72EJ8QAAAmd6VFh0U01JTEVTIHJka2l0IDIwMjIuMDkuNAAAeJxNU7tuHEEM+5WUd8DeQG9pfAhg4FK4iqtUhqv9CDf5+FC6BEi1GA6XoijNx9vn+8nneV4eH4/X17fPy+Py/f368/Lx9nn9h5zShPeGzlOu/zHmprHncW6e7MdQz5O//b6wLPfM45aLivXgXMYld+AcuY9bLM3Ig2MV6Z15mVIdN19KGk2Xve9Ma7ODbUudvdnGKo1zkRw3XRLBo7Iz73vtkGiYm11LMh0olx03Xlt1N1pk0tzMgSk34L2Kq1qaxOWgpZulYXNpZXRTQDNGQjWiuZYCEtztPARH3tpwFFpexFaH4LaUB2W0JqjTVEGZNlGVh67w1KEajYCVGmB0vQ+RleoTksOpwSCSFfTuxZ0oGW2QM+wQ69y9uXCYXU0NH+TqPjC6RP3lhbglVlg92Y4zImJoIHyc2oYYcsTIUrKly3bAc+7sPkxjbLhzjA3h9iwcMXFKK8PALgFbTSZlxxQa1kDjhkx6UmBTto2obYcvqYoJSRgddjz42TFVG2kjgQaCYOJm055pkxkq4hzYDV/ZY8cmRfZcY7EjIHysqtkRxM0uQueBNaWZC9Hm1kZXBRGHSsOagFFZd/TOSHVQPMnMOtKWxjW94Y0+7jAkSKjZ3oFhxw2LgHSZeWBBV701JQ074Tja2DTpyXE2ezNEpK954ma5Y9+l30WjiKRHo+SAMfvxIXDQU8fAGDA9USXTHvrGZgLNeYlouZxHA6vRBfUvnOi1C07as+vzFIHPw+CQWUpBZP1yOTZPsOl2Pb5+vfRjl68fLxjB7z8B+Otzo/SZGwAAAABJRU5ErkJggg==\" alt=\"Mol\"/></div></td>\n",
              "    </tr>\n",
              "    <tr>\n",
              "      <th>87</th>\n",
              "      <td>-7.90678</td>\n",
              "      <td>Molecule_2</td>\n",
              "      <td style=\"text-align: center;\"><div style=\"width: 200px; height: 200px\" data-content=\"rdkit/molecule\"><img src=\"data:image/png;base64,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\" alt=\"Mol\"/></div></td>\n",
              "    </tr>\n",
              "    <tr>\n",
              "      <th>88</th>\n",
              "      <td>-7.73759</td>\n",
              "      <td>Molecule_2</td>\n",
              "      <td style=\"text-align: center;\"><div style=\"width: 200px; height: 200px\" data-content=\"rdkit/molecule\"><img src=\"data:image/png;base64,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\" alt=\"Mol\"/></div></td>\n",
              "    </tr>\n",
              "    <tr>\n",
              "      <th>89</th>\n",
              "      <td>-7.61902</td>\n",
              "      <td>Molecule_2</td>\n",
              "      <td style=\"text-align: center;\"><div style=\"width: 200px; height: 200px\" data-content=\"rdkit/molecule\"><img src=\"data:image/png;base64,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\" alt=\"Mol\"/></div></td>\n",
              "    </tr>\n",
              "  </tbody>\n",
              "</table>\n",
              "<p>90 rows × 3 columns</p>\n",
              "</div>\n",
              "      <button class=\"colab-df-convert\" onclick=\"convertToInteractive('df-f4723dee-a1ad-4da9-b6a1-f9018b45ca0f')\"\n",
              "              title=\"Convert this dataframe to an interactive table.\"\n",
              "              style=\"display:none;\">\n",
              "        \n",
              "  <svg xmlns=\"http://www.w3.org/2000/svg\" height=\"24px\"viewBox=\"0 0 24 24\"\n",
              "       width=\"24px\">\n",
              "    <path d=\"M0 0h24v24H0V0z\" fill=\"none\"/>\n",
              "    <path d=\"M18.56 5.44l.94 2.06.94-2.06 2.06-.94-2.06-.94-.94-2.06-.94 2.06-2.06.94zm-11 1L8.5 8.5l.94-2.06 2.06-.94-2.06-.94L8.5 2.5l-.94 2.06-2.06.94zm10 10l.94 2.06.94-2.06 2.06-.94-2.06-.94-.94-2.06-.94 2.06-2.06.94z\"/><path d=\"M17.41 7.96l-1.37-1.37c-.4-.4-.92-.59-1.43-.59-.52 0-1.04.2-1.43.59L10.3 9.45l-7.72 7.72c-.78.78-.78 2.05 0 2.83L4 21.41c.39.39.9.59 1.41.59.51 0 1.02-.2 1.41-.59l7.78-7.78 2.81-2.81c.8-.78.8-2.07 0-2.86zM5.41 20L4 18.59l7.72-7.72 1.47 1.35L5.41 20z\"/>\n",
              "  </svg>\n",
              "      </button>\n",
              "      \n",
              "  <style>\n",
              "    .colab-df-container {\n",
              "      display:flex;\n",
              "      flex-wrap:wrap;\n",
              "      gap: 12px;\n",
              "    }\n",
              "\n",
              "    .colab-df-convert {\n",
              "      background-color: #E8F0FE;\n",
              "      border: none;\n",
              "      border-radius: 50%;\n",
              "      cursor: pointer;\n",
              "      display: none;\n",
              "      fill: #1967D2;\n",
              "      height: 32px;\n",
              "      padding: 0 0 0 0;\n",
              "      width: 32px;\n",
              "    }\n",
              "\n",
              "    .colab-df-convert:hover {\n",
              "      background-color: #E2EBFA;\n",
              "      box-shadow: 0px 1px 2px rgba(60, 64, 67, 0.3), 0px 1px 3px 1px rgba(60, 64, 67, 0.15);\n",
              "      fill: #174EA6;\n",
              "    }\n",
              "\n",
              "    [theme=dark] .colab-df-convert {\n",
              "      background-color: #3B4455;\n",
              "      fill: #D2E3FC;\n",
              "    }\n",
              "\n",
              "    [theme=dark] .colab-df-convert:hover {\n",
              "      background-color: #434B5C;\n",
              "      box-shadow: 0px 1px 3px 1px rgba(0, 0, 0, 0.15);\n",
              "      filter: drop-shadow(0px 1px 2px rgba(0, 0, 0, 0.3));\n",
              "      fill: #FFFFFF;\n",
              "    }\n",
              "  </style>\n",
              "\n",
              "      <script>\n",
              "        const buttonEl =\n",
              "          document.querySelector('#df-f4723dee-a1ad-4da9-b6a1-f9018b45ca0f button.colab-df-convert');\n",
              "        buttonEl.style.display =\n",
              "          google.colab.kernel.accessAllowed ? 'block' : 'none';\n",
              "\n",
              "        async function convertToInteractive(key) {\n",
              "          const element = document.querySelector('#df-f4723dee-a1ad-4da9-b6a1-f9018b45ca0f');\n",
              "          const dataTable =\n",
              "            await google.colab.kernel.invokeFunction('convertToInteractive',\n",
              "                                                     [key], {});\n",
              "          if (!dataTable) return;\n",
              "\n",
              "          const docLinkHtml = 'Like what you see? Visit the ' +\n",
              "            '<a target=\"_blank\" href=https://colab.research.google.com/notebooks/data_table.ipynb>data table notebook</a>'\n",
              "            + ' to learn more about interactive tables.';\n",
              "          element.innerHTML = '';\n",
              "          dataTable['output_type'] = 'display_data';\n",
              "          await google.colab.output.renderOutput(dataTable, element);\n",
              "          const docLink = document.createElement('div');\n",
              "          docLink.innerHTML = docLinkHtml;\n",
              "          element.appendChild(docLink);\n",
              "        }\n",
              "      </script>\n",
              "    </div>\n",
              "  </div>\n",
              "  "
            ]
          },
          "metadata": {},
          "execution_count": 66
        }
      ]
    },
    {
      "cell_type": "markdown",
      "source": [
        "# Please download pre_pymol.pse to continue making the image with your local Pymol"
      ],
      "metadata": {
        "id": "cRD0_uLiaf22"
      }
    },
    {
      "cell_type": "markdown",
      "source": [
        "# References\n",
        "\n",
        "[A Jupyter Notebook to aid Docking to MurD protein](https://www.macinchem.org/reviews/JupyterDocking/jupyterdocking_files/JupyterDocking.html)\n",
        "\n",
        "All the dependencies used are open soured, they are \n",
        "\n",
        "*   rdkit\n",
        "*   openbabel\n",
        "*   py3Dmol \n",
        "*   pymol-open-source \n",
        "*   smina.static\n",
        "*   MDAnalysis\n",
        "*   ProLif\n",
        "*   Python 3.8\n",
        "*   conda\n",
        "*   colab conda\n",
        "\n",
        "- This notebook has referred [Is life worth living](https://www.cheminformania.com/ligand-docking-with-smina/)\n",
        "- Thi notebook has referred [Jupyter Notebook for docking either locally or using Colab](https://www.macinchem.org/reviews/JupyterDocking/jupyterdocking.php)\n",
        " "
      ],
      "metadata": {
        "id": "CoByyqgKY_h1"
      }
    }
  ]
}