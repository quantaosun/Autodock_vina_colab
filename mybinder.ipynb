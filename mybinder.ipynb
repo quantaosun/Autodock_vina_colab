{
 "cells": [
  {
   "cell_type": "markdown",
   "metadata": {
    "id": "-VAb-v6K0EOy"
   },
   "source": [
    "# Programmatic Molecular Docking \n",
    "\n",
    "### Based on Vina-derived Smina. Obabel is used to calculate the protein charges. The docking grid is defined as the centre of the native ligand.\n",
    "\n",
    "- This notebook is written by https://github.com/quantaosun\n",
    "- what you get is ***the docking score + docked complex + a 2D image + a 3D interaction pymol session file*** \n",
    "- the docked complex and 2D image are readily to be used, The 3D pymol session need to be downloaded to a local pymol for further polish if you want a publication quality"
   ]
  },
  {
   "cell_type": "markdown",
   "metadata": {
    "id": "6KKs2IBRXDUh"
   },
   "source": [
    "# Please provide PDB ID and ligand structure you want to dock with"
   ]
  },
  {
   "cell_type": "code",
   "execution_count": 1,
   "metadata": {
    "cellView": "form",
    "colab": {
     "base_uri": "https://localhost:8080/"
    },
    "id": "s5B8su8nB0mS",
    "outputId": "61e9724d-a815-489b-dae8-cb75cc0bf59b"
   },
   "outputs": [
    {
     "name": "stdout",
     "output_type": "stream",
     "text": [
      "/home/jovyan\n",
      "--2023-03-04 02:35:03--  https://files.rcsb.org/download/3HTB.pdb\n",
      "Resolving files.rcsb.org (files.rcsb.org)... 132.249.210.234\n",
      "Connecting to files.rcsb.org (files.rcsb.org)|132.249.210.234|:443... connected.\n",
      "HTTP request sent, awaiting response... 200 OK\n",
      "Length: unspecified [application/octet-stream]\n",
      "Saving to: ‘3HTB.pdb’\n",
      "\n",
      "3HTB.pdb                [ <=>                ] 161.13K  1.03MB/s    in 0.2s    \n",
      "\n",
      "2023-03-04 02:35:03 (1.03 MB/s) - ‘3HTB.pdb’ saved [164997]\n",
      "\n"
     ]
    }
   ],
   "source": [
    "#@title Input expected from the user\n",
    "path = \".\" #@param {type:\"string\"}\n",
    "%cd '{path}'\n",
    "PDB_ID = \"3HTB\" #@param {type:\"string\"}\n",
    "pdb = PDB_ID + \".pdb\"\n",
    "! wget https://files.rcsb.org/download/$pdb\n",
    "#@title Ligand three-letter name\n",
    "Ligand = \"JZ4\" #@param {type:\"string\"}\n",
    "smiles = \"c1ccccc1\" #@param {type:\"string\"}\n"
   ]
  },
  {
   "cell_type": "code",
   "execution_count": 2,
   "metadata": {
    "id": "3o2JMZs-c5XN"
   },
   "outputs": [
    {
     "name": "stdout",
     "output_type": "stream",
     "text": [
      "--2023-03-04 02:35:07--  https://sourceforge.net/projects/smina/files/smina.static/download\n",
      "Resolving sourceforge.net (sourceforge.net)... 104.18.11.128, 104.18.10.128, 2606:4700::6812:a80, ...\n",
      "Connecting to sourceforge.net (sourceforge.net)|104.18.11.128|:443... connected.\n",
      "HTTP request sent, awaiting response... 302 Found\n",
      "Location: https://downloads.sourceforge.net/project/smina/smina.static?ts=gAAAAABkAq5b1T_KeEzjMkeUeBexKS2Louq_wSJ6emywRtWLpuUcyHtBXJHTupOreJbEFBKrRYO3PIPNyrTH7slgHmUlHCH93w%3D%3D&use_mirror=versaweb&r= [following]\n",
      "--2023-03-04 02:35:07--  https://downloads.sourceforge.net/project/smina/smina.static?ts=gAAAAABkAq5b1T_KeEzjMkeUeBexKS2Louq_wSJ6emywRtWLpuUcyHtBXJHTupOreJbEFBKrRYO3PIPNyrTH7slgHmUlHCH93w%3D%3D&use_mirror=versaweb&r=\n",
      "Resolving downloads.sourceforge.net (downloads.sourceforge.net)... 204.68.111.105\n",
      "Connecting to downloads.sourceforge.net (downloads.sourceforge.net)|204.68.111.105|:443... connected.\n",
      "HTTP request sent, awaiting response... 302 Found\n",
      "Location: https://versaweb.dl.sourceforge.net/project/smina/smina.static [following]\n",
      "--2023-03-04 02:35:08--  https://versaweb.dl.sourceforge.net/project/smina/smina.static\n",
      "Resolving versaweb.dl.sourceforge.net (versaweb.dl.sourceforge.net)... 162.251.232.173\n",
      "Connecting to versaweb.dl.sourceforge.net (versaweb.dl.sourceforge.net)|162.251.232.173|:443... connected.\n",
      "HTTP request sent, awaiting response... 200 OK\n",
      "Length: 9853920 (9.4M) [application/octet-stream]\n",
      "Saving to: ‘smina.static’\n",
      "\n",
      "smina.static        100%[===================>]   9.40M  5.56MB/s    in 1.7s    \n",
      "\n",
      "2023-03-04 02:35:10 (5.56 MB/s) - ‘smina.static’ saved [9853920/9853920]\n",
      "\n"
     ]
    }
   ],
   "source": [
    "!wget --no-check-certificate https://sourceforge.net/projects/smina/files/smina.static/download -O smina.static 2>&1 1>/dev/null\n",
    "!chmod u+x smina.static"
   ]
  },
  {
   "cell_type": "code",
   "execution_count": 3,
   "metadata": {
    "id": "QxFkBBWq0EO1",
    "tags": []
   },
   "outputs": [
    {
     "name": "stdout",
     "output_type": "stream",
     "text": [
      "2022.09.4\n"
     ]
    }
   ],
   "source": [
    "import sys\n",
    "import os\n",
    "from rdkit import Chem\n",
    "from rdkit.Chem import AllChem\n",
    "from rdkit.Chem import Draw\n",
    "from rdkit.Chem.Draw import IPythonConsole\n",
    "from rdkit.Chem import DataStructs\n",
    "from rdkit.Chem import RDConfig\n",
    "from rdkit.Chem import rdBase\n",
    "print(rdBase.rdkitVersion)"
   ]
  },
  {
   "cell_type": "markdown",
   "metadata": {
    "id": "AIUJdJuLRzs4"
   },
   "source": [
    "# Prepare receptor"
   ]
  },
  {
   "cell_type": "code",
   "execution_count": 4,
   "metadata": {
    "id": "qWUs6wyNdFGh"
   },
   "outputs": [],
   "source": [
    "!grep -v -e \"{Ligand}\" -e \"SO4\" -e \"CONECT\" -e \"HOH\" {PDB_ID}.pdb >  {PDB_ID}-receptor.pdb\n",
    "!grep \"{Ligand}\" {PDB_ID}.pdb > {PDB_ID}-{Ligand}.pdb"
   ]
  },
  {
   "cell_type": "markdown",
   "metadata": {
    "id": "BFtBn4YxVjYk"
   },
   "source": [
    "# Variable assignment"
   ]
  },
  {
   "cell_type": "code",
   "execution_count": 5,
   "metadata": {
    "id": "DTfZKqsqUUDV"
   },
   "outputs": [],
   "source": [
    "Protein_PDB_file_name = PDB_ID + '-receptor.pdb'\n",
    "ligand_name = PDB_ID + '-' + Ligand + '.pdb'"
   ]
  },
  {
   "cell_type": "markdown",
   "metadata": {
    "id": "pZKX9tmTypnT"
   },
   "source": [
    "# PDBFixer to prepare the receptor"
   ]
  },
  {
   "cell_type": "code",
   "execution_count": 6,
   "metadata": {
    "id": "gld65kMi0Ka8"
   },
   "outputs": [
    {
     "name": "stdout",
     "output_type": "stream",
     "text": [
      "Warning: importing 'simtk.openmm' is deprecated.  Import 'openmm' instead.\n"
     ]
    }
   ],
   "source": [
    "!pdbfixer  {Protein_PDB_file_name} --ph=7  --replace-nonstandard --add-residues \n",
    "!cat output.pdb > receptor.pdb"
   ]
  },
  {
   "cell_type": "markdown",
   "metadata": {
    "id": "Yq55r4UdpoJg"
   },
   "source": [
    "# Caculating charges for receptor"
   ]
  },
  {
   "cell_type": "code",
   "execution_count": 7,
   "metadata": {
    "id": "y0IUuw0h0EO7",
    "tags": []
   },
   "outputs": [
    {
     "name": "stdout",
     "output_type": "stream",
     "text": [
      "1 molecule converted\n",
      "1 molecule converted\n"
     ]
    }
   ],
   "source": [
    "#@title Target and native ligand preparation before docking\n",
    "#!obabel {Protein_PDB_file_name} -xr -O receptor.pdbqt\n",
    "!obabel receptor.pdb -xr -O receptor.pdbqt\n",
    "!obabel {ligand_name} -O native_ligand.pdbqt"
   ]
  },
  {
   "cell_type": "markdown",
   "metadata": {
    "id": "Nev8kDowRvSK"
   },
   "source": [
    "# Prepare ligand"
   ]
  },
  {
   "cell_type": "code",
   "execution_count": 8,
   "metadata": {
    "cellView": "form",
    "id": "BYYzix2oCgF2"
   },
   "outputs": [
    {
     "name": "stdout",
     "output_type": "stream",
     "text": [
      "1 molecule converted\n"
     ]
    }
   ],
   "source": [
    "#@title Convert SMILE strings to SDF format\n",
    "!echo \"{smiles}\" > ligand2.smi\n",
    "!obabel ligand2.smi -osdf -O small.sdf --gen3d"
   ]
  },
  {
   "cell_type": "code",
   "execution_count": 9,
   "metadata": {
    "cellView": "form",
    "id": "2MrRF4lkCjzT"
   },
   "outputs": [
    {
     "data": {
      "text/plain": [
       "1"
      ]
     },
     "execution_count": 9,
     "metadata": {},
     "output_type": "execute_result"
    }
   ],
   "source": [
    "#@title Define small ligand path and number\n",
    "# File locations\n",
    "sdfFilePath = 'small.sdf' #@param {type:\"string\"}\n",
    "ConfoutputFilePath = 'small_conformation.sdf' #@param {type:\"string\"}\n",
    "\n",
    "inputMols = [x for x in Chem.SDMolSupplier(sdfFilePath,removeHs=False)]\n",
    "# Assign atomic chirality based on the structures:\n",
    "len(inputMols) # Check how many strucures"
   ]
  },
  {
   "cell_type": "code",
   "execution_count": 14,
   "metadata": {
    "cellView": "form",
    "id": "sKfSM19Jwj-f"
   },
   "outputs": [
    {
     "name": "stderr",
     "output_type": "stream",
     "text": [
      "Generating conformations; 100% Time: 0:00:00 |################################|\n"
     ]
    }
   ],
   "source": [
    "#@title SDF conformation generation for small molecule\n",
    "\n",
    "import multiprocessing\n",
    "\n",
    "# Download this from http://pypi.python.org/pypi/futures\n",
    "from concurrent import futures\n",
    "\n",
    "# conda install progressbar\n",
    "import progressbar\n",
    "\n",
    "#Find number cores available, leave two or system might be unresponsive\n",
    "numcores = multiprocessing.cpu_count()\n",
    "max_workers = numcores #-1\n",
    "\n",
    "#Knowledge based torsion generator http://pubs.acs.org/doi/abs/10.1021/acs.jcim.5b00654\n",
    "# This function is called in the subprocess.\n",
    "# The parameters (molecule and number of conformers) are passed via a Python\n",
    "\n",
    "ps = AllChem.ETKDG()\n",
    "ps.pruneRmsThresh=0.5\n",
    "ps.numThreads=0\n",
    "#Edit for number of confs desired eg n = 5\n",
    "n=5\n",
    "def generateconformations(m, n, name):\n",
    "    m = Chem.AddHs(m)\n",
    "    ids=AllChem.EmbedMultipleConfs(m, n, ps)\n",
    "    for id in ids:\n",
    "        AllChem.UFFOptimizeMolecule(m, confId=id)\n",
    "    # EmbedMultipleConfs returns a Boost-wrapped type which\n",
    "    # cannot be pickled. Convert it to a Python list, which can.\n",
    "    return m, list(ids), name\n",
    "\n",
    "smi_input_file, sdf_output_file = sys.argv[1:3]\n",
    "\n",
    "\n",
    "writer = Chem.SDWriter(ConfoutputFilePath)\n",
    "# suppl = [x for x in Chem.SDMolSupplier(sdfFilePath,removeHs=False)]\n",
    "#suppl = Chem.SmilesMolSupplier(smi_input_file, titleLine=False)\n",
    "\n",
    "# for mol in suppl:\n",
    "#     print(mol.GetPropsAsDict(includePrivate=True).get('_Name'))\n",
    "\n",
    "with futures.ProcessPoolExecutor(max_workers=max_workers) as executor:\n",
    "    # Submit a set of asynchronous jobs\n",
    "    jobs = []\n",
    "    for mol in inputMols:\n",
    "        if mol:\n",
    "            name = mol.GetProp('_Name')\n",
    "            job = executor.submit(generateconformations, mol, n, name)\n",
    "            jobs.append(job)\n",
    "\n",
    "    widgets = [\"Generating conformations; \", progressbar.Percentage(), \" \",\n",
    "               progressbar.ETA(), \" \", progressbar.Bar()]\n",
    "    pbar = progressbar.ProgressBar(widgets=widgets, maxval=len(jobs))\n",
    "    for job in pbar(futures.as_completed(jobs)):\n",
    "        mol, ids, name = job.result()\n",
    "        mol.SetProp('_Name', name)\n",
    "        for id in ids:\n",
    "            writer.write(mol, confId=id)\n",
    "writer.close()"
   ]
  },
  {
   "cell_type": "code",
   "execution_count": 11,
   "metadata": {},
   "outputs": [
    {
     "name": "stdout",
     "output_type": "stream",
     "text": [
      "Collecting package metadata (current_repodata.json): done\n",
      "Solving environment: done\n",
      "\n",
      "\n",
      "==> WARNING: A newer version of conda exists. <==\n",
      "  current version: 4.13.0\n",
      "  latest version: 23.1.0\n",
      "\n",
      "Please update conda by running\n",
      "\n",
      "    $ conda update -n base conda\n",
      "\n",
      "\n",
      "\n",
      "## Package Plan ##\n",
      "\n",
      "  environment location: /srv/conda/envs/notebook\n",
      "\n",
      "  added / updated specs:\n",
      "    - progressbar\n",
      "\n",
      "\n",
      "The following packages will be downloaded:\n",
      "\n",
      "    package                    |            build\n",
      "    ---------------------------|-----------------\n",
      "    progressbar-2.5            |             py_0          12 KB  conda-forge\n",
      "    ------------------------------------------------------------\n",
      "                                           Total:          12 KB\n",
      "\n",
      "The following NEW packages will be INSTALLED:\n",
      "\n",
      "  progressbar        conda-forge/noarch::progressbar-2.5-py_0\n",
      "\n",
      "\n",
      "\n",
      "Downloading and Extracting Packages\n",
      "progressbar-2.5      | 12 KB     | ##################################### | 100% \n",
      "Preparing transaction: done\n",
      "Verifying transaction: done\n",
      "Executing transaction: done\n"
     ]
    }
   ],
   "source": [
    "!conda install -c conda-forge progressbar -y"
   ]
  },
  {
   "cell_type": "markdown",
   "metadata": {
    "id": "0W-wd1QGRjXb"
   },
   "source": [
    "# Define Docking inputs variables"
   ]
  },
  {
   "cell_type": "code",
   "execution_count": 12,
   "metadata": {
    "cellView": "form",
    "id": "6N-veZedu3LD"
   },
   "outputs": [],
   "source": [
    "#@title 👋 Input names needed for Dock1\n",
    "ProteinForDocking = \"receptor.pdbqt\" #@param {type:\"string\"}\n",
    "LigandFromProtein = \"native_ligand.pdbqt\" #@param {type:\"string\"}\n",
    "Docked_out_FilePath = \"Docked.pdb\" #@param {type:\"string\"}\n",
    "FlexibleDockedFilePath = \"FlexibleDocked.sdf.gz\" #@param {type:\"string\"}"
   ]
  },
  {
   "cell_type": "markdown",
   "metadata": {
    "id": "eBRDz0YhaSEu"
   },
   "source": [
    "# Docking "
   ]
  },
  {
   "cell_type": "code",
   "execution_count": 15,
   "metadata": {
    "cellView": "form",
    "id": "HpT1N-2sGFtN"
   },
   "outputs": [
    {
     "name": "stdout",
     "output_type": "stream",
     "text": [
      "   _______  _______ _________ _        _______ \n",
      "  (  ____ \\(       )\\__   __/( (    /|(  ___  )\n",
      "  | (    \\/| () () |   ) (   |  \\  ( || (   ) |\n",
      "  | (_____ | || || |   | |   |   \\ | || (___) |\n",
      "  (_____  )| |(_)| |   | |   | (\\ \\) ||  ___  |\n",
      "        ) || |   | |   | |   | | \\   || (   ) |\n",
      "  /\\____) || )   ( |___) (___| )  \\  || )   ( |\n",
      "  \\_______)|/     \\|\\_______/|/    )_)|/     \\|\n",
      "\n",
      "\n",
      "smina is based off AutoDock Vina. Please cite appropriately.\n",
      "\n",
      "Weights      Terms\n",
      "-0.035579    gauss(o=0,_w=0.5,_c=8)\n",
      "-0.005156    gauss(o=3,_w=2,_c=8)\n",
      "0.840245     repulsion(o=0,_c=8)\n",
      "-0.035069    hydrophobic(g=0.5,_b=1.5,_c=8)\n",
      "-0.587439    non_dir_h_bond(g=-0.7,_b=0,_c=8)\n",
      "1.923        num_tors_div\n",
      "\n",
      "Using random seed: 0\n",
      "\n",
      "0%   10   20   30   40   50   60   70   80   90   100%\n",
      "|----|----|----|----|----|----|----|----|----|----|\n",
      "***************************************************\n",
      "\n",
      "mode |   affinity | dist from best mode\n",
      "     | (kcal/mol) | rmsd l.b.| rmsd u.b.\n",
      "-----+------------+----------+----------\n",
      "1       -5.6       0.000      0.000    \n",
      "2       -5.6       0.039      1.979    \n",
      "3       -5.6       0.038      2.427    \n",
      "4       -5.6       0.064      1.979    \n",
      "5       -5.6       0.249      2.315    \n",
      "6       -5.6       0.127      1.979    \n",
      "7       -4.1       2.653      4.058    \n",
      "8       -4.1       2.630      4.213    \n",
      "9       -4.0       2.696      4.152    \n",
      "Refine time 3.602\n",
      "Loop time 3.701\n"
     ]
    }
   ],
   "source": [
    "#@title  Normal Docking (docking box is 8Å greater than the ligand specified. The –exhaustiveness is 8 )\n",
    "!./smina.static --seed 0 --autobox_ligand '{LigandFromProtein}' -r '{ProteinForDocking}' -l '{ConfoutputFilePath}'  -o '{Docked_out_FilePath}'"
   ]
  },
  {
   "cell_type": "markdown",
   "metadata": {
    "id": "Ydb-TlS7WbAl"
   },
   "source": [
    "# Now you can download Docked.pdb and protein. Visualization"
   ]
  },
  {
   "cell_type": "markdown",
   "metadata": {
    "id": "CoByyqgKY_h1"
   },
   "source": [
    "# References\n",
    "\n",
    "All the dependencies used are open soured, they are \n",
    "\n",
    "*   rdkit\n",
    "*   openbabel\n",
    "*   py3Dmol \n",
    "*   pymol-open-source \n",
    "*   smina.static\n",
    "*   MDAnalysis\n",
    "*   ProLif\n",
    "*   Python 3.8\n",
    "*   conda\n",
    "*   colab conda\n",
    "\n",
    "- This notebook has referred [Is life worth living](https://www.cheminformania.com/ligand-docking-with-smina/)\n",
    "- Thi notebook has referred [Jupyter Notebook for docking either locally or using Colab](https://www.macinchem.org/reviews/JupyterDocking/jupyterdocking.php)\n",
    " "
   ]
  }
 ],
 "metadata": {
  "colab": {
   "name": "Free_Cloud_Docking.ipynb",
   "provenance": []
  },
  "kernelspec": {
   "display_name": "Python 3 (ipykernel)",
   "language": "python",
   "name": "python3"
  },
  "language_info": {
   "codemirror_mode": {
    "name": "ipython",
    "version": 3
   },
   "file_extension": ".py",
   "mimetype": "text/x-python",
   "name": "python",
   "nbconvert_exporter": "python",
   "pygments_lexer": "ipython3",
   "version": "3.8.16"
  },
  "toc-autonumbering": true,
  "toc-showmarkdowntxt": false
 },
 "nbformat": 4,
 "nbformat_minor": 4
}
