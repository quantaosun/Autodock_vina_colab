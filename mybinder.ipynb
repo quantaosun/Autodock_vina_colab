{
  "nbformat": 4,
  "nbformat_minor": 0,
  "metadata": {
    "kernelspec": {
      "display_name": "Python 3",
      "language": "python",
      "name": "py35-paddle1.2.0"
    },
    "language_info": {
      "codemirror_mode": {
        "name": "ipython",
        "version": 3
      },
      "file_extension": ".py",
      "mimetype": "text/x-python",
      "name": "python",
      "nbconvert_exporter": "python",
      "pygments_lexer": "ipython3",
      "version": "3.7.4"
    },
    "toc-autonumbering": true,
    "toc-showmarkdowntxt": false,
    "colab": {
      "name": "Free_Cloud_Docking.ipynb",
      "provenance": []
    }
  },
  "cells": [
    {
      "cell_type": "markdown",
      "metadata": {
        "id": "-VAb-v6K0EOy"
      },
      "source": [
        "# Programmatic Molecular Docking \n",
        "\n",
        "### Based on Vina-derived Smina. Obabel is used to calculate the protein charges. The docking grid is defined as the centre of the native ligand.\n",
        "\n",
        "- This notebook is written by https://github.com/quantaosun\n",
        "- what you get is ***the docking score + docked complex + a 2D image + a 3D interaction pymol session file*** \n",
        "- the docked complex and 2D image are readily to be used, The 3D pymol session need to be downloaded to a local pymol for further polish if you want a publication quality"
      ]
    },
    {
      "cell_type": "markdown",
      "source": [
        "# Please provide PDB ID and ligand structure you want to dock with"
      ],
      "metadata": {
        "id": "6KKs2IBRXDUh"
      }
    },
    {
      "cell_type": "code",
      "execution_count": null,
      "metadata": {
        "cellView": "form",
        "colab": {
          "base_uri": "https://localhost:8080/"
        },
        "id": "s5B8su8nB0mS",
        "outputId": "61e9724d-a815-489b-dae8-cb75cc0bf59b"
      },
      "outputs": [
        {
          "output_type": "stream",
          "name": "stdout",
          "text": [
            "/content\n",
            "--2023-02-27 05:54:08--  https://files.rcsb.org/download/7L10.pdb\n",
            "Resolving files.rcsb.org (files.rcsb.org)... 132.249.210.222\n",
            "Connecting to files.rcsb.org (files.rcsb.org)|132.249.210.222|:443... connected.\n",
            "HTTP request sent, awaiting response... 200 OK\n",
            "Length: unspecified [application/octet-stream]\n",
            "Saving to: ‘7L10.pdb’\n",
            "\n",
            "7L10.pdb                [ <=>                ] 241.42K  --.-KB/s    in 0.05s   \n",
            "\n",
            "2023-02-27 05:54:08 (4.74 MB/s) - ‘7L10.pdb’ saved [247212]\n",
            "\n"
          ]
        }
      ],
      "source": [
        "#@title Input expected from the user\n",
        "path = \".\" #@param {type:\"string\"}\n",
        "%cd '{path}'\n",
        "PDB_ID = \"3HTB\" #@param {type:\"string\"}\n",
        "pdb = PDB_ID + \".pdb\"\n",
        "! wget https://files.rcsb.org/download/$pdb\n",
        "#@title Ligand three-letter name\n",
        "Ligand = \"JZ4\" #@param {type:\"string\"}\n",
        "smiles = \"c1ccccc1\" #@param {type:\"string\"}\n"
      ]
    },
    {
      "cell_type": "code",
      "source": [
        "!wget --no-check-certificate https://sourceforge.net/projects/smina/files/smina.static/download -O smina.static 2>&1 1>/dev/null\n",
        "!chmod u+x smina.static"
      ],
      "metadata": {
        "id": "3o2JMZs-c5XN"
      },
      "execution_count": null,
      "outputs": []
    },
    {
      "cell_type": "code",
      "metadata": {
        "jupyter": {
          "source_hidden": true
        },
        "id": "QxFkBBWq0EO1"
      },
      "source": [
        "import sys\n",
        "import os\n",
        "from rdkit import Chem\n",
        "from rdkit.Chem import AllChem\n",
        "from rdkit.Chem import Draw\n",
        "from rdkit.Chem.Draw import IPythonConsole\n",
        "from rdkit.Chem import DataStructs\n",
        "from rdkit.Chem import RDConfig\n",
        "from rdkit.Chem import rdBase\n",
        "print(rdBase.rdkitVersion)"
      ],
      "execution_count": null,
      "outputs": []
    },
    {
      "cell_type": "markdown",
      "source": [
        "# Prepare receptor"
      ],
      "metadata": {
        "id": "AIUJdJuLRzs4"
      }
    },
    {
      "cell_type": "code",
      "source": [
        "!grep -v -e \"{Ligand}\" -e \"SO4\" -e \"CONECT\" -e \"HOH\" {PDB_ID}.pdb >  {PDB_ID}-receptor.pdb\n",
        "!grep \"{Ligand}\" {PDB_ID}.pdb > {PDB_ID}-{Ligand}.pdb"
      ],
      "metadata": {
        "id": "qWUs6wyNdFGh"
      },
      "execution_count": null,
      "outputs": []
    },
    {
      "cell_type": "markdown",
      "source": [
        "# Variable assignment"
      ],
      "metadata": {
        "id": "BFtBn4YxVjYk"
      }
    },
    {
      "cell_type": "code",
      "source": [
        "Protein_PDB_file_name = PDB_ID + '-receptor.pdb'\n",
        "ligand_name = PDB_ID + '-' + Ligand + '.pdb'"
      ],
      "metadata": {
        "id": "DTfZKqsqUUDV"
      },
      "execution_count": null,
      "outputs": []
    },
    {
      "cell_type": "markdown",
      "source": [
        "# PDBFixer to prepare the receptor"
      ],
      "metadata": {
        "id": "pZKX9tmTypnT"
      }
    },
    {
      "cell_type": "code",
      "source": [
        "!pdbfixer  {Protein_PDB_file_name} --ph=7  --replace-nonstandard --add-residues \n",
        "!cat output.pdb > receptor.pdb"
      ],
      "metadata": {
        "id": "gld65kMi0Ka8"
      },
      "execution_count": null,
      "outputs": []
    },
    {
      "cell_type": "markdown",
      "source": [
        "# Caculating charges for receptor"
      ],
      "metadata": {
        "id": "Yq55r4UdpoJg"
      }
    },
    {
      "cell_type": "code",
      "metadata": {
        "jupyter": {
          "source_hidden": true
        },
        "id": "y0IUuw0h0EO7"
      },
      "source": [
        "#@title Target and native ligand preparation before docking\n",
        "#!obabel {Protein_PDB_file_name} -xr -O receptor.pdbqt\n",
        "!obabel receptor.pdb -xr -O receptor.pdbqt\n",
        "!obabel {ligand_name} -O native_ligand.pdbqt"
      ],
      "execution_count": null,
      "outputs": []
    },
    {
      "cell_type": "markdown",
      "source": [
        "# Prepare ligand"
      ],
      "metadata": {
        "id": "Nev8kDowRvSK"
      }
    },
    {
      "cell_type": "code",
      "source": [
        "#@title Convert SMILE strings to SDF format\n",
        "!echo \"{smiles}\" > ligand2.smi\n",
        "!obabel ligand2.smi -osdf -O small.sdf --gen3d"
      ],
      "metadata": {
        "cellView": "form",
        "id": "BYYzix2oCgF2"
      },
      "execution_count": null,
      "outputs": []
    },
    {
      "cell_type": "code",
      "source": [
        "#@title Define small ligand path and number\n",
        "# File locations\n",
        "sdfFilePath = 'small.sdf' #@param {type:\"string\"}\n",
        "ConfoutputFilePath = 'small_conformation.sdf' #@param {type:\"string\"}\n",
        "\n",
        "inputMols = [x for x in Chem.SDMolSupplier(sdfFilePath,removeHs=False)]\n",
        "# Assign atomic chirality based on the structures:\n",
        "len(inputMols) # Check how many strucures"
      ],
      "metadata": {
        "cellView": "form",
        "id": "2MrRF4lkCjzT"
      },
      "execution_count": null,
      "outputs": []
    },
    {
      "cell_type": "code",
      "execution_count": null,
      "metadata": {
        "cellView": "form",
        "id": "sKfSM19Jwj-f"
      },
      "outputs": [],
      "source": [
        "#@title SDF conformation generation for small molecule\n",
        "\n",
        "import multiprocessing\n",
        "\n",
        "# Download this from http://pypi.python.org/pypi/futures\n",
        "from concurrent import futures\n",
        "\n",
        "# conda install progressbar\n",
        "import progressbar\n",
        "\n",
        "#Find number cores available, leave two or system might be unresponsive\n",
        "numcores = multiprocessing.cpu_count()\n",
        "max_workers = numcores #-1\n",
        "\n",
        "#Knowledge based torsion generator http://pubs.acs.org/doi/abs/10.1021/acs.jcim.5b00654\n",
        "# This function is called in the subprocess.\n",
        "# The parameters (molecule and number of conformers) are passed via a Python\n",
        "\n",
        "ps = AllChem.ETKDG()\n",
        "ps.pruneRmsThresh=0.5\n",
        "ps.numThreads=0\n",
        "#Edit for number of confs desired eg n = 5\n",
        "n=5\n",
        "def generateconformations(m, n, name):\n",
        "    m = Chem.AddHs(m)\n",
        "    ids=AllChem.EmbedMultipleConfs(m, n, ps)\n",
        "    for id in ids:\n",
        "        AllChem.UFFOptimizeMolecule(m, confId=id)\n",
        "    # EmbedMultipleConfs returns a Boost-wrapped type which\n",
        "    # cannot be pickled. Convert it to a Python list, which can.\n",
        "    return m, list(ids), name\n",
        "\n",
        "smi_input_file, sdf_output_file = sys.argv[1:3]\n",
        "\n",
        "\n",
        "writer = Chem.SDWriter(ConfoutputFilePath)\n",
        "# suppl = [x for x in Chem.SDMolSupplier(sdfFilePath,removeHs=False)]\n",
        "#suppl = Chem.SmilesMolSupplier(smi_input_file, titleLine=False)\n",
        "\n",
        "# for mol in suppl:\n",
        "#     print(mol.GetPropsAsDict(includePrivate=True).get('_Name'))\n",
        "\n",
        "with futures.ProcessPoolExecutor(max_workers=max_workers) as executor:\n",
        "    # Submit a set of asynchronous jobs\n",
        "    jobs = []\n",
        "    for mol in inputMols:\n",
        "        if mol:\n",
        "            name = mol.GetProp('_Name')\n",
        "            job = executor.submit(generateconformations, mol, n, name)\n",
        "            jobs.append(job)\n",
        "\n",
        "    widgets = [\"Generating conformations; \", progressbar.Percentage(), \" \",\n",
        "               progressbar.ETA(), \" \", progressbar.Bar()]\n",
        "    pbar = progressbar.ProgressBar(widgets=widgets, maxval=len(jobs))\n",
        "    for job in pbar(futures.as_completed(jobs)):\n",
        "        mol, ids, name = job.result()\n",
        "        mol.SetProp('_Name', name)\n",
        "        for id in ids:\n",
        "            writer.write(mol, confId=id)\n",
        "writer.close()"
      ]
    },
    {
      "cell_type": "markdown",
      "source": [
        "# Define Docking inputs variables"
      ],
      "metadata": {
        "id": "0W-wd1QGRjXb"
      }
    },
    {
      "cell_type": "code",
      "execution_count": null,
      "metadata": {
        "cellView": "form",
        "id": "6N-veZedu3LD"
      },
      "outputs": [],
      "source": [
        "#@title 👋 Input names needed for Dock1\n",
        "ProteinForDocking = \"receptor.pdbqt\" #@param {type:\"string\"}\n",
        "LigandFromProtein = \"native_ligand.pdbqt\" #@param {type:\"string\"}\n",
        "Docked_out_FilePath = \"Docked.pdb\" #@param {type:\"string\"}\n",
        "FlexibleDockedFilePath = \"FlexibleDocked.sdf.gz\" #@param {type:\"string\"}"
      ]
    },
    {
      "cell_type": "markdown",
      "source": [
        "# Docking "
      ],
      "metadata": {
        "id": "eBRDz0YhaSEu"
      }
    },
    {
      "cell_type": "code",
      "source": [
        "#@title  Normal Docking (docking box is 8Å greater than the ligand specified. The –exhaustiveness is 8 )\n",
        "!./smina.static --seed 0 --autobox_ligand '{LigandFromProtein}' -r '{ProteinForDocking}' -l '{ConfoutputFilePath}'  -o '{Docked_out_FilePath}'"
      ],
      "metadata": {
        "cellView": "form",
        "id": "HpT1N-2sGFtN"
      },
      "execution_count": null,
      "outputs": []
    },
    {
      "cell_type": "markdown",
      "source": [
        "# Convert docked ligand to sdf"
      ],
      "metadata": {
        "id": "Ydb-TlS7WbAl"
      }
    },
    {
      "cell_type": "code",
      "metadata": {
        "id": "eAwnSc3n0EO7"
      },
      "source": [
        "!obabel Docked.pdb -O Docked.sdf"
      ],
      "execution_count": null,
      "outputs": []
    },
    {
      "cell_type": "markdown",
      "source": [
        "# Visulization of Docked result\n",
        "\n",
        "\n",
        "\n"
      ],
      "metadata": {
        "id": "rC1idNnsnlkk"
      }
    },
    {
      "cell_type": "code",
      "source": [
        "#@title Define display style\n",
        "#@title Define receptor name\n",
        "TargetProtein = Protein_PDB_file_name\n",
        "def DrawDocking(protein,ligand):\n",
        "     complex_pl = Chem.MolToPDBBlock(protein)\n",
        "     docked_pdb = Chem.MolToPDBBlock(ligand)\n",
        "     viewer = py3Dmol.view(width=800,height=800)\n",
        "     viewer.addModel(complex_pl,'pdb')\n",
        "     viewer.addModel(docked_pdb)\n",
        "     prot = {'resn': [\"DMS\", \"UNL\", \"SO4\", \"LIG\", \"HOH\", \"Cl\"], 'invert': 1}  #define prot as all except list\n",
        "     viewer.setStyle(prot,{'cartoon': {'colorscheme':'ssPyMol'}}) # Colour by secondary structure\n",
        "     Lig_373 = {'resn' : 'LIG'} #original ligand in pdb file\n",
        "     MyLig = {'resn':'UNL'} #ligand to be added from docking\n",
        "     viewer.addSurface(py3Dmol.VDW,{'opacity':0.7, 'color': 'white'}, prot)\n",
        "     viewer.setStyle({'resi': '132'}, {'stick': {'colorscheme': 'blueCarbon'}})\n",
        "     viewer.setStyle({'resi': '147'}, {'stick': {'colorscheme': 'blueCarbon'}})\n",
        "     viewer.setStyle({'resi': '311'}, {'stick': {'colorscheme': 'blueCarbon'}})\n",
        "     viewer.setStyle(Lig_373,{'stick':{'colorscheme': 'whiteCarbon','radius':.1}}) \n",
        "     viewer.setStyle(MyLig,{'stick':{'colorscheme' : 'greenCarbon'}})\n",
        "     viewer.zoomTo(MyLig)\n",
        "     return viewer "
      ],
      "metadata": {
        "id": "QG8-WFP0zAJ8",
        "cellView": "form"
      },
      "execution_count": null,
      "outputs": []
    },
    {
      "cell_type": "code",
      "metadata": {
        "jupyter": {
          "source_hidden": true
        },
        "cellView": "form",
        "id": "7MvHqxEU0EO7"
      },
      "source": [
        "#@title Import visualization software\n",
        "\n",
        "import py3Dmol\n",
        "\n",
        "def drawit2(m,confId=-1):\n",
        "    mb = Chem.MolToMolBlock(m,confId=confId)\n",
        "    p = py3Dmol.view(width=400, height=400)\n",
        "    p.addModel(mb,'sdf')\n",
        "    p.setStyle({'stick':{}})\n",
        "    p.setBackgroundColor('0xeeeeee')\n",
        "    p.zoomTo()\n",
        "    return p\n",
        "\n",
        "def DrawComplex(protein,ligand):\n",
        "    complex_pl = Chem.MolToPDBBlock(Chem.CombineMols(protein,ligand))\n",
        "    #complex_mol=Chem.CombineMols(receptor,mols[-1])\n",
        "    view = py3Dmol.view(width=600,height=600)\n",
        "    view.addModel(complex_pl,'pdb')\n",
        "    #view.addModel(Chem.MolToMolBlock(mols[0]),'sdf')\n",
        "    chA = {'chain':['H','L','I']}\n",
        "    chB = {'resn':'UNL'}\n",
        "    view.setStyle(chA,{'cartoon': {'color':'spectrum'}})\n",
        "    #view.setStyle(chA,{'lines': {}})\n",
        "    view.addSurface(py3Dmol.VDW,{'opacity':0.8}, chB)\n",
        "    view.setStyle(chB,{'stick':{}})\n",
        "    view.zoomTo()\n",
        "    return view   \n"
      ],
      "execution_count": null,
      "outputs": []
    },
    {
      "cell_type": "code",
      "source": [
        "#@title View docked ligand\n",
        "#pose = \"2\" #@param [\"0\", \"1\", \"2\", \"3\", \"4\", \"5\", \"6\", \"7\", \"8\"]\n",
        "mols = [m for m in Chem.SDMolSupplier('Docked.sdf') if m is not None]\n",
        "#drawit2(mols[1])"
      ],
      "metadata": {
        "cellView": "form",
        "id": "8ng6uFiBN_M-"
      },
      "execution_count": null,
      "outputs": []
    },
    {
      "cell_type": "code",
      "source": [
        "#@title Show docked top1 (zoom out)\n",
        "receptor = Chem.MolFromPDBFile(TargetProtein)\n",
        "DrawComplex(receptor,mols[0])"
      ],
      "metadata": {
        "id": "vWtjk5XVzBf3",
        "cellView": "form"
      },
      "execution_count": null,
      "outputs": []
    },
    {
      "cell_type": "code",
      "source": [
        "#@title Show the docked pocket (zoom in)\n",
        "receptor = Chem.MolFromPDBFile(TargetProtein)\n",
        "DrawDocking(receptor,mols[0])"
      ],
      "metadata": {
        "cellView": "form",
        "id": "wa4NnC4MRKEI"
      },
      "execution_count": null,
      "outputs": []
    },
    {
      "cell_type": "markdown",
      "source": [
        "# Export the receptor and fix it with PDBfixer,\n",
        "Before receptor is merged, we want to make sure it is well fixed"
      ],
      "metadata": {
        "id": "9NMNSGndkqPV"
      }
    },
    {
      "cell_type": "markdown",
      "source": [
        "# Export the top1 docked ligand and add H.\n",
        "To achieve this, we convert pdb to mol2, then back to pdb. "
      ],
      "metadata": {
        "id": "EJsvj08Z7ybG"
      }
    },
    {
      "cell_type": "code",
      "source": [
        "m=Chem.MolFromPDBFile('Docked.pdb')\n",
        "Draw.MolToImage(m)"
      ],
      "metadata": {
        "id": "vigO8Iaw7DCT"
      },
      "execution_count": null,
      "outputs": []
    },
    {
      "cell_type": "code",
      "source": [
        "!obabel -ipdb Docked.pdb -omol2 -O Docked.mol2 -m -h"
      ],
      "metadata": {
        "id": "zMzqY4Mh7Oyx"
      },
      "execution_count": null,
      "outputs": []
    },
    {
      "cell_type": "code",
      "source": [
        "m=Chem.MolFromMol2File('Docked1.mol2',sanitize=False)\n",
        "Draw.MolToImage(m)"
      ],
      "metadata": {
        "id": "HxiI6Tg27TMZ"
      },
      "execution_count": null,
      "outputs": []
    },
    {
      "cell_type": "code",
      "source": [
        "!obabel -imol2 Docked1.mol2 -opdb -O Docked1.pdb -h"
      ],
      "metadata": {
        "id": "tgyLnj_F7TPA"
      },
      "execution_count": null,
      "outputs": []
    },
    {
      "cell_type": "code",
      "source": [
        "m=Chem.MolFromPDBFile('Docked1.pdb')\n",
        "Draw.MolToImage(m)"
      ],
      "metadata": {
        "id": "os-vj1Y47TRr"
      },
      "execution_count": null,
      "outputs": []
    },
    {
      "cell_type": "markdown",
      "source": [
        "# References\n",
        "\n",
        "All the dependencies used are open soured, they are \n",
        "\n",
        "*   rdkit\n",
        "*   openbabel\n",
        "*   py3Dmol \n",
        "*   pymol-open-source \n",
        "*   smina.static\n",
        "*   MDAnalysis\n",
        "*   ProLif\n",
        "*   Python 3.8\n",
        "*   conda\n",
        "*   colab conda\n",
        "\n",
        "- This notebook has referred [Is life worth living](https://www.cheminformania.com/ligand-docking-with-smina/)\n",
        "- Thi notebook has referred [Jupyter Notebook for docking either locally or using Colab](https://www.macinchem.org/reviews/JupyterDocking/jupyterdocking.php)\n",
        " "
      ],
      "metadata": {
        "id": "CoByyqgKY_h1"
      }
    }
  ]
}